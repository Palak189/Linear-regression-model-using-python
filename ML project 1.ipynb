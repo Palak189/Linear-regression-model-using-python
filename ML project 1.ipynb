{
 "cells": [
  {
   "cell_type": "markdown",
   "id": "94647739-a132-4b42-92be-984ea8a18c29",
   "metadata": {},
   "source": [
    "# MACHINE LEARNING PROJECT"
   ]
  },
  {
   "cell_type": "markdown",
   "id": "7e09ccb0-07fe-423c-ac85-754a18440833",
   "metadata": {},
   "source": [
    "## Importing necessary modules"
   ]
  },
  {
   "cell_type": "code",
   "execution_count": 1,
   "id": "78cafe70-29a4-463e-a086-463d659cec09",
   "metadata": {},
   "outputs": [],
   "source": [
    "import numpy as np\n",
    "import pandas as pd\n",
    "import seaborn as sns\n",
    "import matplotlib.pyplot as plt\n",
    "from sklearn.linear_model import LinearRegression\n",
    "from sklearn.metrics import r2_score,mean_squared_error"
   ]
  },
  {
   "cell_type": "markdown",
   "id": "d2d19d55-d2a6-4b5e-931b-723867f2dfdf",
   "metadata": {},
   "source": [
    "# DATA COLLECTION"
   ]
  },
  {
   "cell_type": "code",
   "execution_count": 2,
   "id": "dfeaa0f8-3787-40a0-8ed8-6532e59506f7",
   "metadata": {},
   "outputs": [],
   "source": [
    "#importing main data as df1\n",
    "df1=pd.read_csv(\"C:/Users/The Computer World/jupyter resources/ML case Study.csv\" , header=0)"
   ]
  },
  {
   "cell_type": "code",
   "execution_count": 3,
   "id": "36f3c592-0281-483f-bfed-2679b41763b2",
   "metadata": {},
   "outputs": [],
   "source": [
    "#importing cities file as city\n",
    "city=pd.read_csv(\"C:/Users/The Computer World/jupyter resources/cities.csv\" , header=0)"
   ]
  },
  {
   "cell_type": "code",
   "execution_count": 4,
   "id": "01a7ceba-4dec-43a6-99b8-439e018d56d0",
   "metadata": {},
   "outputs": [
    {
     "data": {
      "text/html": [
       "<div>\n",
       "<style scoped>\n",
       "    .dataframe tbody tr th:only-of-type {\n",
       "        vertical-align: middle;\n",
       "    }\n",
       "\n",
       "    .dataframe tbody tr th {\n",
       "        vertical-align: top;\n",
       "    }\n",
       "\n",
       "    .dataframe thead th {\n",
       "        text-align: right;\n",
       "    }\n",
       "</style>\n",
       "<table border=\"1\" class=\"dataframe\">\n",
       "  <thead>\n",
       "    <tr style=\"text-align: right;\">\n",
       "      <th></th>\n",
       "      <th>Metrio City</th>\n",
       "      <th>non-metro cities</th>\n",
       "    </tr>\n",
       "  </thead>\n",
       "  <tbody>\n",
       "    <tr>\n",
       "      <th>0</th>\n",
       "      <td>Mumbai</td>\n",
       "      <td>Dehradun</td>\n",
       "    </tr>\n",
       "    <tr>\n",
       "      <th>1</th>\n",
       "      <td>Delhi</td>\n",
       "      <td>Durgapur</td>\n",
       "    </tr>\n",
       "    <tr>\n",
       "      <th>2</th>\n",
       "      <td>Kolkata</td>\n",
       "      <td>Asansol</td>\n",
       "    </tr>\n",
       "    <tr>\n",
       "      <th>3</th>\n",
       "      <td>Chennai</td>\n",
       "      <td>Rourkela</td>\n",
       "    </tr>\n",
       "    <tr>\n",
       "      <th>4</th>\n",
       "      <td>Bangalore</td>\n",
       "      <td>Kozhikode</td>\n",
       "    </tr>\n",
       "  </tbody>\n",
       "</table>\n",
       "</div>"
      ],
      "text/plain": [
       "  Metrio City non-metro cities\n",
       "0      Mumbai         Dehradun\n",
       "1       Delhi         Durgapur\n",
       "2     Kolkata          Asansol\n",
       "3     Chennai         Rourkela\n",
       "4   Bangalore        Kozhikode"
      ]
     },
     "execution_count": 4,
     "metadata": {},
     "output_type": "execute_result"
    }
   ],
   "source": [
    "#first 5 rows of city data\n",
    "city.head()"
   ]
  },
  {
   "cell_type": "code",
   "execution_count": 5,
   "id": "ce00eb62-92ab-4b44-a17d-87f8c1a4b456",
   "metadata": {},
   "outputs": [],
   "source": [
    "# importing colleges file as college\n",
    "college=pd.read_csv(\"C:/Users/The Computer World/jupyter resources/Colleges.csv\" , header=0)"
   ]
  },
  {
   "cell_type": "code",
   "execution_count": 6,
   "id": "d73cf9c4-995a-4530-b319-695ab50d0822",
   "metadata": {},
   "outputs": [
    {
     "data": {
      "text/html": [
       "<div>\n",
       "<style scoped>\n",
       "    .dataframe tbody tr th:only-of-type {\n",
       "        vertical-align: middle;\n",
       "    }\n",
       "\n",
       "    .dataframe tbody tr th {\n",
       "        vertical-align: top;\n",
       "    }\n",
       "\n",
       "    .dataframe thead th {\n",
       "        text-align: right;\n",
       "    }\n",
       "</style>\n",
       "<table border=\"1\" class=\"dataframe\">\n",
       "  <thead>\n",
       "    <tr style=\"text-align: right;\">\n",
       "      <th></th>\n",
       "      <th>Tier 1</th>\n",
       "      <th>Tier 2</th>\n",
       "      <th>Tier 3</th>\n",
       "    </tr>\n",
       "  </thead>\n",
       "  <tbody>\n",
       "    <tr>\n",
       "      <th>0</th>\n",
       "      <td>IIT Bombay</td>\n",
       "      <td>IIIT Bangalore</td>\n",
       "      <td>Ramaiah Institute of Technology, Bengaluru</td>\n",
       "    </tr>\n",
       "    <tr>\n",
       "      <th>1</th>\n",
       "      <td>IIT Delhi</td>\n",
       "      <td>IIIT Delhi</td>\n",
       "      <td>TIET/Thapar University</td>\n",
       "    </tr>\n",
       "    <tr>\n",
       "      <th>2</th>\n",
       "      <td>IIT Kharagpur</td>\n",
       "      <td>IGDTUW</td>\n",
       "      <td>Manipal Main Campus</td>\n",
       "    </tr>\n",
       "    <tr>\n",
       "      <th>3</th>\n",
       "      <td>IIT Madras</td>\n",
       "      <td>NIT Calicut</td>\n",
       "      <td>VIT Vellore</td>\n",
       "    </tr>\n",
       "    <tr>\n",
       "      <th>4</th>\n",
       "      <td>IIT Kanpur</td>\n",
       "      <td>IIITM Gwalior</td>\n",
       "      <td>SRM Main Campus</td>\n",
       "    </tr>\n",
       "  </tbody>\n",
       "</table>\n",
       "</div>"
      ],
      "text/plain": [
       "          Tier 1          Tier 2                                      Tier 3\n",
       "0     IIT Bombay  IIIT Bangalore  Ramaiah Institute of Technology, Bengaluru\n",
       "1      IIT Delhi      IIIT Delhi                      TIET/Thapar University\n",
       "2  IIT Kharagpur          IGDTUW                         Manipal Main Campus\n",
       "3     IIT Madras     NIT Calicut                                 VIT Vellore\n",
       "4     IIT Kanpur   IIITM Gwalior                             SRM Main Campus"
      ]
     },
     "execution_count": 6,
     "metadata": {},
     "output_type": "execute_result"
    }
   ],
   "source": [
    "#first 5 rows of college data\n",
    "college.head()"
   ]
  },
  {
   "cell_type": "code",
   "execution_count": 7,
   "id": "e0971d8e-370e-4b32-940c-ca7f9ae94f74",
   "metadata": {},
   "outputs": [],
   "source": [
    "#converting college data into list using tolist() function\n",
    "Tier1=college[\"Tier 1\"].tolist()\n",
    "Tier2=college[\"Tier 2\"].tolist()\n",
    "Tier3=college[\"Tier 3\"].tolist()"
   ]
  },
  {
   "cell_type": "code",
   "execution_count": 8,
   "id": "990f0538-12dc-46b7-a95a-19ffc91d9893",
   "metadata": {},
   "outputs": [],
   "source": [
    "#replacing college name in main data with 1,2,3 as 1 for college that belongs to Tier1,2 for Tier2 college and 3 for Tier3 college using if else statement.\n",
    "for item in df1.College:\n",
    "    if item in Tier1:\n",
    "        df1[\"College\"].replace(item,1,inplace=True)\n",
    "    elif item in Tier2:\n",
    "        df1[\"College\"].replace(item,2,inplace=True)\n",
    "    elif item in Tier3:\n",
    "        df1[\"College\"].replace(item,3,inplace=True)"
   ]
  },
  {
   "cell_type": "code",
   "execution_count": 9,
   "id": "1a6fcf0b-fbf8-4a77-95f9-35d6871cf5c4",
   "metadata": {},
   "outputs": [],
   "source": [
    "##converting city data into list using tolist() function\n",
    "metro=city[\"Metrio City\"].tolist()\n",
    "nonmetro=city[\"non-metro cities\"].tolist()"
   ]
  },
  {
   "cell_type": "code",
   "execution_count": 10,
   "id": "89a88026-1339-45fc-aae1-e8381d002364",
   "metadata": {},
   "outputs": [],
   "source": [
    "#replacing cities name in main data with 0,1 as 0 for metro cities,1 for non-metro cities using if else statement.\n",
    "for item in df1.City:\n",
    "    if item in metro:\n",
    "        df1[\"City\"].replace(item,0,inplace=True)\n",
    "    elif item in nonmetro:\n",
    "        df1[\"City\"].replace(item,1,inplace=True)"
   ]
  },
  {
   "cell_type": "markdown",
   "id": "262eb074-27dd-42a2-b79e-e3ac00b1ced4",
   "metadata": {},
   "source": [
    "# DATA EXPLORATION"
   ]
  },
  {
   "cell_type": "code",
   "execution_count": 11,
   "id": "cc202c2d-485c-40b4-abec-571f266294d0",
   "metadata": {},
   "outputs": [
    {
     "data": {
      "text/html": [
       "<div>\n",
       "<style scoped>\n",
       "    .dataframe tbody tr th:only-of-type {\n",
       "        vertical-align: middle;\n",
       "    }\n",
       "\n",
       "    .dataframe tbody tr th {\n",
       "        vertical-align: top;\n",
       "    }\n",
       "\n",
       "    .dataframe thead th {\n",
       "        text-align: right;\n",
       "    }\n",
       "</style>\n",
       "<table border=\"1\" class=\"dataframe\">\n",
       "  <thead>\n",
       "    <tr style=\"text-align: right;\">\n",
       "      <th></th>\n",
       "      <th>College</th>\n",
       "      <th>City</th>\n",
       "      <th>Role</th>\n",
       "      <th>Previous CTC</th>\n",
       "      <th>Previous job change</th>\n",
       "      <th>Graduation Marks</th>\n",
       "      <th>EXP (Month)</th>\n",
       "      <th>CTC</th>\n",
       "    </tr>\n",
       "  </thead>\n",
       "  <tbody>\n",
       "    <tr>\n",
       "      <th>0</th>\n",
       "      <td>2</td>\n",
       "      <td>1</td>\n",
       "      <td>Manager</td>\n",
       "      <td>55523.0</td>\n",
       "      <td>3</td>\n",
       "      <td>66</td>\n",
       "      <td>19</td>\n",
       "      <td>71406.58</td>\n",
       "    </tr>\n",
       "    <tr>\n",
       "      <th>1</th>\n",
       "      <td>2</td>\n",
       "      <td>1</td>\n",
       "      <td>Executive</td>\n",
       "      <td>57081.0</td>\n",
       "      <td>1</td>\n",
       "      <td>84</td>\n",
       "      <td>18</td>\n",
       "      <td>68005.87</td>\n",
       "    </tr>\n",
       "    <tr>\n",
       "      <th>2</th>\n",
       "      <td>3</td>\n",
       "      <td>1</td>\n",
       "      <td>Executive</td>\n",
       "      <td>60347.0</td>\n",
       "      <td>2</td>\n",
       "      <td>52</td>\n",
       "      <td>28</td>\n",
       "      <td>76764.02</td>\n",
       "    </tr>\n",
       "    <tr>\n",
       "      <th>3</th>\n",
       "      <td>3</td>\n",
       "      <td>1</td>\n",
       "      <td>Executive</td>\n",
       "      <td>49010.0</td>\n",
       "      <td>2</td>\n",
       "      <td>81</td>\n",
       "      <td>33</td>\n",
       "      <td>82092.39</td>\n",
       "    </tr>\n",
       "    <tr>\n",
       "      <th>4</th>\n",
       "      <td>1</td>\n",
       "      <td>1</td>\n",
       "      <td>Executive</td>\n",
       "      <td>57879.0</td>\n",
       "      <td>4</td>\n",
       "      <td>74</td>\n",
       "      <td>32</td>\n",
       "      <td>73878.10</td>\n",
       "    </tr>\n",
       "  </tbody>\n",
       "</table>\n",
       "</div>"
      ],
      "text/plain": [
       "   College  City       Role  Previous CTC  Previous job change  \\\n",
       "0        2     1    Manager       55523.0                    3   \n",
       "1        2     1  Executive       57081.0                    1   \n",
       "2        3     1  Executive       60347.0                    2   \n",
       "3        3     1  Executive       49010.0                    2   \n",
       "4        1     1  Executive       57879.0                    4   \n",
       "\n",
       "   Graduation Marks  EXP (Month)       CTC  \n",
       "0                66           19  71406.58  \n",
       "1                84           18  68005.87  \n",
       "2                52           28  76764.02  \n",
       "3                81           33  82092.39  \n",
       "4                74           32  73878.10  "
      ]
     },
     "execution_count": 11,
     "metadata": {},
     "output_type": "execute_result"
    }
   ],
   "source": [
    "#first 5 rows of main data\n",
    "df1.head()"
   ]
  },
  {
   "cell_type": "code",
   "execution_count": 12,
   "id": "1f87085e-7bcd-4725-97d3-508d665c534d",
   "metadata": {},
   "outputs": [
    {
     "data": {
      "text/html": [
       "<div>\n",
       "<style scoped>\n",
       "    .dataframe tbody tr th:only-of-type {\n",
       "        vertical-align: middle;\n",
       "    }\n",
       "\n",
       "    .dataframe tbody tr th {\n",
       "        vertical-align: top;\n",
       "    }\n",
       "\n",
       "    .dataframe thead th {\n",
       "        text-align: right;\n",
       "    }\n",
       "</style>\n",
       "<table border=\"1\" class=\"dataframe\">\n",
       "  <thead>\n",
       "    <tr style=\"text-align: right;\">\n",
       "      <th></th>\n",
       "      <th>College</th>\n",
       "      <th>City</th>\n",
       "      <th>Previous CTC</th>\n",
       "      <th>Previous job change</th>\n",
       "      <th>Graduation Marks</th>\n",
       "      <th>EXP (Month)</th>\n",
       "      <th>CTC</th>\n",
       "    </tr>\n",
       "  </thead>\n",
       "  <tbody>\n",
       "    <tr>\n",
       "      <th>count</th>\n",
       "      <td>1589.000000</td>\n",
       "      <td>1589.000000</td>\n",
       "      <td>1589.000000</td>\n",
       "      <td>1589.000000</td>\n",
       "      <td>1589.000000</td>\n",
       "      <td>1589.000000</td>\n",
       "      <td>1589.000000</td>\n",
       "    </tr>\n",
       "    <tr>\n",
       "      <th>mean</th>\n",
       "      <td>1.975456</td>\n",
       "      <td>0.485840</td>\n",
       "      <td>55518.453744</td>\n",
       "      <td>2.528634</td>\n",
       "      <td>59.855255</td>\n",
       "      <td>39.044682</td>\n",
       "      <td>75353.278798</td>\n",
       "    </tr>\n",
       "    <tr>\n",
       "      <th>std</th>\n",
       "      <td>0.838330</td>\n",
       "      <td>0.499957</td>\n",
       "      <td>6655.218445</td>\n",
       "      <td>1.123918</td>\n",
       "      <td>14.935139</td>\n",
       "      <td>14.108875</td>\n",
       "      <td>12587.288237</td>\n",
       "    </tr>\n",
       "    <tr>\n",
       "      <th>min</th>\n",
       "      <td>1.000000</td>\n",
       "      <td>0.000000</td>\n",
       "      <td>36990.000000</td>\n",
       "      <td>1.000000</td>\n",
       "      <td>35.000000</td>\n",
       "      <td>18.000000</td>\n",
       "      <td>53020.320000</td>\n",
       "    </tr>\n",
       "    <tr>\n",
       "      <th>25%</th>\n",
       "      <td>1.000000</td>\n",
       "      <td>0.000000</td>\n",
       "      <td>50518.000000</td>\n",
       "      <td>2.000000</td>\n",
       "      <td>46.000000</td>\n",
       "      <td>26.000000</td>\n",
       "      <td>66902.350000</td>\n",
       "    </tr>\n",
       "    <tr>\n",
       "      <th>50%</th>\n",
       "      <td>2.000000</td>\n",
       "      <td>0.000000</td>\n",
       "      <td>55291.000000</td>\n",
       "      <td>3.000000</td>\n",
       "      <td>60.000000</td>\n",
       "      <td>39.000000</td>\n",
       "      <td>73028.670000</td>\n",
       "    </tr>\n",
       "    <tr>\n",
       "      <th>75%</th>\n",
       "      <td>3.000000</td>\n",
       "      <td>1.000000</td>\n",
       "      <td>60109.000000</td>\n",
       "      <td>4.000000</td>\n",
       "      <td>73.000000</td>\n",
       "      <td>51.000000</td>\n",
       "      <td>80588.670000</td>\n",
       "    </tr>\n",
       "    <tr>\n",
       "      <th>max</th>\n",
       "      <td>3.000000</td>\n",
       "      <td>1.000000</td>\n",
       "      <td>77911.000000</td>\n",
       "      <td>4.000000</td>\n",
       "      <td>85.000000</td>\n",
       "      <td>64.000000</td>\n",
       "      <td>123416.990000</td>\n",
       "    </tr>\n",
       "  </tbody>\n",
       "</table>\n",
       "</div>"
      ],
      "text/plain": [
       "           College         City  Previous CTC  Previous job change  \\\n",
       "count  1589.000000  1589.000000   1589.000000          1589.000000   \n",
       "mean      1.975456     0.485840  55518.453744             2.528634   \n",
       "std       0.838330     0.499957   6655.218445             1.123918   \n",
       "min       1.000000     0.000000  36990.000000             1.000000   \n",
       "25%       1.000000     0.000000  50518.000000             2.000000   \n",
       "50%       2.000000     0.000000  55291.000000             3.000000   \n",
       "75%       3.000000     1.000000  60109.000000             4.000000   \n",
       "max       3.000000     1.000000  77911.000000             4.000000   \n",
       "\n",
       "       Graduation Marks  EXP (Month)            CTC  \n",
       "count       1589.000000  1589.000000    1589.000000  \n",
       "mean          59.855255    39.044682   75353.278798  \n",
       "std           14.935139    14.108875   12587.288237  \n",
       "min           35.000000    18.000000   53020.320000  \n",
       "25%           46.000000    26.000000   66902.350000  \n",
       "50%           60.000000    39.000000   73028.670000  \n",
       "75%           73.000000    51.000000   80588.670000  \n",
       "max           85.000000    64.000000  123416.990000  "
      ]
     },
     "execution_count": 12,
     "metadata": {},
     "output_type": "execute_result"
    }
   ],
   "source": [
    "#summary statistics\n",
    "df1.describe()"
   ]
  },
  {
   "cell_type": "code",
   "execution_count": 13,
   "id": "e616ebc8-bbb4-4ac8-b99b-1e1d1ab80e43",
   "metadata": {},
   "outputs": [
    {
     "name": "stdout",
     "output_type": "stream",
     "text": [
      "<class 'pandas.core.frame.DataFrame'>\n",
      "RangeIndex: 1589 entries, 0 to 1588\n",
      "Data columns (total 8 columns):\n",
      " #   Column               Non-Null Count  Dtype  \n",
      "---  ------               --------------  -----  \n",
      " 0   College              1589 non-null   int64  \n",
      " 1   City                 1589 non-null   int64  \n",
      " 2   Role                 1589 non-null   object \n",
      " 3   Previous CTC         1589 non-null   float64\n",
      " 4   Previous job change  1589 non-null   int64  \n",
      " 5   Graduation Marks     1589 non-null   int64  \n",
      " 6   EXP (Month)          1589 non-null   int64  \n",
      " 7   CTC                  1589 non-null   float64\n",
      "dtypes: float64(2), int64(5), object(1)\n",
      "memory usage: 99.4+ KB\n"
     ]
    }
   ],
   "source": [
    "#data types and missing values\n",
    "df1.info()"
   ]
  },
  {
   "cell_type": "code",
   "execution_count": 14,
   "id": "1cb74e12-184a-40b4-b082-98261d0f9c39",
   "metadata": {},
   "outputs": [
    {
     "data": {
      "image/png": "[encoded data removed]",
      "text/plain": [
       "<Figure size 640x480 with 1 Axes>"
      ]
     },
     "metadata": {},
     "output_type": "display_data"
    },
    {
     "data": {
      "image/png": "[encoded data removed]",
      "text/plain": [
       "<Figure size 640x480 with 1 Axes>"
      ]
     },
     "metadata": {},
     "output_type": "display_data"
    },
    {
     "data": {
      "image/png": "[encoded data removed]",
      "text/plain": [
       "<Figure size 640x480 with 1 Axes>"
      ]
     },
     "metadata": {},
     "output_type": "display_data"
    },
    {
     "data": {
      "image/png": "[encoded data removed]",
      "text/plain": [
       "<Figure size 640x480 with 1 Axes>"
      ]
     },
     "metadata": {},
     "output_type": "display_data"
    },
    {
     "data": {
      "image/png": "[encoded data removed]",
      "text/plain": [
       "<Figure size 640x480 with 1 Axes>"
      ]
     },
     "metadata": {},
     "output_type": "display_data"
    },
    {
     "data": {
      "image/png": "[encoded data removed]",
      "text/plain": [
       "<Figure size 640x480 with 1 Axes>"
      ]
     },
     "metadata": {},
     "output_type": "display_data"
    },
    {
     "data": {
      "image/png": "[encoded data removed]",
      "text/plain": [
       "<Figure size 640x480 with 1 Axes>"
      ]
     },
     "metadata": {},
     "output_type": "display_data"
    }
   ],
   "source": [
    "# creating box plots for each numeric column\n",
    "for col in df1.select_dtypes(include=np.number).columns:\n",
    "    sns.boxplot(x=df1[col])\n",
    "    plt.show()"
   ]
  },
  {
   "cell_type": "markdown",
   "id": "6315ab1a-90e2-482a-baa7-5607df728c47",
   "metadata": {},
   "source": [
    "### Plotting distplot of those column which shows outliers to check skewness "
   ]
  },
  {
   "cell_type": "code",
   "execution_count": 15,
   "id": "14d058b7-2fef-405f-9d4e-7d37b4e0b74d",
   "metadata": {},
   "outputs": [
    {
     "name": "stderr",
     "output_type": "stream",
     "text": [
      "C:\\Users\\The Computer World\\AppData\\Local\\Temp\\ipykernel_4632\\2750136208.py:4: UserWarning: \n",
      "\n",
      "`distplot` is a deprecated function and will be removed in seaborn v0.14.0.\n",
      "\n",
      "Please adapt your code to use either `displot` (a figure-level function with\n",
      "similar flexibility) or `histplot` (an axes-level function for histograms).\n",
      "\n",
      "For a guide to updating your code to use the new functions, please see\n",
      "https://gist.github.com/mwaskom/de44147ed2974457ad6372750bbe5751\n",
      "\n",
      "  sns.distplot(df1['Previous CTC'])\n",
      "C:\\Users\\The Computer World\\anaconda\\Lib\\site-packages\\seaborn\\_oldcore.py:1119: FutureWarning: use_inf_as_na option is deprecated and will be removed in a future version. Convert inf values to NaN before operating instead.\n",
      "  with pd.option_context('mode.use_inf_as_na', True):\n"
     ]
    },
    {
     "data": {
      "text/plain": [
       "<Axes: >"
      ]
     },
     "execution_count": 15,
     "metadata": {},
     "output_type": "execute_result"
    },
    {
     "data": {
      "image/png": "[encoded data removed]",
      "text/plain": [
       "<Figure size 1600x500 with 2 Axes>"
      ]
     },
     "metadata": {},
     "output_type": "display_data"
    }
   ],
   "source": [
    "# For column Previous CTC\n",
    "plt.figure(figsize=(16,5))\n",
    "plt.subplot(1,2,1)\n",
    "sns.distplot(df1['Previous CTC'])\n",
    "\n",
    "plt.subplot(1,2,2)\n",
    "sns.boxplot(df1['Previous CTC'])\n"
   ]
  },
  {
   "cell_type": "code",
   "execution_count": 16,
   "id": "c7433aed-97ea-43c0-8c2a-c74262229c9f",
   "metadata": {},
   "outputs": [
    {
     "name": "stderr",
     "output_type": "stream",
     "text": [
      "C:\\Users\\The Computer World\\AppData\\Local\\Temp\\ipykernel_4632\\3604257318.py:4: UserWarning: \n",
      "\n",
      "`distplot` is a deprecated function and will be removed in seaborn v0.14.0.\n",
      "\n",
      "Please adapt your code to use either `displot` (a figure-level function with\n",
      "similar flexibility) or `histplot` (an axes-level function for histograms).\n",
      "\n",
      "For a guide to updating your code to use the new functions, please see\n",
      "https://gist.github.com/mwaskom/de44147ed2974457ad6372750bbe5751\n",
      "\n",
      "  sns.distplot(df1['CTC'])\n",
      "C:\\Users\\The Computer World\\anaconda\\Lib\\site-packages\\seaborn\\_oldcore.py:1119: FutureWarning: use_inf_as_na option is deprecated and will be removed in a future version. Convert inf values to NaN before operating instead.\n",
      "  with pd.option_context('mode.use_inf_as_na', True):\n"
     ]
    },
    {
     "data": {
      "text/plain": [
       "<Axes: >"
      ]
     },
     "execution_count": 16,
     "metadata": {},
     "output_type": "execute_result"
    },
    {
     "data": {
      "image/png": "[encoded data removed]",
      "text/plain": [
       "<Figure size 1600x500 with 2 Axes>"
      ]
     },
     "metadata": {},
     "output_type": "display_data"
    }
   ],
   "source": [
    "# For column CTC\n",
    "plt.figure(figsize=(16,5))\n",
    "plt.subplot(1,2,1)\n",
    "sns.distplot(df1['CTC'])\n",
    "\n",
    "plt.subplot(1,2,2)\n",
    "sns.boxplot(df1['CTC'])"
   ]
  },
  {
   "cell_type": "markdown",
   "id": "00698172-7498-4d3f-9094-c3aa45450986",
   "metadata": {},
   "source": [
    "### INFERENCES AFTER DATA EXPLORATION\n",
    "#### 1.No missing values\n",
    "#### 2.Boxplot of numeric feature shows oultiers in Previous CTC and CTC column\n",
    "#### 3.Distplot of both Previous CTC and CTC column shows RIGHT SKEWED DISTRIBUTION"
   ]
  },
  {
   "cell_type": "markdown",
   "id": "271283e5-df35-4a4b-b736-fa0d8abd4663",
   "metadata": {},
   "source": [
    "## DATA PREPROCESSING"
   ]
  },
  {
   "cell_type": "markdown",
   "id": "15bb0e17-a931-4680-a04d-638f2a8e155c",
   "metadata": {},
   "source": [
    "### Outlier treatment for Previous CTC"
   ]
  },
  {
   "cell_type": "code",
   "execution_count": 17,
   "id": "d6ff2cc1-91f5-441b-98f1-b264df913d55",
   "metadata": {},
   "outputs": [
    {
     "name": "stdout",
     "output_type": "stream",
     "text": [
      "Upper limit  71506.92\n",
      "Lower limit  41587.92\n"
     ]
    }
   ],
   "source": [
    "# calculating 99th and 1st percentile \n",
    "upper_limit = df1['Previous CTC'].quantile(0.99)\n",
    "lower_limit= df1['Previous CTC'].quantile(0.01)\n",
    "print(\"Upper limit \", upper_limit)\n",
    "print(\"Lower limit \", lower_limit)"
   ]
  },
  {
   "cell_type": "code",
   "execution_count": 18,
   "id": "b24b1cfe-7feb-42e5-bcab-be1d4e4691fe",
   "metadata": {},
   "outputs": [],
   "source": [
    "''' Capping i.e. values which are greater than or equal to upper limit are replaced with upper limit and values with are less than or \n",
    "equal to lower limit are replaced with lower limit and this changes takes place in copy of main dataframe(df1) that is df\n",
    "'''\n",
    "df=df1.copy()\n",
    "df['Previous CTC'] = np.where (df['Previous CTC'] >= upper_limit,\n",
    "                               upper_limit,\n",
    "                               np.where(df['Previous CTC'] <= lower_limit,\n",
    "                               lower_limit,\n",
    "                               df['Previous CTC']))"
   ]
  },
  {
   "cell_type": "code",
   "execution_count": 19,
   "id": "1586ccf5-be8a-4936-aec3-ea44671f5b29",
   "metadata": {},
   "outputs": [
    {
     "name": "stderr",
     "output_type": "stream",
     "text": [
      "C:\\Users\\The Computer World\\AppData\\Local\\Temp\\ipykernel_4632\\1930474261.py:4: UserWarning: \n",
      "\n",
      "`distplot` is a deprecated function and will be removed in seaborn v0.14.0.\n",
      "\n",
      "Please adapt your code to use either `displot` (a figure-level function with\n",
      "similar flexibility) or `histplot` (an axes-level function for histograms).\n",
      "\n",
      "For a guide to updating your code to use the new functions, please see\n",
      "https://gist.github.com/mwaskom/de44147ed2974457ad6372750bbe5751\n",
      "\n",
      "  sns.distplot(df['Previous CTC'])\n",
      "C:\\Users\\The Computer World\\anaconda\\Lib\\site-packages\\seaborn\\_oldcore.py:1119: FutureWarning: use_inf_as_na option is deprecated and will be removed in a future version. Convert inf values to NaN before operating instead.\n",
      "  with pd.option_context('mode.use_inf_as_na', True):\n"
     ]
    },
    {
     "data": {
      "text/plain": [
       "<Axes: >"
      ]
     },
     "execution_count": 19,
     "metadata": {},
     "output_type": "execute_result"
    },
    {
     "data": {
      "image/png": "[encoded data removed]",
      "text/plain": [
       "<Figure size 1600x500 with 2 Axes>"
      ]
     },
     "metadata": {},
     "output_type": "display_data"
    }
   ],
   "source": [
    "#plotting distplot and boxplot for checking outliers after outlier treatment\n",
    "plt.figure(figsize=(16,5))\n",
    "plt.subplot(1,2,1)\n",
    "sns.distplot(df['Previous CTC'])\n",
    "\n",
    "plt.subplot(1,2,2)\n",
    "sns.boxplot(df['Previous CTC'])\n",
    "\n"
   ]
  },
  {
   "cell_type": "markdown",
   "id": "3ccae8e6-b50d-46fc-9351-5ad85d6e22c9",
   "metadata": {},
   "source": [
    "### Outliers treated for Previous CTC column"
   ]
  },
  {
   "cell_type": "markdown",
   "id": "f4e8f5c6-3c31-4db5-8ee8-3026df4a65a4",
   "metadata": {},
   "source": [
    "### Outlier treatment for CTC"
   ]
  },
  {
   "cell_type": "code",
   "execution_count": 20,
   "id": "cede1cbf-3d8a-4afe-a4ea-9bcf6361dc7d",
   "metadata": {},
   "outputs": [
    {
     "name": "stdout",
     "output_type": "stream",
     "text": [
      "Upper limit  102695.32199999999\n",
      "Lower limit  59354.07\n"
     ]
    }
   ],
   "source": [
    "# calculating 99th and 1st percentile \n",
    "upper_limit = df1['CTC'].quantile(0.95)\n",
    "lower_limit= df1['CTC'].quantile(0.05)\n",
    "print(\"Upper limit \", upper_limit)\n",
    "print(\"Lower limit \", lower_limit)"
   ]
  },
  {
   "cell_type": "code",
   "execution_count": 21,
   "id": "1a7da232-a158-4651-a74b-3bbf6e9f8e3a",
   "metadata": {},
   "outputs": [],
   "source": [
    "''' Capping i.e. values which are greater than or equal to upper limit are replaced with upper limit and values with are less than or \n",
    "equal to lower limit are replaced with lower limit and this changes takes place in copy of main dataframe(df1) that is df\n",
    "'''\n",
    "df=df1.copy()\n",
    "df['CTC'] = np.where (df['CTC'] >= upper_limit,\n",
    "                      upper_limit,\n",
    "                      np.where(df['CTC'] <= lower_limit,\n",
    "                      lower_limit,\n",
    "                      df['CTC']))"
   ]
  },
  {
   "cell_type": "code",
   "execution_count": 22,
   "id": "a155589c-6b7c-4238-979c-85ddfc65ba3b",
   "metadata": {},
   "outputs": [
    {
     "name": "stderr",
     "output_type": "stream",
     "text": [
      "C:\\Users\\The Computer World\\AppData\\Local\\Temp\\ipykernel_4632\\3586776113.py:1: SettingWithCopyWarning: \n",
      "A value is trying to be set on a copy of a slice from a DataFrame\n",
      "\n",
      "See the caveats in the documentation: https://pandas.pydata.org/pandas-docs/stable/user_guide/indexing.html#returning-a-view-versus-a-copy\n",
      "  df['CTC'][(df['CTC'] > 3*upper_limit)] = 3*upper_limit\n"
     ]
    }
   ],
   "source": [
    "df['CTC'][(df['CTC'] > 3*upper_limit)] = 3*upper_limit"
   ]
  },
  {
   "cell_type": "code",
   "execution_count": 23,
   "id": "7464dea7-15e4-4fdd-8216-fa62dc44a11b",
   "metadata": {},
   "outputs": [
    {
     "name": "stderr",
     "output_type": "stream",
     "text": [
      "C:\\Users\\The Computer World\\AppData\\Local\\Temp\\ipykernel_4632\\977477000.py:4: UserWarning: \n",
      "\n",
      "`distplot` is a deprecated function and will be removed in seaborn v0.14.0.\n",
      "\n",
      "Please adapt your code to use either `displot` (a figure-level function with\n",
      "similar flexibility) or `histplot` (an axes-level function for histograms).\n",
      "\n",
      "For a guide to updating your code to use the new functions, please see\n",
      "https://gist.github.com/mwaskom/de44147ed2974457ad6372750bbe5751\n",
      "\n",
      "  sns.distplot(df['CTC'])\n",
      "C:\\Users\\The Computer World\\anaconda\\Lib\\site-packages\\seaborn\\_oldcore.py:1119: FutureWarning: use_inf_as_na option is deprecated and will be removed in a future version. Convert inf values to NaN before operating instead.\n",
      "  with pd.option_context('mode.use_inf_as_na', True):\n"
     ]
    },
    {
     "data": {
      "text/plain": [
       "<Axes: >"
      ]
     },
     "execution_count": 23,
     "metadata": {},
     "output_type": "execute_result"
    },
    {
     "data": {
      "image/png": "[encoded data removed]",
      "text/plain": [
       "<Figure size 1600x500 with 2 Axes>"
      ]
     },
     "metadata": {},
     "output_type": "display_data"
    }
   ],
   "source": [
    "#plotting distplot and boxplot for checking outliers after outlier treatment\n",
    "plt.figure(figsize=(16,5))\n",
    "plt.subplot(1,2,1)\n",
    "sns.distplot(df['CTC'])\n",
    "\n",
    "plt.subplot(1,2,2)\n",
    "sns.boxplot(df['CTC'])\n",
    "\n"
   ]
  },
  {
   "cell_type": "markdown",
   "id": "ee71f2a7-e55f-4d39-9fac-8607caeb60ad",
   "metadata": {},
   "source": []
  },
  {
   "cell_type": "markdown",
   "id": "ffb50586-d1e5-4666-b44e-416e4f54423b",
   "metadata": {},
   "source": [
    "### Outliers treated for CTC column"
   ]
  },
  {
   "cell_type": "markdown",
   "id": "7ee4c5bc-c4e3-41a6-850b-f5cd17cfdfff",
   "metadata": {},
   "source": [
    "### Creating Dummy Variables for categorical values"
   ]
  },
  {
   "cell_type": "code",
   "execution_count": 24,
   "id": "1ee5c0eb-7f62-4fa7-aa57-bbf5b38a4c2f",
   "metadata": {},
   "outputs": [],
   "source": [
    "df=pd.get_dummies(df,drop_first=True)"
   ]
  },
  {
   "cell_type": "code",
   "execution_count": 25,
   "id": "f8591782-cfcb-4928-ab7c-001b32f09060",
   "metadata": {},
   "outputs": [
    {
     "data": {
      "text/html": [
       "<div>\n",
       "<style scoped>\n",
       "    .dataframe tbody tr th:only-of-type {\n",
       "        vertical-align: middle;\n",
       "    }\n",
       "\n",
       "    .dataframe tbody tr th {\n",
       "        vertical-align: top;\n",
       "    }\n",
       "\n",
       "    .dataframe thead th {\n",
       "        text-align: right;\n",
       "    }\n",
       "</style>\n",
       "<table border=\"1\" class=\"dataframe\">\n",
       "  <thead>\n",
       "    <tr style=\"text-align: right;\">\n",
       "      <th></th>\n",
       "      <th>College</th>\n",
       "      <th>City</th>\n",
       "      <th>Previous CTC</th>\n",
       "      <th>Previous job change</th>\n",
       "      <th>Graduation Marks</th>\n",
       "      <th>EXP (Month)</th>\n",
       "      <th>CTC</th>\n",
       "      <th>Role_Manager</th>\n",
       "    </tr>\n",
       "  </thead>\n",
       "  <tbody>\n",
       "    <tr>\n",
       "      <th>0</th>\n",
       "      <td>2</td>\n",
       "      <td>1</td>\n",
       "      <td>55523.0</td>\n",
       "      <td>3</td>\n",
       "      <td>66</td>\n",
       "      <td>19</td>\n",
       "      <td>71406.58</td>\n",
       "      <td>True</td>\n",
       "    </tr>\n",
       "    <tr>\n",
       "      <th>1</th>\n",
       "      <td>2</td>\n",
       "      <td>1</td>\n",
       "      <td>57081.0</td>\n",
       "      <td>1</td>\n",
       "      <td>84</td>\n",
       "      <td>18</td>\n",
       "      <td>68005.87</td>\n",
       "      <td>False</td>\n",
       "    </tr>\n",
       "    <tr>\n",
       "      <th>2</th>\n",
       "      <td>3</td>\n",
       "      <td>1</td>\n",
       "      <td>60347.0</td>\n",
       "      <td>2</td>\n",
       "      <td>52</td>\n",
       "      <td>28</td>\n",
       "      <td>76764.02</td>\n",
       "      <td>False</td>\n",
       "    </tr>\n",
       "    <tr>\n",
       "      <th>3</th>\n",
       "      <td>3</td>\n",
       "      <td>1</td>\n",
       "      <td>49010.0</td>\n",
       "      <td>2</td>\n",
       "      <td>81</td>\n",
       "      <td>33</td>\n",
       "      <td>82092.39</td>\n",
       "      <td>False</td>\n",
       "    </tr>\n",
       "    <tr>\n",
       "      <th>4</th>\n",
       "      <td>1</td>\n",
       "      <td>1</td>\n",
       "      <td>57879.0</td>\n",
       "      <td>4</td>\n",
       "      <td>74</td>\n",
       "      <td>32</td>\n",
       "      <td>73878.10</td>\n",
       "      <td>False</td>\n",
       "    </tr>\n",
       "  </tbody>\n",
       "</table>\n",
       "</div>"
      ],
      "text/plain": [
       "   College  City  Previous CTC  Previous job change  Graduation Marks  \\\n",
       "0        2     1       55523.0                    3                66   \n",
       "1        2     1       57081.0                    1                84   \n",
       "2        3     1       60347.0                    2                52   \n",
       "3        3     1       49010.0                    2                81   \n",
       "4        1     1       57879.0                    4                74   \n",
       "\n",
       "   EXP (Month)       CTC  Role_Manager  \n",
       "0           19  71406.58          True  \n",
       "1           18  68005.87         False  \n",
       "2           28  76764.02         False  \n",
       "3           33  82092.39         False  \n",
       "4           32  73878.10         False  "
      ]
     },
     "execution_count": 25,
     "metadata": {},
     "output_type": "execute_result"
    }
   ],
   "source": [
    "df.head()"
   ]
  },
  {
   "cell_type": "markdown",
   "id": "59b82ba1-907c-43f6-8054-be8080bb9e5d",
   "metadata": {},
   "source": [
    "### Correlation matrix"
   ]
  },
  {
   "cell_type": "code",
   "execution_count": 26,
   "id": "90835e2d-f7dc-4970-b922-c85a645e883e",
   "metadata": {},
   "outputs": [
    {
     "data": {
      "text/html": [
       "<div>\n",
       "<style scoped>\n",
       "    .dataframe tbody tr th:only-of-type {\n",
       "        vertical-align: middle;\n",
       "    }\n",
       "\n",
       "    .dataframe tbody tr th {\n",
       "        vertical-align: top;\n",
       "    }\n",
       "\n",
       "    .dataframe thead th {\n",
       "        text-align: right;\n",
       "    }\n",
       "</style>\n",
       "<table border=\"1\" class=\"dataframe\">\n",
       "  <thead>\n",
       "    <tr style=\"text-align: right;\">\n",
       "      <th></th>\n",
       "      <th>College</th>\n",
       "      <th>City</th>\n",
       "      <th>Previous CTC</th>\n",
       "      <th>Previous job change</th>\n",
       "      <th>Graduation Marks</th>\n",
       "      <th>EXP (Month)</th>\n",
       "      <th>CTC</th>\n",
       "      <th>Role_Manager</th>\n",
       "    </tr>\n",
       "  </thead>\n",
       "  <tbody>\n",
       "    <tr>\n",
       "      <th>College</th>\n",
       "      <td>1.000000</td>\n",
       "      <td>0.014946</td>\n",
       "      <td>0.041979</td>\n",
       "      <td>-0.055060</td>\n",
       "      <td>0.003539</td>\n",
       "      <td>0.011752</td>\n",
       "      <td>-0.026189</td>\n",
       "      <td>-0.014749</td>\n",
       "    </tr>\n",
       "    <tr>\n",
       "      <th>City</th>\n",
       "      <td>0.014946</td>\n",
       "      <td>1.000000</td>\n",
       "      <td>-0.004644</td>\n",
       "      <td>-0.051670</td>\n",
       "      <td>0.018616</td>\n",
       "      <td>0.023613</td>\n",
       "      <td>0.025771</td>\n",
       "      <td>0.048671</td>\n",
       "    </tr>\n",
       "    <tr>\n",
       "      <th>Previous CTC</th>\n",
       "      <td>0.041979</td>\n",
       "      <td>-0.004644</td>\n",
       "      <td>1.000000</td>\n",
       "      <td>0.005756</td>\n",
       "      <td>-0.032976</td>\n",
       "      <td>0.119163</td>\n",
       "      <td>0.255364</td>\n",
       "      <td>0.012321</td>\n",
       "    </tr>\n",
       "    <tr>\n",
       "      <th>Previous job change</th>\n",
       "      <td>-0.055060</td>\n",
       "      <td>-0.051670</td>\n",
       "      <td>0.005756</td>\n",
       "      <td>1.000000</td>\n",
       "      <td>0.019267</td>\n",
       "      <td>0.023488</td>\n",
       "      <td>0.007864</td>\n",
       "      <td>-0.017150</td>\n",
       "    </tr>\n",
       "    <tr>\n",
       "      <th>Graduation Marks</th>\n",
       "      <td>0.003539</td>\n",
       "      <td>0.018616</td>\n",
       "      <td>-0.032976</td>\n",
       "      <td>0.019267</td>\n",
       "      <td>1.000000</td>\n",
       "      <td>-0.057061</td>\n",
       "      <td>-0.003237</td>\n",
       "      <td>0.017858</td>\n",
       "    </tr>\n",
       "    <tr>\n",
       "      <th>EXP (Month)</th>\n",
       "      <td>0.011752</td>\n",
       "      <td>0.023613</td>\n",
       "      <td>0.119163</td>\n",
       "      <td>0.023488</td>\n",
       "      <td>-0.057061</td>\n",
       "      <td>1.000000</td>\n",
       "      <td>0.301533</td>\n",
       "      <td>-0.026751</td>\n",
       "    </tr>\n",
       "    <tr>\n",
       "      <th>CTC</th>\n",
       "      <td>-0.026189</td>\n",
       "      <td>0.025771</td>\n",
       "      <td>0.255364</td>\n",
       "      <td>0.007864</td>\n",
       "      <td>-0.003237</td>\n",
       "      <td>0.301533</td>\n",
       "      <td>1.000000</td>\n",
       "      <td>0.618769</td>\n",
       "    </tr>\n",
       "    <tr>\n",
       "      <th>Role_Manager</th>\n",
       "      <td>-0.014749</td>\n",
       "      <td>0.048671</td>\n",
       "      <td>0.012321</td>\n",
       "      <td>-0.017150</td>\n",
       "      <td>0.017858</td>\n",
       "      <td>-0.026751</td>\n",
       "      <td>0.618769</td>\n",
       "      <td>1.000000</td>\n",
       "    </tr>\n",
       "  </tbody>\n",
       "</table>\n",
       "</div>"
      ],
      "text/plain": [
       "                      College      City  Previous CTC  Previous job change  \\\n",
       "College              1.000000  0.014946      0.041979            -0.055060   \n",
       "City                 0.014946  1.000000     -0.004644            -0.051670   \n",
       "Previous CTC         0.041979 -0.004644      1.000000             0.005756   \n",
       "Previous job change -0.055060 -0.051670      0.005756             1.000000   \n",
       "Graduation Marks     0.003539  0.018616     -0.032976             0.019267   \n",
       "EXP (Month)          0.011752  0.023613      0.119163             0.023488   \n",
       "CTC                 -0.026189  0.025771      0.255364             0.007864   \n",
       "Role_Manager        -0.014749  0.048671      0.012321            -0.017150   \n",
       "\n",
       "                     Graduation Marks  EXP (Month)       CTC  Role_Manager  \n",
       "College                      0.003539     0.011752 -0.026189     -0.014749  \n",
       "City                         0.018616     0.023613  0.025771      0.048671  \n",
       "Previous CTC                -0.032976     0.119163  0.255364      0.012321  \n",
       "Previous job change          0.019267     0.023488  0.007864     -0.017150  \n",
       "Graduation Marks             1.000000    -0.057061 -0.003237      0.017858  \n",
       "EXP (Month)                 -0.057061     1.000000  0.301533     -0.026751  \n",
       "CTC                         -0.003237     0.301533  1.000000      0.618769  \n",
       "Role_Manager                 0.017858    -0.026751  0.618769      1.000000  "
      ]
     },
     "execution_count": 26,
     "metadata": {},
     "output_type": "execute_result"
    }
   ],
   "source": [
    "df.corr()"
   ]
  },
  {
   "cell_type": "markdown",
   "id": "6492c79f-da9a-4fb9-b49f-4a8a02b53aaf",
   "metadata": {},
   "source": [
    "### Inferences from correlation matrix\n",
    "#### 1. There’s a strong positive correlation (0.301533) between EXP(Month) and CTC, suggesting that more experience may lead to higher pay.\n",
    "#### 2. The role of a Manager has a significant positive correlation (0.618769) with CTC, indicating that managers tend to have higher salaries.\n",
    "#### 3. Previous CTC shows a moderate positive correlation (0.255364) with the CTC, which could imply that past compensation influences current salary.\n",
    "#### 4. EXP(Month) has a moderate positive correlation (0.119163) with Previous CTC, suggesting that more experienced individuals had higher past salaries."
   ]
  },
  {
   "cell_type": "markdown",
   "id": "19aff972-ea0d-4585-950a-f202125a1f1a",
   "metadata": {},
   "source": [
    "# MODEL TRAINING AND MODEL EVALUATION "
   ]
  },
  {
   "cell_type": "markdown",
   "id": "b29914cc-83d5-43ae-9344-4459e9bdd262",
   "metadata": {},
   "source": [
    "#### Defining independent and dependent variables"
   ]
  },
  {
   "cell_type": "code",
   "execution_count": 27,
   "id": "cef0491c-197f-471c-8f54-b3de05215279",
   "metadata": {},
   "outputs": [],
   "source": [
    "x=df.drop(\"CTC\",axis=1)\n",
    "y=df['CTC']"
   ]
  },
  {
   "cell_type": "markdown",
   "id": "fa2881b5-8a80-4aae-a22a-c031132f9ec9",
   "metadata": {},
   "source": [
    "### Test-Train Split"
   ]
  },
  {
   "cell_type": "markdown",
   "id": "46b0b107-cdc0-4ed5-8854-7647d04e2f9d",
   "metadata": {},
   "source": [
    "#### Splitting the data into Test and Train dataset in which 80% of data belongs to Training dataset and 20% belongs to Test dataset"
   ]
  },
  {
   "cell_type": "code",
   "execution_count": 28,
   "id": "fbb57c9b-575b-4bd0-a643-fe070fa2e5d0",
   "metadata": {},
   "outputs": [],
   "source": [
    "from sklearn.model_selection import train_test_split\n",
    "\n",
    "x_train,x_test,y_train,y_test=train_test_split(x,y,test_size=0.2,random_state=0)"
   ]
  },
  {
   "cell_type": "code",
   "execution_count": 29,
   "id": "22d1b419-d00f-4c8f-9edd-371ff0b5cd6f",
   "metadata": {},
   "outputs": [
    {
     "name": "stdout",
     "output_type": "stream",
     "text": [
      "(1271, 7) (318, 7) (1271,) (318,)\n"
     ]
    }
   ],
   "source": [
    "print(x_train.shape,x_test.shape,y_train.shape,y_test.shape)"
   ]
  },
  {
   "cell_type": "markdown",
   "id": "d280dcf2-d8f4-4ba2-a626-ed17e623f066",
   "metadata": {},
   "source": [
    "# Linear regression "
   ]
  },
  {
   "cell_type": "code",
   "execution_count": 30,
   "id": "f9205f27-9741-49ba-a3dc-9786d2d1ffd9",
   "metadata": {},
   "outputs": [
    {
     "data": {
      "text/html": [
       "<style>#sk-container-id-1 {color: black;background-color: white;}#sk-container-id-1 pre{padding: 0;}#sk-container-id-1 div.sk-toggleable {background-color: white;}#sk-container-id-1 label.sk-toggleable__label {cursor: pointer;display: block;width: 100%;margin-bottom: 0;padding: 0.3em;box-sizing: border-box;text-align: center;}#sk-container-id-1 label.sk-toggleable__label-arrow:before {content: \"▸\";float: left;margin-right: 0.25em;color: #696969;}#sk-container-id-1 label.sk-toggleable__label-arrow:hover:before {color: black;}#sk-container-id-1 div.sk-estimator:hover label.sk-toggleable__label-arrow:before {color: black;}#sk-container-id-1 div.sk-toggleable__content {max-height: 0;max-width: 0;overflow: hidden;text-align: left;background-color: #f0f8ff;}#sk-container-id-1 div.sk-toggleable__content pre {margin: 0.2em;color: black;border-radius: 0.25em;background-color: #f0f8ff;}#sk-container-id-1 input.sk-toggleable__control:checked~div.sk-toggleable__content {max-height: 200px;max-width: 100%;overflow: auto;}#sk-container-id-1 input.sk-toggleable__control:checked~label.sk-toggleable__label-arrow:before {content: \"▾\";}#sk-container-id-1 div.sk-estimator input.sk-toggleable__control:checked~label.sk-toggleable__label {background-color: #d4ebff;}#sk-container-id-1 div.sk-label input.sk-toggleable__control:checked~label.sk-toggleable__label {background-color: #d4ebff;}#sk-container-id-1 input.sk-hidden--visually {border: 0;clip: rect(1px 1px 1px 1px);clip: rect(1px, 1px, 1px, 1px);height: 1px;margin: -1px;overflow: hidden;padding: 0;position: absolute;width: 1px;}#sk-container-id-1 div.sk-estimator {font-family: monospace;background-color: #f0f8ff;border: 1px dotted black;border-radius: 0.25em;box-sizing: border-box;margin-bottom: 0.5em;}#sk-container-id-1 div.sk-estimator:hover {background-color: #d4ebff;}#sk-container-id-1 div.sk-parallel-item::after {content: \"\";width: 100%;border-bottom: 1px solid gray;flex-grow: 1;}#sk-container-id-1 div.sk-label:hover label.sk-toggleable__label {background-color: #d4ebff;}#sk-container-id-1 div.sk-serial::before {content: \"\";position: absolute;border-left: 1px solid gray;box-sizing: border-box;top: 0;bottom: 0;left: 50%;z-index: 0;}#sk-container-id-1 div.sk-serial {display: flex;flex-direction: column;align-items: center;background-color: white;padding-right: 0.2em;padding-left: 0.2em;position: relative;}#sk-container-id-1 div.sk-item {position: relative;z-index: 1;}#sk-container-id-1 div.sk-parallel {display: flex;align-items: stretch;justify-content: center;background-color: white;position: relative;}#sk-container-id-1 div.sk-item::before, #sk-container-id-1 div.sk-parallel-item::before {content: \"\";position: absolute;border-left: 1px solid gray;box-sizing: border-box;top: 0;bottom: 0;left: 50%;z-index: -1;}#sk-container-id-1 div.sk-parallel-item {display: flex;flex-direction: column;z-index: 1;position: relative;background-color: white;}#sk-container-id-1 div.sk-parallel-item:first-child::after {align-self: flex-end;width: 50%;}#sk-container-id-1 div.sk-parallel-item:last-child::after {align-self: flex-start;width: 50%;}#sk-container-id-1 div.sk-parallel-item:only-child::after {width: 0;}#sk-container-id-1 div.sk-dashed-wrapped {border: 1px dashed gray;margin: 0 0.4em 0.5em 0.4em;box-sizing: border-box;padding-bottom: 0.4em;background-color: white;}#sk-container-id-1 div.sk-label label {font-family: monospace;font-weight: bold;display: inline-block;line-height: 1.2em;}#sk-container-id-1 div.sk-label-container {text-align: center;}#sk-container-id-1 div.sk-container {/* jupyter's `normalize.less` sets `[hidden] { display: none; }` but bootstrap.min.css set `[hidden] { display: none !important; }` so we also need the `!important` here to be able to override the default hidden behavior on the sphinx rendered scikit-learn.org. See: https://github.com/scikit-learn/scikit-learn/issues/21755 */display: inline-block !important;position: relative;}#sk-container-id-1 div.sk-text-repr-fallback {display: none;}</style><div id=\"sk-container-id-1\" class=\"sk-top-container\"><div class=\"sk-text-repr-fallback\"><pre>LinearRegression()</pre><b>In a Jupyter environment, please rerun this cell to show the HTML representation or trust the notebook. <br />On GitHub, the HTML representation is unable to render, please try loading this page with nbviewer.org.</b></div><div class=\"sk-container\" hidden><div class=\"sk-item\"><div class=\"sk-estimator sk-toggleable\"><input class=\"sk-toggleable__control sk-hidden--visually\" id=\"sk-estimator-id-1\" type=\"checkbox\" checked><label for=\"sk-estimator-id-1\" class=\"sk-toggleable__label sk-toggleable__label-arrow\">LinearRegression</label><div class=\"sk-toggleable__content\"><pre>LinearRegression()</pre></div></div></div></div></div>"
      ],
      "text/plain": [
       "LinearRegression()"
      ]
     },
     "execution_count": 30,
     "metadata": {},
     "output_type": "execute_result"
    }
   ],
   "source": [
    "# Creating a Linear Regression model\n",
    "lm1=LinearRegression()\n",
    "\n",
    "# Fitting the model to the training data\n",
    "lm1.fit(x_train,y_train)\n"
   ]
  },
  {
   "cell_type": "markdown",
   "id": "1a256521-8b99-40f2-8e0e-8740cecfc881",
   "metadata": {},
   "source": [
    "### Evaluation"
   ]
  },
  {
   "cell_type": "code",
   "execution_count": 31,
   "id": "84aaa4b4-4cfd-4753-b6cd-fffeec0d0d74",
   "metadata": {},
   "outputs": [],
   "source": [
    "# Calculating the R-squared (coefficient of determination) scores for the training and test datasets.\n",
    "lm1_train_r2 = r2_score(y_train, lm1.predict(x_train))\n",
    "lm1_test_r2 = r2_score(y_test, lm1.predict(x_test))\n",
    "\n",
    "# Calculating the Mean Squared Error (MSE) for the training and test datasets.\n",
    "lm1_train_mse = mean_squared_error(y_train, lm1.predict(x_train))\n",
    "lm1_test_mse = mean_squared_error(y_test, lm1.predict(x_test))\n"
   ]
  },
  {
   "cell_type": "code",
   "execution_count": 32,
   "id": "21a99d55-b91b-4f8b-80dd-28ea03466c91",
   "metadata": {},
   "outputs": [
    {
     "name": "stdout",
     "output_type": "stream",
     "text": [
      "Linear Regression\n",
      "Training Mean Squared Error = 63730879.13595504\n",
      "Test Mean Squared Error = 59001659.90644768\n",
      "Training R2_score = 0.5263023726088415\n",
      "Test R2_score = 0.54147457325082\n"
     ]
    }
   ],
   "source": [
    "# Print the results\n",
    "print('Linear Regression')\n",
    "print('Training Mean Squared Error =', lm1_train_mse)\n",
    "print('Test Mean Squared Error =', lm1_test_mse)\n",
    "print('Training R2_score =', lm1_train_r2)\n",
    "print('Test R2_score =', lm1_test_r2)"
   ]
  },
  {
   "cell_type": "markdown",
   "id": "d9006746-12a6-4bee-8199-de0d8a8ce351",
   "metadata": {},
   "source": [
    "## Standardising the data"
   ]
  },
  {
   "cell_type": "code",
   "execution_count": 33,
   "id": "b5c6827b-46fc-4388-b238-6ba3349e35fe",
   "metadata": {},
   "outputs": [],
   "source": [
    "#importing necessary module\n",
    "from sklearn import preprocessing\n",
    "\n",
    "# Standardize the data using StandardScaler from sklearn\n",
    "scaler = preprocessing.StandardScaler().fit(x_train)\n",
    "x_train_s = scaler.transform(x_train)\n",
    "x_test_s = scaler.transform(x_test)"
   ]
  },
  {
   "cell_type": "markdown",
   "id": "4f3d20c7-971a-4915-a0cb-a4e075c8444b",
   "metadata": {},
   "source": [
    "# Ridge Regression "
   ]
  },
  {
   "cell_type": "markdown",
   "id": "3d3b5f4d-41b6-46e5-bfcf-a51f26adf1aa",
   "metadata": {},
   "source": [
    "### Performing Ridge Regression with single value of alpha i.e. 0.5"
   ]
  },
  {
   "cell_type": "code",
   "execution_count": 34,
   "id": "91a4d64a-9aa0-42af-b126-36778420a003",
   "metadata": {},
   "outputs": [
    {
     "data": {
      "text/html": [
       "<style>#sk-container-id-2 {color: black;background-color: white;}#sk-container-id-2 pre{padding: 0;}#sk-container-id-2 div.sk-toggleable {background-color: white;}#sk-container-id-2 label.sk-toggleable__label {cursor: pointer;display: block;width: 100%;margin-bottom: 0;padding: 0.3em;box-sizing: border-box;text-align: center;}#sk-container-id-2 label.sk-toggleable__label-arrow:before {content: \"▸\";float: left;margin-right: 0.25em;color: #696969;}#sk-container-id-2 label.sk-toggleable__label-arrow:hover:before {color: black;}#sk-container-id-2 div.sk-estimator:hover label.sk-toggleable__label-arrow:before {color: black;}#sk-container-id-2 div.sk-toggleable__content {max-height: 0;max-width: 0;overflow: hidden;text-align: left;background-color: #f0f8ff;}#sk-container-id-2 div.sk-toggleable__content pre {margin: 0.2em;color: black;border-radius: 0.25em;background-color: #f0f8ff;}#sk-container-id-2 input.sk-toggleable__control:checked~div.sk-toggleable__content {max-height: 200px;max-width: 100%;overflow: auto;}#sk-container-id-2 input.sk-toggleable__control:checked~label.sk-toggleable__label-arrow:before {content: \"▾\";}#sk-container-id-2 div.sk-estimator input.sk-toggleable__control:checked~label.sk-toggleable__label {background-color: #d4ebff;}#sk-container-id-2 div.sk-label input.sk-toggleable__control:checked~label.sk-toggleable__label {background-color: #d4ebff;}#sk-container-id-2 input.sk-hidden--visually {border: 0;clip: rect(1px 1px 1px 1px);clip: rect(1px, 1px, 1px, 1px);height: 1px;margin: -1px;overflow: hidden;padding: 0;position: absolute;width: 1px;}#sk-container-id-2 div.sk-estimator {font-family: monospace;background-color: #f0f8ff;border: 1px dotted black;border-radius: 0.25em;box-sizing: border-box;margin-bottom: 0.5em;}#sk-container-id-2 div.sk-estimator:hover {background-color: #d4ebff;}#sk-container-id-2 div.sk-parallel-item::after {content: \"\";width: 100%;border-bottom: 1px solid gray;flex-grow: 1;}#sk-container-id-2 div.sk-label:hover label.sk-toggleable__label {background-color: #d4ebff;}#sk-container-id-2 div.sk-serial::before {content: \"\";position: absolute;border-left: 1px solid gray;box-sizing: border-box;top: 0;bottom: 0;left: 50%;z-index: 0;}#sk-container-id-2 div.sk-serial {display: flex;flex-direction: column;align-items: center;background-color: white;padding-right: 0.2em;padding-left: 0.2em;position: relative;}#sk-container-id-2 div.sk-item {position: relative;z-index: 1;}#sk-container-id-2 div.sk-parallel {display: flex;align-items: stretch;justify-content: center;background-color: white;position: relative;}#sk-container-id-2 div.sk-item::before, #sk-container-id-2 div.sk-parallel-item::before {content: \"\";position: absolute;border-left: 1px solid gray;box-sizing: border-box;top: 0;bottom: 0;left: 50%;z-index: -1;}#sk-container-id-2 div.sk-parallel-item {display: flex;flex-direction: column;z-index: 1;position: relative;background-color: white;}#sk-container-id-2 div.sk-parallel-item:first-child::after {align-self: flex-end;width: 50%;}#sk-container-id-2 div.sk-parallel-item:last-child::after {align-self: flex-start;width: 50%;}#sk-container-id-2 div.sk-parallel-item:only-child::after {width: 0;}#sk-container-id-2 div.sk-dashed-wrapped {border: 1px dashed gray;margin: 0 0.4em 0.5em 0.4em;box-sizing: border-box;padding-bottom: 0.4em;background-color: white;}#sk-container-id-2 div.sk-label label {font-family: monospace;font-weight: bold;display: inline-block;line-height: 1.2em;}#sk-container-id-2 div.sk-label-container {text-align: center;}#sk-container-id-2 div.sk-container {/* jupyter's `normalize.less` sets `[hidden] { display: none; }` but bootstrap.min.css set `[hidden] { display: none !important; }` so we also need the `!important` here to be able to override the default hidden behavior on the sphinx rendered scikit-learn.org. See: https://github.com/scikit-learn/scikit-learn/issues/21755 */display: inline-block !important;position: relative;}#sk-container-id-2 div.sk-text-repr-fallback {display: none;}</style><div id=\"sk-container-id-2\" class=\"sk-top-container\"><div class=\"sk-text-repr-fallback\"><pre>Ridge(alpha=0.5)</pre><b>In a Jupyter environment, please rerun this cell to show the HTML representation or trust the notebook. <br />On GitHub, the HTML representation is unable to render, please try loading this page with nbviewer.org.</b></div><div class=\"sk-container\" hidden><div class=\"sk-item\"><div class=\"sk-estimator sk-toggleable\"><input class=\"sk-toggleable__control sk-hidden--visually\" id=\"sk-estimator-id-2\" type=\"checkbox\" checked><label for=\"sk-estimator-id-2\" class=\"sk-toggleable__label sk-toggleable__label-arrow\">Ridge</label><div class=\"sk-toggleable__content\"><pre>Ridge(alpha=0.5)</pre></div></div></div></div></div>"
      ],
      "text/plain": [
       "Ridge(alpha=0.5)"
      ]
     },
     "execution_count": 34,
     "metadata": {},
     "output_type": "execute_result"
    }
   ],
   "source": [
    "# importing necessay modules\n",
    "from sklearn.linear_model import Ridge\n",
    "\n",
    "# Define alpha value for Ridge Regression \n",
    "lm2=Ridge(alpha=0.5)\n",
    "\n",
    "# Fitting the model to train data\n",
    "lm2.fit(x_train_s,y_train)\n"
   ]
  },
  {
   "cell_type": "markdown",
   "id": "c4ad3955-022f-4930-aa5a-e1008dda745a",
   "metadata": {},
   "source": [
    "### Evaluation"
   ]
  },
  {
   "cell_type": "code",
   "execution_count": 35,
   "id": "8afa08de-819c-47b2-9f4d-7f21a5096e0e",
   "metadata": {},
   "outputs": [],
   "source": [
    "# Calculating the R-squared (coefficient of determination) scores for the training and test datasets.\n",
    "lm2_train_r2=r2_score(y_train,lm2.predict(x_train_s))\n",
    "lm2_test_r2=r2_score(y_test,lm2.predict(x_test_s))\n",
    "\n",
    "# Calculating the Mean Squared Error (MSE) for the training and test datasets.\n",
    "lm2_train_mse= mean_squared_error(y_train, lm2.predict(x_train_s))\n",
    "lm2_test_mse = mean_squared_error(y_test, lm2.predict(x_test_s))"
   ]
  },
  {
   "cell_type": "code",
   "execution_count": 36,
   "id": "ee6b89c0-7d5f-48ac-98cf-c2be49ea0cf9",
   "metadata": {},
   "outputs": [
    {
     "name": "stdout",
     "output_type": "stream",
     "text": [
      "Ridge Regression with single value of alpha\n",
      "Training Mean Squared Error = 63730889.42577503\n",
      "Test Mean Squared Error = 59004882.52410507\n",
      "Training R2_score = 0.5263022961268695\n",
      "Test R2_score = 0.5414495290039472\n"
     ]
    }
   ],
   "source": [
    "# Print the results\n",
    "print('Ridge Regression with single value of alpha')\n",
    "print('Training Mean Squared Error =', lm2_train_mse)\n",
    "print('Test Mean Squared Error =', lm2_test_mse)\n",
    "print('Training R2_score =', lm2_train_r2)\n",
    "print('Test R2_score =', lm2_test_r2)"
   ]
  },
  {
   "cell_type": "markdown",
   "id": "cc2922d7-7848-46e0-bda5-60f96186bd86",
   "metadata": {},
   "source": [
    "# Ridge Regresion with range of alpha values"
   ]
  },
  {
   "cell_type": "code",
   "execution_count": 37,
   "id": "f13120fe-e0f4-4448-bcc1-db9107521c8a",
   "metadata": {},
   "outputs": [
    {
     "name": "stdout",
     "output_type": "stream",
     "text": [
      "Train scores for RR [[5.20736284e-01 5.27065933e-01 5.31295633e-01 5.30143371e-01\n",
      "  5.24202682e-01]\n",
      " [5.20736284e-01 5.27065933e-01 5.31295633e-01 5.30143371e-01\n",
      "  5.24202682e-01]\n",
      " [5.20736284e-01 5.27065933e-01 5.31295633e-01 5.30143371e-01\n",
      "  5.24202682e-01]\n",
      " [5.20736284e-01 5.27065932e-01 5.31295633e-01 5.30143371e-01\n",
      "  5.24202682e-01]\n",
      " [5.20736284e-01 5.27065932e-01 5.31295633e-01 5.30143371e-01\n",
      "  5.24202682e-01]\n",
      " [5.20736284e-01 5.27065932e-01 5.31295633e-01 5.30143371e-01\n",
      "  5.24202682e-01]\n",
      " [5.20736284e-01 5.27065932e-01 5.31295633e-01 5.30143370e-01\n",
      "  5.24202682e-01]\n",
      " [5.20736283e-01 5.27065931e-01 5.31295632e-01 5.30143370e-01\n",
      "  5.24202681e-01]\n",
      " [5.20736282e-01 5.27065931e-01 5.31295631e-01 5.30143369e-01\n",
      "  5.24202680e-01]\n",
      " [5.20736281e-01 5.27065930e-01 5.31295630e-01 5.30143368e-01\n",
      "  5.24202679e-01]\n",
      " [5.20736279e-01 5.27065928e-01 5.31295629e-01 5.30143366e-01\n",
      "  5.24202677e-01]\n",
      " [5.20736276e-01 5.27065925e-01 5.31295626e-01 5.30143363e-01\n",
      "  5.24202674e-01]\n",
      " [5.20736271e-01 5.27065921e-01 5.31295621e-01 5.30143358e-01\n",
      "  5.24202669e-01]\n",
      " [5.20736264e-01 5.27065913e-01 5.31295614e-01 5.30143350e-01\n",
      "  5.24202661e-01]\n",
      " [5.20736252e-01 5.27065902e-01 5.31295603e-01 5.30143337e-01\n",
      "  5.24202648e-01]\n",
      " [5.20736232e-01 5.27065884e-01 5.31295585e-01 5.30143317e-01\n",
      "  5.24202628e-01]\n",
      " [5.20736202e-01 5.27065855e-01 5.31295556e-01 5.30143286e-01\n",
      "  5.24202597e-01]\n",
      " [5.20736153e-01 5.27065809e-01 5.31295510e-01 5.30143235e-01\n",
      "  5.24202546e-01]\n",
      " [5.20736075e-01 5.27065735e-01 5.31295437e-01 5.30143154e-01\n",
      "  5.24202465e-01]\n",
      " [5.20735951e-01 5.27065619e-01 5.31295322e-01 5.30143025e-01\n",
      "  5.24202336e-01]\n",
      " [5.20735753e-01 5.27065433e-01 5.31295137e-01 5.30142821e-01\n",
      "  5.24202131e-01]\n",
      " [5.20735439e-01 5.27065137e-01 5.31294844e-01 5.30142495e-01\n",
      "  5.24201806e-01]\n",
      " [5.20734940e-01 5.27064667e-01 5.31294377e-01 5.30141977e-01\n",
      "  5.24201287e-01]\n",
      " [5.20734145e-01 5.27063919e-01 5.31293634e-01 5.30141154e-01\n",
      "  5.24200463e-01]\n",
      " [5.20732882e-01 5.27062730e-01 5.31292453e-01 5.30139844e-01\n",
      "  5.24199152e-01]\n",
      " [5.20730874e-01 5.27060840e-01 5.31290576e-01 5.30137762e-01\n",
      "  5.24197069e-01]\n",
      " [5.20727685e-01 5.27057837e-01 5.31287594e-01 5.30134456e-01\n",
      "  5.24193761e-01]\n",
      " [5.20722621e-01 5.27053069e-01 5.31282860e-01 5.30129206e-01\n",
      "  5.24188508e-01]\n",
      " [5.20714587e-01 5.27045504e-01 5.31275347e-01 5.30120877e-01\n",
      "  5.24180175e-01]\n",
      " [5.20701853e-01 5.27033512e-01 5.31263437e-01 5.30107677e-01\n",
      "  5.24166969e-01]\n",
      " [5.20681694e-01 5.27014523e-01 5.31244578e-01 5.30086783e-01\n",
      "  5.24146066e-01]\n",
      " [5.20649829e-01 5.26984500e-01 5.31214759e-01 5.30053757e-01\n",
      "  5.24113032e-01]\n",
      " [5.20599555e-01 5.26937117e-01 5.31167696e-01 5.30001655e-01\n",
      "  5.24060926e-01]\n",
      " [5.20520423e-01 5.26862507e-01 5.31093585e-01 5.29919658e-01\n",
      "  5.23978935e-01]\n",
      " [5.20396236e-01 5.26745360e-01 5.30977212e-01 5.29790996e-01\n",
      "  5.23850312e-01]\n",
      " [5.20202059e-01 5.26562083e-01 5.30795126e-01 5.29589861e-01\n",
      "  5.23649294e-01]\n",
      " [5.19899842e-01 5.26276617e-01 5.30511477e-01 5.29276892e-01\n",
      "  5.23336615e-01]\n",
      " [5.19432151e-01 5.25834441e-01 5.30072041e-01 5.28792709e-01\n",
      "  5.22853081e-01]\n",
      " [5.18713481e-01 5.25154200e-01 5.29395877e-01 5.28048976e-01\n",
      "  5.22110720e-01]\n",
      " [5.17618713e-01 5.24116513e-01 5.28364145e-01 5.26916547e-01\n",
      "  5.20981064e-01]\n",
      " [5.15968684e-01 5.22549825e-01 5.26805957e-01 5.25210703e-01\n",
      "  5.19280612e-01]\n",
      " [5.13513716e-01 5.20213984e-01 5.24481892e-01 5.22674381e-01\n",
      "  5.16754407e-01]\n",
      " [5.09917544e-01 5.16783716e-01 5.21067317e-01 5.18961974e-01\n",
      "  5.13060315e-01]\n",
      " [5.04746454e-01 5.11836431e-01 5.16139885e-01 5.13628683e-01\n",
      "  5.07758939e-01]\n",
      " [4.97471164e-01 5.04851538e-01 5.09178345e-01 5.06133176e-01\n",
      "  5.00316802e-01]\n",
      " [4.87491030e-01 4.95230742e-01 4.99582142e-01 4.95863311e-01\n",
      "  4.90132243e-01]\n",
      " [4.74189440e-01 4.82348597e-01 4.86721194e-01 4.82193729e-01\n",
      "  4.76592426e-01]\n",
      " [4.57023383e-01 4.65637664e-01 4.70020464e-01 4.64577974e-01\n",
      "  4.59163747e-01]\n",
      " [4.35638373e-01 4.44701567e-01 4.49073024e-01 4.42665590e-01\n",
      "  4.37506029e-01]\n",
      " [4.09984688e-01 4.19434102e-01 4.23760176e-01 4.16419259e-01\n",
      "  4.11586197e-01]\n",
      " [3.80399571e-01 3.90110045e-01 3.94344374e-01 3.86196073e-01\n",
      "  3.81756742e-01]\n",
      " [3.47621549e-01 3.57412240e-01 3.61499159e-01 3.52759081e-01\n",
      "  3.48766535e-01]\n",
      " [3.12721030e-01 3.22375219e-01 3.26255436e-01 3.17204138e-01\n",
      "  3.13689664e-01]\n",
      " [2.76959981e-01 2.86253376e-01 2.89871143e-01 2.80815973e-01\n",
      "  2.77785682e-01]\n",
      " [2.41618401e-01 2.50348409e-01 2.53658364e-01 2.44892166e-01\n",
      "  2.42328389e-01]\n",
      " [2.07833885e-01 2.15842507e-01 2.18814540e-01 2.10581717e-01\n",
      "  2.08448161e-01]\n",
      " [1.76490097e-01 1.83676091e-01 1.86297321e-01 1.78773788e-01\n",
      "  1.77022479e-01]\n",
      " [1.48168445e-01 1.54488371e-01 1.56762290e-01 1.50050459e-01\n",
      "  1.48628527e-01]\n",
      " [1.23156548e-01 1.28617312e-01 1.30560876e-01 1.24696549e-01\n",
      "  1.23551602e-01]\n",
      " [1.01494916e-01 1.06141675e-01 1.07781399e-01 1.02747593e-01\n",
      "  1.01831249e-01]\n",
      " [8.30409582e-02 8.69439430e-02 8.83119292e-02 8.40549087e-02\n",
      "  8.33246268e-02]\n",
      " [6.75336968e-02 7.07763835e-02 7.19069018e-02 6.83510904e-02\n",
      "  6.77707364e-02]\n",
      " [5.46491780e-02 5.73190049e-02 5.82459086e-02 5.53059299e-02\n",
      "  5.48455528e-02]\n",
      " [4.40425191e-02 4.62244007e-02 4.69794022e-02 4.45687720e-02\n",
      "  4.42039612e-02]\n",
      " [3.53765757e-02 3.71489028e-02 3.77605897e-02 3.57973344e-02\n",
      "  3.55084215e-02]\n",
      " [2.83393152e-02 2.97718953e-02 3.02653097e-02 2.86751306e-02\n",
      "  2.84463876e-02]\n",
      " [2.26526742e-02 2.38060431e-02 2.42026467e-02 2.29203119e-02\n",
      "  2.27392223e-02]\n",
      " [1.80755524e-02 1.90011658e-02 1.93190446e-02 1.82886093e-02\n",
      "  1.81452414e-02]\n",
      " [1.44031116e-02 1.51440432e-02 1.53982401e-02 1.45725629e-02\n",
      "  1.44590493e-02]\n",
      " [1.14639831e-02 1.20558668e-02 1.22587661e-02 1.15986545e-02\n",
      "  1.15087685e-02]\n",
      " [9.11648218e-03 9.58852778e-03 9.75024377e-03 9.22344959e-03\n",
      "  9.15226496e-03]\n",
      " [7.24453117e-03 7.62051133e-03 7.74925213e-03 7.32945406e-03\n",
      "  7.27307372e-03]\n",
      " [5.75370415e-03 6.05285815e-03 6.15525196e-03 5.82110055e-03\n",
      "  5.77644127e-03]\n",
      " [4.56761336e-03 4.80544294e-03 4.88682119e-03 4.62108461e-03\n",
      "  4.58570665e-03]\n",
      " [3.62473145e-03 3.81368355e-03 3.87832129e-03 3.66714473e-03\n",
      "  3.63911717e-03]\n",
      " [2.87566962e-03 3.02571100e-03 3.07702784e-03 2.90930548e-03\n",
      "  2.88709980e-03]\n",
      " [2.28088937e-03 2.39998355e-03 2.44070953e-03 2.30756035e-03\n",
      "  2.28996636e-03]\n",
      " [1.80880499e-03 1.90330400e-03 1.93561531e-03 1.82995079e-03\n",
      "  1.81601016e-03]\n",
      " [1.43422611e-03 1.50918976e-03 1.53481899e-03 1.45098978e-03\n",
      "  1.43994353e-03]\n",
      " [1.13708938e-03 1.19654383e-03 1.21686906e-03 1.15037806e-03\n",
      "  1.14162502e-03]\n",
      " [9.01431654e-04 9.48577862e-04 9.64694378e-04 9.11965067e-04\n",
      "  9.05029021e-04]\n",
      " [7.14562562e-04 7.51943714e-04 7.64721508e-04 7.22911596e-04\n",
      "  7.17415268e-04]\n",
      " [5.66400119e-04 5.96035724e-04 6.06165509e-04 5.73017518e-04\n",
      "  5.68662005e-04]\n",
      " [4.48938745e-04 4.72431795e-04 4.80461740e-04 4.54183506e-04\n",
      "  4.50731983e-04]\n",
      " [3.55824233e-04 3.74446685e-04 3.80811701e-04 3.59980984e-04\n",
      "  3.57245804e-04]\n",
      " [2.82014743e-04 2.96775615e-04 3.01820674e-04 2.85309129e-04\n",
      "  2.83141603e-04]\n",
      " [2.23510783e-04 2.35210341e-04 2.39209026e-04 2.26121672e-04\n",
      "  2.24403982e-04]\n",
      " [1.77140358e-04 1.86413201e-04 1.89582443e-04 1.79209534e-04\n",
      "  1.77848317e-04]\n",
      " [1.40388169e-04 1.47737457e-04 1.50249248e-04 1.42028013e-04\n",
      "  1.40949286e-04]\n",
      " [1.11259912e-04 1.17084548e-04 1.19075238e-04 1.12559496e-04\n",
      "  1.11704633e-04]\n",
      " [8.81745223e-05 9.27907298e-05 9.43684054e-05 8.92044432e-05\n",
      "  8.85269841e-05]\n",
      " [6.98786505e-05 7.35370939e-05 7.47874297e-05 7.06948594e-05\n",
      "  7.01579882e-05]\n",
      " [5.53787971e-05 5.82781627e-05 5.92690669e-05 5.60256376e-05\n",
      "  5.56001786e-05]\n",
      " [4.38874792e-05 4.61852470e-05 4.69705433e-05 4.44000948e-05\n",
      "  4.40629272e-05]\n",
      " [3.47805349e-05 3.66015207e-05 3.72238681e-05 3.51867775e-05\n",
      "  3.49195789e-05]\n",
      " [2.75632668e-05 2.90063946e-05 2.94996029e-05 2.78852094e-05\n",
      "  2.76734596e-05]\n",
      " [2.18435983e-05 2.29872698e-05 2.33781343e-05 2.20987337e-05\n",
      "  2.19309259e-05]\n",
      " [1.73107916e-05 1.82171426e-05 1.85268994e-05 1.75129829e-05\n",
      "  1.73799983e-05]\n",
      " [1.37185776e-05 1.44368521e-05 1.46823312e-05 1.38788113e-05\n",
      "  1.37734234e-05]\n",
      " [1.08717829e-05 1.14410075e-05 1.16355468e-05 1.09987657e-05\n",
      "  1.09152477e-05]]\n",
      "Test scores for RR [[ 5.43918669e-01  5.18927834e-01  4.99190265e-01  5.10632210e-01\n",
      "   5.20658107e-01]\n",
      " [ 5.43918703e-01  5.18927890e-01  4.99190192e-01  5.10632213e-01\n",
      "   5.20658131e-01]\n",
      " [ 5.43918746e-01  5.18927962e-01  4.99190100e-01  5.10632216e-01\n",
      "   5.20658162e-01]\n",
      " [ 5.43918801e-01  5.18928052e-01  4.99189984e-01  5.10632221e-01\n",
      "   5.20658201e-01]\n",
      " [ 5.43918870e-01  5.18928165e-01  4.99189837e-01  5.10632226e-01\n",
      "   5.20658250e-01]\n",
      " [ 5.43918957e-01  5.18928308e-01  4.99189653e-01  5.10632233e-01\n",
      "   5.20658311e-01]\n",
      " [ 5.43919067e-01  5.18928489e-01  4.99189419e-01  5.10632242e-01\n",
      "   5.20658389e-01]\n",
      " [ 5.43919205e-01  5.18928717e-01  4.99189125e-01  5.10632252e-01\n",
      "   5.20658487e-01]\n",
      " [ 5.43919379e-01  5.18929004e-01  4.99188753e-01  5.10632266e-01\n",
      "   5.20658610e-01]\n",
      " [ 5.43919599e-01  5.18929366e-01  4.99188284e-01  5.10632283e-01\n",
      "   5.20658765e-01]\n",
      " [ 5.43919876e-01  5.18929823e-01  4.99187691e-01  5.10632303e-01\n",
      "   5.20658961e-01]\n",
      " [ 5.43920225e-01  5.18930399e-01  4.99186943e-01  5.10632329e-01\n",
      "   5.20659207e-01]\n",
      " [ 5.43920664e-01  5.18931124e-01  4.99185999e-01  5.10632360e-01\n",
      "   5.20659516e-01]\n",
      " [ 5.43921216e-01  5.18932038e-01  4.99184805e-01  5.10632397e-01\n",
      "   5.20659904e-01]\n",
      " [ 5.43921910e-01  5.18933188e-01  4.99183297e-01  5.10632442e-01\n",
      "   5.20660391e-01]\n",
      " [ 5.43922781e-01  5.18934636e-01  4.99181392e-01  5.10632495e-01\n",
      "   5.20661002e-01]\n",
      " [ 5.43923873e-01  5.18936456e-01  4.99178982e-01  5.10632555e-01\n",
      "   5.20661764e-01]\n",
      " [ 5.43925241e-01  5.18938743e-01  4.99175933e-01  5.10632621e-01\n",
      "   5.20662714e-01]\n",
      " [ 5.43926949e-01  5.18941612e-01  4.99172073e-01  5.10632688e-01\n",
      "   5.20663895e-01]\n",
      " [ 5.43929076e-01  5.18945206e-01  4.99167181e-01  5.10632746e-01\n",
      "   5.20665355e-01]\n",
      " [ 5.43931716e-01  5.18949699e-01  4.99160977e-01  5.10632778e-01\n",
      "   5.20667150e-01]\n",
      " [ 5.43934976e-01  5.18955304e-01  4.99153096e-01  5.10632754e-01\n",
      "   5.20669341e-01]\n",
      " [ 5.43938977e-01  5.18962270e-01  4.99143071e-01  5.10632620e-01\n",
      "   5.20671985e-01]\n",
      " [ 5.43943847e-01  5.18970895e-01  4.99130290e-01  5.10632286e-01\n",
      "   5.20675133e-01]\n",
      " [ 5.43949708e-01  5.18981512e-01  4.99113956e-01  5.10631603e-01\n",
      "   5.20678804e-01]\n",
      " [ 5.43956653e-01  5.18994489e-01  4.99093017e-01  5.10630325e-01\n",
      "   5.20682959e-01]\n",
      " [ 5.43964701e-01  5.19010197e-01  4.99066077e-01  5.10628054e-01\n",
      "   5.20687445e-01]\n",
      " [ 5.43973723e-01  5.19028962e-01  4.99031259e-01  5.10624145e-01\n",
      "   5.20691906e-01]\n",
      " [ 5.43983316e-01  5.19050966e-01  4.98986025e-01  5.10617562e-01\n",
      "   5.20695639e-01]\n",
      " [ 5.43992589e-01  5.19076090e-01  4.98926891e-01  5.10606649e-01\n",
      "   5.20697356e-01]\n",
      " [ 5.43999829e-01  5.19103625e-01  4.98849035e-01  5.10588773e-01\n",
      "   5.20694808e-01]\n",
      " [ 5.44001952e-01  5.19131818e-01  4.98745706e-01  5.10559766e-01\n",
      "   5.20684186e-01]\n",
      " [ 5.43993647e-01  5.19157121e-01  4.98607354e-01  5.10513064e-01\n",
      "   5.20659191e-01]\n",
      " [ 5.43966035e-01  5.19173018e-01  4.98420352e-01  5.10438389e-01\n",
      "   5.20609592e-01]\n",
      " [ 5.43904618e-01  5.19168178e-01  4.98165120e-01  5.10319756e-01\n",
      "   5.20519028e-01]\n",
      " [ 5.43786171e-01  5.19123659e-01  4.97813387e-01  5.10132490e-01\n",
      "   5.20361715e-01]\n",
      " [ 5.43574164e-01  5.19008705e-01  4.97324263e-01  5.09838870e-01\n",
      "   5.20097615e-01]\n",
      " [ 5.43212136e-01  5.18774648e-01  4.96638686e-01  5.09381885e-01\n",
      "   5.19665508e-01]\n",
      " [ 5.42614465e-01  5.18346291e-01  4.95671808e-01  5.08676596e-01\n",
      "   5.18973426e-01]\n",
      " [ 5.41654011e-01  5.17610263e-01  4.94302942e-01  5.07598680e-01\n",
      "   5.17885984e-01]\n",
      " [ 5.40146564e-01  5.16400151e-01  4.92363010e-01  5.05970146e-01\n",
      "   5.16208685e-01]\n",
      " [ 5.37832932e-01  5.14479035e-01  4.89620202e-01  5.03543105e-01\n",
      "   5.13670242e-01]\n",
      " [ 5.34361220e-01  5.11521577e-01  4.85765828e-01  4.99984072e-01\n",
      "   5.09905796e-01]\n",
      " [ 5.29274340e-01  5.07100215e-01  4.80404423e-01  4.94863624e-01\n",
      "   5.04446425e-01]\n",
      " [ 5.22010824e-01  5.00682877e-01  4.73054561e-01  4.87658899e-01\n",
      "   4.96723236e-01]\n",
      " [ 5.11929229e-01  4.91652128e-01  4.63168808e-01  4.77778389e-01\n",
      "   4.86096164e-01]\n",
      " [ 4.98365821e-01  4.79355651e-01  4.50181045e-01  4.64617535e-01\n",
      "   4.71916216e-01]\n",
      " [ 4.80729160e-01  4.63192969e-01  4.33584828e-01  4.47647738e-01\n",
      "   4.53623066e-01]\n",
      " [ 4.58622671e-01  4.42732025e-01  4.13036525e-01  4.26529522e-01\n",
      "   4.30866904e-01]\n",
      " [ 4.31969917e-01  4.17833451e-01  3.88463288e-01  4.01225808e-01\n",
      "   4.03627884e-01]\n",
      " [ 4.01104953e-01  3.88747071e-01  3.60144648e-01  3.72080525e-01\n",
      "   3.72296076e-01]\n",
      " [ 3.66791104e-01  3.56143653e-01  3.28735606e-01  3.39829855e-01\n",
      "   3.37678259e-01]\n",
      " [ 3.30150380e-01  3.21060634e-01  2.95213257e-01  3.05531604e-01\n",
      "   3.00918051e-01]\n",
      " [ 2.92516193e-01  2.84769185e-01  2.60754346e-01  2.70426157e-01\n",
      "   2.63345336e-01]\n",
      " [ 2.55248992e-01  2.48597768e-01  2.26575523e-01  2.35766428e-01\n",
      "   2.26295326e-01]\n",
      " [ 2.19564287e-01  2.13760029e-01  1.93779023e-01  2.02661903e-01\n",
      "   1.90944565e-01]\n",
      " [ 1.86411759e-01  1.81227412e-01  1.63239592e-01  1.71971184e-01\n",
      "   1.58199279e-01]\n",
      " [ 1.56421498e-01  1.51665911e-01  1.35549605e-01  1.44256367e-01\n",
      "   1.28649217e-01]\n",
      " [ 1.29911080e-01  1.25434010e-01  1.11019380e-01  1.19792539e-01\n",
      "   1.02579348e-01]\n",
      " [ 1.06933981e-01  1.02624317e-01  8.97166535e-02  9.86141227e-02\n",
      "   8.00199277e-02]\n",
      " [ 8.73470874e-02  8.31271804e-02  7.15255640e-02  8.05777092e-02\n",
      "   6.08135255e-02]\n",
      " [ 7.08794345e-02  6.66980034e-02  5.62085728e-02  6.54252850e-02\n",
      "   4.46821446e-02]\n",
      " [ 5.71913425e-02  5.30165693e-02  4.34608205e-02  5.28382221e-02\n",
      "   3.12843830e-02]\n",
      " [ 4.59194540e-02  4.17331113e-02  3.29522018e-02  4.24781578e-02\n",
      "   2.02586452e-02]\n",
      " [ 3.67075588e-02  3.25004340e-02  2.43565980e-02  3.40148107e-02\n",
      "   1.12524950e-02]\n",
      " [ 2.92253660e-02  2.49939202e-02  1.73699932e-02  2.71427935e-02\n",
      "   3.94036191e-03]\n",
      " [ 2.31781609e-02  1.89222141e-02  1.17200510e-02  2.15901453e-02\n",
      "  -1.96751209e-03]\n",
      " [ 1.83101663e-02  1.40313650e-02  7.16971703e-03  1.71211690e-02\n",
      "  -6.72214246e-03]\n",
      " [ 1.44039237e-02  1.01047711e-02  3.51699496e-03  1.35356867e-02\n",
      "  -1.05366534e-02]\n",
      " [ 1.12774108e-02  6.96068231e-03  5.92509358e-04  1.06662723e-02\n",
      "  -1.35892608e-02]\n",
      " [ 8.78007446e-03  4.44848699e-03 -1.74402330e-03  8.37452806e-03\n",
      "  -1.60272578e-02]\n",
      " [ 6.78853333e-03  2.44457531e-03 -3.60769083e-03  6.54708647e-03\n",
      "  -1.79712841e-02]\n",
      " [ 5.20239616e-03  8.48255559e-04 -5.09221465e-03  5.09173705e-03\n",
      "  -1.95194566e-02]\n",
      " [ 3.94043421e-03 -4.22016763e-04 -6.27347677e-03  3.93389096e-03\n",
      "  -2.07511361e-02]\n",
      " [ 2.93721138e-03 -1.43197805e-03 -7.21263778e-03  3.01347413e-03\n",
      "  -2.17302368e-02]\n",
      " [ 2.14019525e-03 -2.23443084e-03 -7.95881787e-03  2.28226697e-03\n",
      "  -2.25080584e-02]\n",
      " [ 1.50732688e-03 -2.87166865e-03 -8.55135677e-03  1.70166868e-03\n",
      "  -2.31256662e-02]\n",
      " [ 1.00500470e-03 -3.37749202e-03 -9.02169169e-03  1.24084367e-03\n",
      "  -2.36158636e-02]\n",
      " [ 6.06429129e-04 -3.77886646e-03 -9.39490104e-03  8.75200505e-04\n",
      "  -2.40048110e-02]\n",
      " [ 2.90254208e-04 -4.09727471e-03 -9.69096308e-03  5.85153257e-04\n",
      "  -2.43133435e-02]\n",
      " [ 3.94956944e-05 -4.34981271e-03 -9.92577583e-03  3.55118907e-04\n",
      "  -2.45580378e-02]\n",
      " [-1.59348906e-04 -4.55007357e-03 -1.01119795e-02  1.72709439e-04\n",
      "  -2.47520718e-02]\n",
      " [-3.17007010e-04 -4.70885784e-03 -1.02596173e-02  2.80831800e-05\n",
      "  -2.49059145e-02]\n",
      " [-4.41996847e-04 -4.83474254e-03 -1.03766645e-02 -8.65745668e-05\n",
      "  -2.50278787e-02]\n",
      " [-5.41079621e-04 -4.93453598e-03 -1.04694519e-02 -1.77466459e-04\n",
      "  -2.51245626e-02]\n",
      " [-6.19620165e-04 -5.01364065e-03 -1.05430028e-02 -2.49514063e-04\n",
      "  -2.52012013e-02]\n",
      " [-6.81874226e-04 -5.07634238e-03 -1.06013023e-02 -3.06621446e-04\n",
      "  -2.52619477e-02]\n",
      " [-7.31217059e-04 -5.12604034e-03 -1.06475109e-02 -3.51884910e-04\n",
      "  -2.53100954e-02]\n",
      " [-7.70325154e-04 -5.16543011e-03 -1.06841350e-02 -3.87759728e-04\n",
      "  -2.53482563e-02]\n",
      " [-8.01320631e-04 -5.19664896e-03 -1.07131619e-02 -4.16192607e-04\n",
      "  -2.53785009e-02]\n",
      " [-8.25885888e-04 -5.22139132e-03 -1.07361670e-02 -4.38726872e-04\n",
      "  -2.54024711e-02]\n",
      " [-8.45354610e-04 -5.24100046e-03 -1.07543993e-02 -4.56585956e-04\n",
      "  -2.54214682e-02]\n",
      " [-8.60783977e-04 -5.25654114e-03 -1.07688487e-02 -4.70739644e-04\n",
      "  -2.54365237e-02]\n",
      " [-8.73011951e-04 -5.26885735e-03 -1.07803002e-02 -4.81956619e-04\n",
      "  -2.54484555e-02]\n",
      " [-8.82702702e-04 -5.27861804e-03 -1.07893755e-02 -4.90846144e-04\n",
      "  -2.54579114e-02]\n",
      " [-8.90382640e-04 -5.28635341e-03 -1.07965677e-02 -4.97891107e-04\n",
      "  -2.54654053e-02]\n",
      " [-8.96468974e-04 -5.29248368e-03 -1.08022676e-02 -5.03474223e-04\n",
      "  -2.54713442e-02]\n",
      " [-9.01292362e-04 -5.29734189e-03 -1.08067846e-02 -5.07898812e-04\n",
      "  -2.54760507e-02]\n",
      " [-9.05114859e-04 -5.30119199e-03 -1.08103644e-02 -5.11405264e-04\n",
      "  -2.54797806e-02]\n",
      " [-9.08144152e-04 -5.30424315e-03 -1.08132013e-02 -5.14184094e-04\n",
      "  -2.54827365e-02]]\n"
     ]
    }
   ],
   "source": [
    "#importing necessary module\n",
    "from sklearn.model_selection import validation_curve\n",
    "\n",
    "# Defining values for alpha\n",
    "param_range=np.logspace(-2,8,100)\n",
    "\n",
    "#Calculating train and test r2 score for range of alpha values using validation curve\n",
    "train_scores,test_scores=validation_curve(\n",
    "    Ridge(),x_train_s,y_train,param_name=\"alpha\",param_range=param_range,cv=5,scoring=\"r2\")\n",
    "\n",
    "#printing Train and test r2 score for range of values\n",
    "print(\"Train scores for RR\",train_scores)\n",
    "print(\"Test scores for RR\",test_scores)"
   ]
  },
  {
   "cell_type": "code",
   "execution_count": 38,
   "id": "67484fbc-91e0-4110-9732-7ea60c04849f",
   "metadata": {},
   "outputs": [
    {
     "name": "stderr",
     "output_type": "stream",
     "text": [
      "C:\\Users\\The Computer World\\anaconda\\Lib\\site-packages\\seaborn\\_oldcore.py:1119: FutureWarning: use_inf_as_na option is deprecated and will be removed in a future version. Convert inf values to NaN before operating instead.\n",
      "  with pd.option_context('mode.use_inf_as_na', True):\n",
      "C:\\Users\\The Computer World\\anaconda\\Lib\\site-packages\\seaborn\\_oldcore.py:1119: FutureWarning: use_inf_as_na option is deprecated and will be removed in a future version. Convert inf values to NaN before operating instead.\n",
      "  with pd.option_context('mode.use_inf_as_na', True):\n"
     ]
    },
    {
     "data": {
      "text/plain": [
       "<seaborn.axisgrid.JointGrid at 0x25ad3acb9d0>"
      ]
     },
     "execution_count": 38,
     "metadata": {},
     "output_type": "execute_result"
    },
    {
     "data": {
      "image/png": "[encoded data removed]",
      "text/plain": [
       "<Figure size 600x600 with 3 Axes>"
      ]
     },
     "metadata": {},
     "output_type": "display_data"
    }
   ],
   "source": [
    "# Calculating mean R-squared scores for training and test sets\n",
    "train_mean = np.mean(train_scores, axis = 1)\n",
    "test_mean = np.mean(test_scores, axis = 1)\n",
    "\n",
    "# Creating a joint plot to visualize the relationship between log(alpha) and R-squared\n",
    "sns.jointplot(x=np.log(param_range), y=test_mean)"
   ]
  },
  {
   "cell_type": "code",
   "execution_count": 39,
   "id": "02a4a9f7-068a-473c-a75a-7bae35a43625",
   "metadata": {},
   "outputs": [
    {
     "data": {
      "text/plain": [
       "(array([25], dtype=int64),)"
      ]
     },
     "execution_count": 39,
     "metadata": {},
     "output_type": "execute_result"
    }
   ],
   "source": [
    "# Finding the index value with the highest r2 value\n",
    "np.where(test_mean==max(test_mean))"
   ]
  },
  {
   "cell_type": "code",
   "execution_count": 40,
   "id": "cfab5e8d-3b40-4b74-9bd1-6011c3b3e8d4",
   "metadata": {},
   "outputs": [
    {
     "data": {
      "text/html": [
       "<style>#sk-container-id-3 {color: black;background-color: white;}#sk-container-id-3 pre{padding: 0;}#sk-container-id-3 div.sk-toggleable {background-color: white;}#sk-container-id-3 label.sk-toggleable__label {cursor: pointer;display: block;width: 100%;margin-bottom: 0;padding: 0.3em;box-sizing: border-box;text-align: center;}#sk-container-id-3 label.sk-toggleable__label-arrow:before {content: \"▸\";float: left;margin-right: 0.25em;color: #696969;}#sk-container-id-3 label.sk-toggleable__label-arrow:hover:before {color: black;}#sk-container-id-3 div.sk-estimator:hover label.sk-toggleable__label-arrow:before {color: black;}#sk-container-id-3 div.sk-toggleable__content {max-height: 0;max-width: 0;overflow: hidden;text-align: left;background-color: #f0f8ff;}#sk-container-id-3 div.sk-toggleable__content pre {margin: 0.2em;color: black;border-radius: 0.25em;background-color: #f0f8ff;}#sk-container-id-3 input.sk-toggleable__control:checked~div.sk-toggleable__content {max-height: 200px;max-width: 100%;overflow: auto;}#sk-container-id-3 input.sk-toggleable__control:checked~label.sk-toggleable__label-arrow:before {content: \"▾\";}#sk-container-id-3 div.sk-estimator input.sk-toggleable__control:checked~label.sk-toggleable__label {background-color: #d4ebff;}#sk-container-id-3 div.sk-label input.sk-toggleable__control:checked~label.sk-toggleable__label {background-color: #d4ebff;}#sk-container-id-3 input.sk-hidden--visually {border: 0;clip: rect(1px 1px 1px 1px);clip: rect(1px, 1px, 1px, 1px);height: 1px;margin: -1px;overflow: hidden;padding: 0;position: absolute;width: 1px;}#sk-container-id-3 div.sk-estimator {font-family: monospace;background-color: #f0f8ff;border: 1px dotted black;border-radius: 0.25em;box-sizing: border-box;margin-bottom: 0.5em;}#sk-container-id-3 div.sk-estimator:hover {background-color: #d4ebff;}#sk-container-id-3 div.sk-parallel-item::after {content: \"\";width: 100%;border-bottom: 1px solid gray;flex-grow: 1;}#sk-container-id-3 div.sk-label:hover label.sk-toggleable__label {background-color: #d4ebff;}#sk-container-id-3 div.sk-serial::before {content: \"\";position: absolute;border-left: 1px solid gray;box-sizing: border-box;top: 0;bottom: 0;left: 50%;z-index: 0;}#sk-container-id-3 div.sk-serial {display: flex;flex-direction: column;align-items: center;background-color: white;padding-right: 0.2em;padding-left: 0.2em;position: relative;}#sk-container-id-3 div.sk-item {position: relative;z-index: 1;}#sk-container-id-3 div.sk-parallel {display: flex;align-items: stretch;justify-content: center;background-color: white;position: relative;}#sk-container-id-3 div.sk-item::before, #sk-container-id-3 div.sk-parallel-item::before {content: \"\";position: absolute;border-left: 1px solid gray;box-sizing: border-box;top: 0;bottom: 0;left: 50%;z-index: -1;}#sk-container-id-3 div.sk-parallel-item {display: flex;flex-direction: column;z-index: 1;position: relative;background-color: white;}#sk-container-id-3 div.sk-parallel-item:first-child::after {align-self: flex-end;width: 50%;}#sk-container-id-3 div.sk-parallel-item:last-child::after {align-self: flex-start;width: 50%;}#sk-container-id-3 div.sk-parallel-item:only-child::after {width: 0;}#sk-container-id-3 div.sk-dashed-wrapped {border: 1px dashed gray;margin: 0 0.4em 0.5em 0.4em;box-sizing: border-box;padding-bottom: 0.4em;background-color: white;}#sk-container-id-3 div.sk-label label {font-family: monospace;font-weight: bold;display: inline-block;line-height: 1.2em;}#sk-container-id-3 div.sk-label-container {text-align: center;}#sk-container-id-3 div.sk-container {/* jupyter's `normalize.less` sets `[hidden] { display: none; }` but bootstrap.min.css set `[hidden] { display: none !important; }` so we also need the `!important` here to be able to override the default hidden behavior on the sphinx rendered scikit-learn.org. See: https://github.com/scikit-learn/scikit-learn/issues/21755 */display: inline-block !important;position: relative;}#sk-container-id-3 div.sk-text-repr-fallback {display: none;}</style><div id=\"sk-container-id-3\" class=\"sk-top-container\"><div class=\"sk-text-repr-fallback\"><pre>Ridge(alpha=3.351602650938841)</pre><b>In a Jupyter environment, please rerun this cell to show the HTML representation or trust the notebook. <br />On GitHub, the HTML representation is unable to render, please try loading this page with nbviewer.org.</b></div><div class=\"sk-container\" hidden><div class=\"sk-item\"><div class=\"sk-estimator sk-toggleable\"><input class=\"sk-toggleable__control sk-hidden--visually\" id=\"sk-estimator-id-3\" type=\"checkbox\" checked><label for=\"sk-estimator-id-3\" class=\"sk-toggleable__label sk-toggleable__label-arrow\">Ridge</label><div class=\"sk-toggleable__content\"><pre>Ridge(alpha=3.351602650938841)</pre></div></div></div></div></div>"
      ],
      "text/plain": [
       "Ridge(alpha=3.351602650938841)"
      ]
     },
     "execution_count": 40,
     "metadata": {},
     "output_type": "execute_result"
    }
   ],
   "source": [
    "# Train a Ridge regression model with the best alpha\n",
    "lm3_r_best = Ridge(alpha = param_range[25])\n",
    "lm3_r_best.fit(x_train_s, y_train)"
   ]
  },
  {
   "cell_type": "markdown",
   "id": "23771a33-cafa-4663-845b-c7c14fd2e58b",
   "metadata": {},
   "source": [
    "### Evaluation"
   ]
  },
  {
   "cell_type": "code",
   "execution_count": 41,
   "id": "5aabd916-61e7-44e9-8610-41963f80c0b4",
   "metadata": {},
   "outputs": [],
   "source": [
    "# Calculating the R-squared (coefficient of determination) scores for the training and test datasets.\n",
    "lm3_train_r2=r2_score(y_train,lm3_r_best.predict(x_train_s))\n",
    "lm3_test_r2=r2_score(y_test,lm3_r_best.predict(x_test_s))\n",
    "\n",
    "# Calculating the Mean Squared Error (MSE) for the training and test datasets.\n",
    "lm3_train_mse= mean_squared_error(y_train, lm3_r_best.predict(x_train_s))\n",
    "lm3_test_mse = mean_squared_error(y_test, lm3_r_best.predict(x_test_s))"
   ]
  },
  {
   "cell_type": "code",
   "execution_count": 42,
   "id": "4f3fcb61-55fd-4fad-8953-da213ecd9d73",
   "metadata": {},
   "outputs": [
    {
     "name": "stdout",
     "output_type": "stream",
     "text": [
      "Ridge Regression with range of alpha values\n",
      "Training Mean Squared Error = 63731339.46133641\n",
      "Test Mean Squared Error = 59023558.40331011\n",
      "Training R2_score = 0.5262989511113831\n",
      "Test R2_score = 0.5413043912994151\n"
     ]
    }
   ],
   "source": [
    "# Print the results\n",
    "print('Ridge Regression with range of alpha values')\n",
    "print('Training Mean Squared Error =', lm3_train_mse)\n",
    "print('Test Mean Squared Error =', lm3_test_mse)\n",
    "print('Training R2_score =', lm3_train_r2)\n",
    "print('Test R2_score =', lm3_test_r2)"
   ]
  },
  {
   "cell_type": "markdown",
   "id": "51561f0d-b938-403d-8f55-38b09aad5fa4",
   "metadata": {},
   "source": [
    "# Lasso Regression"
   ]
  },
  {
   "cell_type": "code",
   "execution_count": 43,
   "id": "1178ec91-8166-42d5-8093-e859432fc620",
   "metadata": {},
   "outputs": [],
   "source": [
    "#importing necessary module\n",
    "from sklearn.linear_model import Lasso\n",
    "\n",
    "# Defining a range of alpha values for Lasso regression\n",
    "param_range2 = np.logspace(-2,8,100)\n",
    "\n",
    "#Calculating train and test r2 score for range of alpha values using validation curve\n",
    "train_score_l, test_score_l = validation_curve(\n",
    "    Lasso(), x_train_s, y_train, param_name=\"alpha\", param_range = param_range2, cv=5, scoring='r2')\n",
    "\n"
   ]
  },
  {
   "cell_type": "code",
   "execution_count": 44,
   "id": "99082bfd-7b8c-407f-b796-e9932bf47b96",
   "metadata": {},
   "outputs": [
    {
     "name": "stdout",
     "output_type": "stream",
     "text": [
      "Train scores for LR [[0.52073628 0.52706593 0.53129563 0.53014337 0.52420268]\n",
      " [0.52073628 0.52706593 0.53129563 0.53014337 0.52420268]\n",
      " [0.52073628 0.52706593 0.53129563 0.53014337 0.52420268]\n",
      " [0.52073628 0.52706593 0.53129563 0.53014337 0.52420268]\n",
      " [0.52073628 0.52706593 0.53129563 0.53014337 0.52420268]\n",
      " [0.52073628 0.52706593 0.53129563 0.53014337 0.52420268]\n",
      " [0.52073628 0.52706593 0.53129563 0.53014337 0.52420268]\n",
      " [0.52073628 0.52706593 0.53129563 0.53014337 0.52420268]\n",
      " [0.52073628 0.52706593 0.53129563 0.53014337 0.52420268]\n",
      " [0.52073628 0.52706593 0.53129563 0.53014337 0.52420268]\n",
      " [0.52073628 0.52706593 0.53129563 0.53014337 0.52420268]\n",
      " [0.52073628 0.52706593 0.53129563 0.53014337 0.52420268]\n",
      " [0.52073628 0.52706593 0.53129563 0.53014337 0.52420268]\n",
      " [0.52073628 0.52706593 0.53129563 0.53014337 0.52420268]\n",
      " [0.52073628 0.52706593 0.53129563 0.53014337 0.52420268]\n",
      " [0.52073628 0.52706593 0.53129563 0.53014337 0.52420268]\n",
      " [0.52073628 0.52706592 0.53129562 0.53014336 0.52420267]\n",
      " [0.52073627 0.52706592 0.53129562 0.53014336 0.52420267]\n",
      " [0.52073626 0.52706591 0.53129561 0.53014335 0.52420266]\n",
      " [0.52073625 0.5270659  0.5312956  0.53014334 0.52420265]\n",
      " [0.52073623 0.52706588 0.53129558 0.53014331 0.52420263]\n",
      " [0.5207362  0.52706585 0.53129555 0.53014328 0.52420259]\n",
      " [0.52073614 0.5270658  0.53129549 0.53014323 0.52420254]\n",
      " [0.52073606 0.52706572 0.53129541 0.53014314 0.52420245]\n",
      " [0.52073593 0.52706559 0.53129528 0.53014301 0.52420232]\n",
      " [0.52073572 0.52706539 0.53129507 0.53014279 0.52420211]\n",
      " [0.52073539 0.52706507 0.53129474 0.53014245 0.52420176]\n",
      " [0.52073485 0.52706456 0.5312942  0.5301419  0.52420122]\n",
      " [0.52073401 0.52706375 0.53129336 0.53014103 0.52420035]\n",
      " [0.52073266 0.52706246 0.53129201 0.53013964 0.52419897]\n",
      " [0.52073051 0.5270604  0.53128986 0.53013743 0.52419677]\n",
      " [0.52072709 0.52705713 0.53128645 0.5301339  0.52419328]\n",
      " [0.52072165 0.52705191 0.53128101 0.5301283  0.5241877 ]\n",
      " [0.52071297 0.52704361 0.53127234 0.53011937 0.52417883]\n",
      " [0.52069917 0.52703039 0.53125854 0.53010515 0.52416471]\n",
      " [0.52067719 0.52700934 0.53123658 0.53008251 0.52414222]\n",
      " [0.52064218 0.52697582 0.5312016  0.53004646 0.5241064 ]\n",
      " [0.52058645 0.52692245 0.53114591 0.52998906 0.52404938]\n",
      " [0.52050694 0.52683747 0.53105722 0.52989769 0.52396447]\n",
      " [0.52038912 0.52670215 0.53093742 0.52977007 0.52383637]\n",
      " [0.52020152 0.52648669 0.53077929 0.52956684 0.52363238]\n",
      " [0.51991012 0.52614361 0.53053119 0.52924325 0.52330759]\n",
      " [0.51949583 0.52565198 0.53013614 0.52872801 0.52303551]\n",
      " [0.51883618 0.5249182  0.52950712 0.52790759 0.52265791]\n",
      " [0.51778582 0.52390707 0.5285192  0.52686192 0.52205666]\n",
      " [0.51611334 0.52266185 0.52727267 0.52550327 0.52109931]\n",
      " [0.51345029 0.52111311 0.52576365 0.52359778 0.51957493]\n",
      " [0.51060668 0.51886401 0.52350324 0.52112604 0.5171477 ]\n",
      " [0.50677623 0.51528279 0.51990402 0.51719033 0.51328285]\n",
      " [0.50067708 0.50958048 0.51417304 0.51092356 0.50712891]\n",
      " [0.49096549 0.50050077 0.50504769 0.50094508 0.49733011]\n",
      " [0.4755019  0.48604331 0.49051757 0.48505651 0.48172788]\n",
      " [0.4508795  0.46302294 0.4673815  0.45975741 0.45688437]\n",
      " [0.41167366 0.42636798 0.43054233 0.41947405 0.41732645]\n",
      " [0.34924688 0.3680029  0.37188439 0.35533154 0.35433902]\n",
      " [0.27787413 0.28983802 0.29029584 0.27764045 0.27812564]\n",
      " [0.22187748 0.23363542 0.23337073 0.20628751 0.20866982]\n",
      " [0.13271497 0.14774222 0.14620418 0.11102979 0.11239771]\n",
      " [0.         0.01097596 0.00741039 0.         0.        ]\n",
      " [0.         0.         0.         0.         0.        ]\n",
      " [0.         0.         0.         0.         0.        ]\n",
      " [0.         0.         0.         0.         0.        ]\n",
      " [0.         0.         0.         0.         0.        ]\n",
      " [0.         0.         0.         0.         0.        ]\n",
      " [0.         0.         0.         0.         0.        ]\n",
      " [0.         0.         0.         0.         0.        ]\n",
      " [0.         0.         0.         0.         0.        ]\n",
      " [0.         0.         0.         0.         0.        ]\n",
      " [0.         0.         0.         0.         0.        ]\n",
      " [0.         0.         0.         0.         0.        ]\n",
      " [0.         0.         0.         0.         0.        ]\n",
      " [0.         0.         0.         0.         0.        ]\n",
      " [0.         0.         0.         0.         0.        ]\n",
      " [0.         0.         0.         0.         0.        ]\n",
      " [0.         0.         0.         0.         0.        ]\n",
      " [0.         0.         0.         0.         0.        ]\n",
      " [0.         0.         0.         0.         0.        ]\n",
      " [0.         0.         0.         0.         0.        ]\n",
      " [0.         0.         0.         0.         0.        ]\n",
      " [0.         0.         0.         0.         0.        ]\n",
      " [0.         0.         0.         0.         0.        ]\n",
      " [0.         0.         0.         0.         0.        ]\n",
      " [0.         0.         0.         0.         0.        ]\n",
      " [0.         0.         0.         0.         0.        ]\n",
      " [0.         0.         0.         0.         0.        ]\n",
      " [0.         0.         0.         0.         0.        ]\n",
      " [0.         0.         0.         0.         0.        ]\n",
      " [0.         0.         0.         0.         0.        ]\n",
      " [0.         0.         0.         0.         0.        ]\n",
      " [0.         0.         0.         0.         0.        ]\n",
      " [0.         0.         0.         0.         0.        ]\n",
      " [0.         0.         0.         0.         0.        ]\n",
      " [0.         0.         0.         0.         0.        ]\n",
      " [0.         0.         0.         0.         0.        ]\n",
      " [0.         0.         0.         0.         0.        ]\n",
      " [0.         0.         0.         0.         0.        ]\n",
      " [0.         0.         0.         0.         0.        ]\n",
      " [0.         0.         0.         0.         0.        ]\n",
      " [0.         0.         0.         0.         0.        ]\n",
      " [0.         0.         0.         0.         0.        ]]\n",
      "Test scores for LR [[ 5.43918717e-01  5.18927759e-01  4.99190423e-01  5.10632294e-01\n",
      "   5.20657742e-01]\n",
      " [ 5.43918764e-01  5.18927796e-01  4.99190391e-01  5.10632319e-01\n",
      "   5.20657671e-01]\n",
      " [ 5.43918824e-01  5.18927843e-01  4.99190352e-01  5.10632349e-01\n",
      "   5.20657581e-01]\n",
      " [ 5.43918899e-01  5.18927902e-01  4.99190302e-01  5.10632388e-01\n",
      "   5.20657468e-01]\n",
      " [ 5.43918994e-01  5.18927976e-01  4.99190239e-01  5.10632438e-01\n",
      "   5.20657328e-01]\n",
      " [ 5.43919114e-01  5.18928070e-01  4.99190160e-01  5.10632500e-01\n",
      "   5.20657147e-01]\n",
      " [ 5.43919265e-01  5.18928196e-01  4.99190060e-01  5.10632578e-01\n",
      "   5.20656920e-01]\n",
      " [ 5.43919455e-01  5.18928345e-01  4.99189933e-01  5.10632677e-01\n",
      "   5.20656632e-01]\n",
      " [ 5.43919678e-01  5.18928533e-01  4.99189750e-01  5.10632801e-01\n",
      "   5.20656270e-01]\n",
      " [ 5.43919981e-01  5.18928771e-01  4.99189549e-01  5.10632959e-01\n",
      "   5.20655812e-01]\n",
      " [ 5.43920364e-01  5.18929070e-01  4.99189294e-01  5.10633157e-01\n",
      "   5.20655235e-01]\n",
      " [ 5.43920847e-01  5.18929448e-01  4.99188974e-01  5.10633428e-01\n",
      "   5.20654506e-01]\n",
      " [ 5.43921456e-01  5.18929924e-01  4.99188569e-01  5.10633744e-01\n",
      "   5.20653587e-01]\n",
      " [ 5.43922225e-01  5.18930525e-01  4.99188058e-01  5.10634142e-01\n",
      "   5.20652426e-01]\n",
      " [ 5.43923194e-01  5.18931283e-01  4.99187413e-01  5.10634645e-01\n",
      "   5.20650962e-01]\n",
      " [ 5.43924417e-01  5.18932239e-01  4.99186598e-01  5.10635278e-01\n",
      "   5.20649113e-01]\n",
      " [ 5.43925960e-01  5.18933445e-01  4.99185570e-01  5.10636077e-01\n",
      "   5.20646780e-01]\n",
      " [ 5.43927906e-01  5.18934966e-01  4.99184270e-01  5.10637084e-01\n",
      "   5.20643835e-01]\n",
      " [ 5.43930359e-01  5.18936883e-01  4.99182629e-01  5.10638353e-01\n",
      "   5.20640117e-01]\n",
      " [ 5.43933452e-01  5.18939299e-01  4.99180555e-01  5.10639952e-01\n",
      "   5.20635422e-01]\n",
      " [ 5.43937351e-01  5.18942343e-01  4.99177933e-01  5.10641966e-01\n",
      "   5.20629494e-01]\n",
      " [ 5.43942263e-01  5.18946177e-01  4.99174617e-01  5.10644501e-01\n",
      "   5.20622007e-01]\n",
      " [ 5.43948451e-01  5.18951004e-01  4.99170420e-01  5.10647690e-01\n",
      "   5.20612548e-01]\n",
      " [ 5.43956242e-01  5.18957077e-01  4.99165105e-01  5.10651698e-01\n",
      "   5.20600595e-01]\n",
      " [ 5.43966044e-01  5.18964712e-01  4.99158367e-01  5.10656731e-01\n",
      "   5.20585485e-01]\n",
      " [ 5.43978368e-01  5.18974299e-01  4.99149815e-01  5.10663043e-01\n",
      "   5.20566374e-01]\n",
      " [ 5.43993849e-01  5.18986325e-01  4.99138944e-01  5.10670944e-01\n",
      "   5.20542190e-01]\n",
      " [ 5.44013269e-01  5.19001384e-01  4.99125102e-01  5.10680813e-01\n",
      "   5.20511562e-01]\n",
      " [ 5.44037595e-01  5.19020201e-01  4.99107436e-01  5.10693106e-01\n",
      "   5.20472737e-01]\n",
      " [ 5.44068002e-01  5.19043651e-01  4.99084826e-01  5.10708363e-01\n",
      "   5.20423464e-01]\n",
      " [ 5.44105915e-01  5.19072773e-01  4.99055789e-01  5.10727209e-01\n",
      "   5.20360841e-01]\n",
      " [ 5.44153025e-01  5.19108776e-01  4.99018343e-01  5.10750343e-01\n",
      "   5.20281106e-01]\n",
      " [ 5.44211311e-01  5.19153019e-01  4.98969809e-01  5.10778506e-01\n",
      "   5.20179358e-01]\n",
      " [ 5.44283010e-01  5.19206956e-01  4.98906523e-01  5.10812403e-01\n",
      "   5.20049159e-01]\n",
      " [ 5.44370541e-01  5.19272006e-01  4.98823412e-01  5.10852564e-01\n",
      "   5.19881988e-01]\n",
      " [ 5.44476306e-01  5.19349297e-01  4.98713358e-01  5.10899085e-01\n",
      "   5.19666459e-01]\n",
      " [ 5.44602303e-01  5.19439193e-01  4.98566239e-01  5.10951167e-01\n",
      "   5.19387196e-01]\n",
      " [ 5.44749408e-01  5.19540476e-01  4.98367465e-01  5.11006346e-01\n",
      "   5.19023187e-01]\n",
      " [ 5.44993716e-01  5.19648927e-01  4.98095729e-01  5.11059276e-01\n",
      "   5.18570048e-01]\n",
      " [ 5.45340772e-01  5.19754963e-01  4.97859915e-01  5.11145104e-01\n",
      "   5.17997839e-01]\n",
      " [ 5.45736837e-01  5.19839698e-01  4.97611226e-01  5.11218005e-01\n",
      "   5.17234159e-01]\n",
      " [ 5.46168381e-01  5.19868495e-01  4.97250267e-01  5.11253625e-01\n",
      "   5.16204211e-01]\n",
      " [ 5.46602621e-01  5.19759324e-01  4.96712642e-01  5.11208813e-01\n",
      "   5.15828148e-01]\n",
      " [ 5.46994737e-01  5.19566994e-01  4.95903435e-01  5.11009346e-01\n",
      "   5.15498329e-01]\n",
      " [ 5.47241397e-01  5.19506871e-01  4.94703759e-01  5.10523361e-01\n",
      "   5.14957480e-01]\n",
      " [ 5.47157547e-01  5.18650619e-01  4.93530649e-01  5.09923212e-01\n",
      "   5.14076507e-01]\n",
      " [ 5.46422630e-01  5.17355246e-01  4.91738244e-01  5.08764813e-01\n",
      "   5.12648776e-01]\n",
      " [ 5.43786705e-01  5.15299593e-01  4.89058454e-01  5.06801466e-01\n",
      "   5.10343914e-01]\n",
      " [ 5.39064986e-01  5.11908980e-01  4.84998846e-01  5.03543024e-01\n",
      "   5.06634159e-01]\n",
      " [ 5.31691471e-01  5.06361981e-01  4.78796480e-01  4.98187795e-01\n",
      "   5.00677007e-01]\n",
      " [ 5.20133460e-01  4.97342602e-01  4.69250760e-01  4.89450195e-01\n",
      "   4.91128222e-01]\n",
      " [ 5.01960393e-01  4.82745250e-01  4.54467941e-01  4.75271766e-01\n",
      "   4.75844313e-01]\n",
      " [ 4.73314659e-01  4.59204400e-01  4.31455285e-01  4.52360423e-01\n",
      "   4.51406666e-01]\n",
      " [ 4.28069658e-01  4.21345010e-01  3.95476080e-01  4.15456018e-01\n",
      "   4.12367787e-01]\n",
      " [ 3.56490062e-01  3.60588074e-01  3.39024494e-01  3.56159917e-01\n",
      "   3.50046303e-01]\n",
      " [ 2.75539510e-01  2.77174154e-01  2.58658752e-01  2.86043124e-01\n",
      "   2.78028455e-01]\n",
      " [ 2.18860458e-01  2.23239588e-01  2.05586445e-01  2.13933317e-01\n",
      "   2.05062500e-01]\n",
      " [ 1.29931416e-01  1.40083430e-01  1.24821335e-01  1.14205820e-01\n",
      "   9.92732007e-02]\n",
      " [-9.19712888e-04  5.55246627e-03 -3.94534807e-03 -5.24796319e-04\n",
      "  -2.54940249e-02]\n",
      " [-9.19712888e-04 -5.31589543e-03 -1.08240354e-02 -5.24796319e-04\n",
      "  -2.54940249e-02]\n",
      " [-9.19712888e-04 -5.31589543e-03 -1.08240354e-02 -5.24796319e-04\n",
      "  -2.54940249e-02]\n",
      " [-9.19712888e-04 -5.31589543e-03 -1.08240354e-02 -5.24796319e-04\n",
      "  -2.54940249e-02]\n",
      " [-9.19712888e-04 -5.31589543e-03 -1.08240354e-02 -5.24796319e-04\n",
      "  -2.54940249e-02]\n",
      " [-9.19712888e-04 -5.31589543e-03 -1.08240354e-02 -5.24796319e-04\n",
      "  -2.54940249e-02]\n",
      " [-9.19712888e-04 -5.31589543e-03 -1.08240354e-02 -5.24796319e-04\n",
      "  -2.54940249e-02]\n",
      " [-9.19712888e-04 -5.31589543e-03 -1.08240354e-02 -5.24796319e-04\n",
      "  -2.54940249e-02]\n",
      " [-9.19712888e-04 -5.31589543e-03 -1.08240354e-02 -5.24796319e-04\n",
      "  -2.54940249e-02]\n",
      " [-9.19712888e-04 -5.31589543e-03 -1.08240354e-02 -5.24796319e-04\n",
      "  -2.54940249e-02]\n",
      " [-9.19712888e-04 -5.31589543e-03 -1.08240354e-02 -5.24796319e-04\n",
      "  -2.54940249e-02]\n",
      " [-9.19712888e-04 -5.31589543e-03 -1.08240354e-02 -5.24796319e-04\n",
      "  -2.54940249e-02]\n",
      " [-9.19712888e-04 -5.31589543e-03 -1.08240354e-02 -5.24796319e-04\n",
      "  -2.54940249e-02]\n",
      " [-9.19712888e-04 -5.31589543e-03 -1.08240354e-02 -5.24796319e-04\n",
      "  -2.54940249e-02]\n",
      " [-9.19712888e-04 -5.31589543e-03 -1.08240354e-02 -5.24796319e-04\n",
      "  -2.54940249e-02]\n",
      " [-9.19712888e-04 -5.31589543e-03 -1.08240354e-02 -5.24796319e-04\n",
      "  -2.54940249e-02]\n",
      " [-9.19712888e-04 -5.31589543e-03 -1.08240354e-02 -5.24796319e-04\n",
      "  -2.54940249e-02]\n",
      " [-9.19712888e-04 -5.31589543e-03 -1.08240354e-02 -5.24796319e-04\n",
      "  -2.54940249e-02]\n",
      " [-9.19712888e-04 -5.31589543e-03 -1.08240354e-02 -5.24796319e-04\n",
      "  -2.54940249e-02]\n",
      " [-9.19712888e-04 -5.31589543e-03 -1.08240354e-02 -5.24796319e-04\n",
      "  -2.54940249e-02]\n",
      " [-9.19712888e-04 -5.31589543e-03 -1.08240354e-02 -5.24796319e-04\n",
      "  -2.54940249e-02]\n",
      " [-9.19712888e-04 -5.31589543e-03 -1.08240354e-02 -5.24796319e-04\n",
      "  -2.54940249e-02]\n",
      " [-9.19712888e-04 -5.31589543e-03 -1.08240354e-02 -5.24796319e-04\n",
      "  -2.54940249e-02]\n",
      " [-9.19712888e-04 -5.31589543e-03 -1.08240354e-02 -5.24796319e-04\n",
      "  -2.54940249e-02]\n",
      " [-9.19712888e-04 -5.31589543e-03 -1.08240354e-02 -5.24796319e-04\n",
      "  -2.54940249e-02]\n",
      " [-9.19712888e-04 -5.31589543e-03 -1.08240354e-02 -5.24796319e-04\n",
      "  -2.54940249e-02]\n",
      " [-9.19712888e-04 -5.31589543e-03 -1.08240354e-02 -5.24796319e-04\n",
      "  -2.54940249e-02]\n",
      " [-9.19712888e-04 -5.31589543e-03 -1.08240354e-02 -5.24796319e-04\n",
      "  -2.54940249e-02]\n",
      " [-9.19712888e-04 -5.31589543e-03 -1.08240354e-02 -5.24796319e-04\n",
      "  -2.54940249e-02]\n",
      " [-9.19712888e-04 -5.31589543e-03 -1.08240354e-02 -5.24796319e-04\n",
      "  -2.54940249e-02]\n",
      " [-9.19712888e-04 -5.31589543e-03 -1.08240354e-02 -5.24796319e-04\n",
      "  -2.54940249e-02]\n",
      " [-9.19712888e-04 -5.31589543e-03 -1.08240354e-02 -5.24796319e-04\n",
      "  -2.54940249e-02]\n",
      " [-9.19712888e-04 -5.31589543e-03 -1.08240354e-02 -5.24796319e-04\n",
      "  -2.54940249e-02]\n",
      " [-9.19712888e-04 -5.31589543e-03 -1.08240354e-02 -5.24796319e-04\n",
      "  -2.54940249e-02]\n",
      " [-9.19712888e-04 -5.31589543e-03 -1.08240354e-02 -5.24796319e-04\n",
      "  -2.54940249e-02]\n",
      " [-9.19712888e-04 -5.31589543e-03 -1.08240354e-02 -5.24796319e-04\n",
      "  -2.54940249e-02]\n",
      " [-9.19712888e-04 -5.31589543e-03 -1.08240354e-02 -5.24796319e-04\n",
      "  -2.54940249e-02]\n",
      " [-9.19712888e-04 -5.31589543e-03 -1.08240354e-02 -5.24796319e-04\n",
      "  -2.54940249e-02]\n",
      " [-9.19712888e-04 -5.31589543e-03 -1.08240354e-02 -5.24796319e-04\n",
      "  -2.54940249e-02]\n",
      " [-9.19712888e-04 -5.31589543e-03 -1.08240354e-02 -5.24796319e-04\n",
      "  -2.54940249e-02]\n",
      " [-9.19712888e-04 -5.31589543e-03 -1.08240354e-02 -5.24796319e-04\n",
      "  -2.54940249e-02]\n",
      " [-9.19712888e-04 -5.31589543e-03 -1.08240354e-02 -5.24796319e-04\n",
      "  -2.54940249e-02]]\n"
     ]
    }
   ],
   "source": [
    "#printing Train and test r2 score for range of values\n",
    "print(\"Train scores for LR\",train_score_l)\n",
    "print(\"Test scores for LR\",test_score_l)"
   ]
  },
  {
   "cell_type": "code",
   "execution_count": 45,
   "id": "ca10afe2-346b-4a6f-8e2d-da24fd41f8d2",
   "metadata": {},
   "outputs": [
    {
     "name": "stderr",
     "output_type": "stream",
     "text": [
      "C:\\Users\\The Computer World\\anaconda\\Lib\\site-packages\\seaborn\\_oldcore.py:1119: FutureWarning: use_inf_as_na option is deprecated and will be removed in a future version. Convert inf values to NaN before operating instead.\n",
      "  with pd.option_context('mode.use_inf_as_na', True):\n",
      "C:\\Users\\The Computer World\\anaconda\\Lib\\site-packages\\seaborn\\_oldcore.py:1119: FutureWarning: use_inf_as_na option is deprecated and will be removed in a future version. Convert inf values to NaN before operating instead.\n",
      "  with pd.option_context('mode.use_inf_as_na', True):\n"
     ]
    },
    {
     "data": {
      "text/plain": [
       "<seaborn.axisgrid.JointGrid at 0x25ad3d11590>"
      ]
     },
     "execution_count": 45,
     "metadata": {},
     "output_type": "execute_result"
    },
    {
     "data": {
      "image/png": "[encoded data removed]",
      "text/plain": [
       "<Figure size 600x600 with 3 Axes>"
      ]
     },
     "metadata": {},
     "output_type": "display_data"
    }
   ],
   "source": [
    "# Calculating mean R-squared scores for training and test sets with Lasso regression\n",
    "train_mean_l = np.mean(train_score_l, axis=1)\n",
    "test_mean_l = np.mean( test_score_l , axis=1)\n",
    "\n",
    "#Creating a joint plot to visualize the relationship between log(alpha) and R-squared\n",
    "sns.jointplot(x=np.log(param_range2), y=test_mean_l)"
   ]
  },
  {
   "cell_type": "code",
   "execution_count": 46,
   "id": "759e04e6-bdeb-4e86-a4a1-4ca6286dde7c",
   "metadata": {},
   "outputs": [
    {
     "data": {
      "text/plain": [
       "(array([26], dtype=int64),)"
      ]
     },
     "execution_count": 46,
     "metadata": {},
     "output_type": "execute_result"
    }
   ],
   "source": [
    "# Finding the index value with the highest r2 value\n",
    "np.where(test_mean_l==max(test_mean_l))"
   ]
  },
  {
   "cell_type": "code",
   "execution_count": 47,
   "id": "e7b29225-6a08-474c-9320-dcc33589054e",
   "metadata": {},
   "outputs": [
    {
     "data": {
      "text/html": [
       "<style>#sk-container-id-4 {color: black;background-color: white;}#sk-container-id-4 pre{padding: 0;}#sk-container-id-4 div.sk-toggleable {background-color: white;}#sk-container-id-4 label.sk-toggleable__label {cursor: pointer;display: block;width: 100%;margin-bottom: 0;padding: 0.3em;box-sizing: border-box;text-align: center;}#sk-container-id-4 label.sk-toggleable__label-arrow:before {content: \"▸\";float: left;margin-right: 0.25em;color: #696969;}#sk-container-id-4 label.sk-toggleable__label-arrow:hover:before {color: black;}#sk-container-id-4 div.sk-estimator:hover label.sk-toggleable__label-arrow:before {color: black;}#sk-container-id-4 div.sk-toggleable__content {max-height: 0;max-width: 0;overflow: hidden;text-align: left;background-color: #f0f8ff;}#sk-container-id-4 div.sk-toggleable__content pre {margin: 0.2em;color: black;border-radius: 0.25em;background-color: #f0f8ff;}#sk-container-id-4 input.sk-toggleable__control:checked~div.sk-toggleable__content {max-height: 200px;max-width: 100%;overflow: auto;}#sk-container-id-4 input.sk-toggleable__control:checked~label.sk-toggleable__label-arrow:before {content: \"▾\";}#sk-container-id-4 div.sk-estimator input.sk-toggleable__control:checked~label.sk-toggleable__label {background-color: #d4ebff;}#sk-container-id-4 div.sk-label input.sk-toggleable__control:checked~label.sk-toggleable__label {background-color: #d4ebff;}#sk-container-id-4 input.sk-hidden--visually {border: 0;clip: rect(1px 1px 1px 1px);clip: rect(1px, 1px, 1px, 1px);height: 1px;margin: -1px;overflow: hidden;padding: 0;position: absolute;width: 1px;}#sk-container-id-4 div.sk-estimator {font-family: monospace;background-color: #f0f8ff;border: 1px dotted black;border-radius: 0.25em;box-sizing: border-box;margin-bottom: 0.5em;}#sk-container-id-4 div.sk-estimator:hover {background-color: #d4ebff;}#sk-container-id-4 div.sk-parallel-item::after {content: \"\";width: 100%;border-bottom: 1px solid gray;flex-grow: 1;}#sk-container-id-4 div.sk-label:hover label.sk-toggleable__label {background-color: #d4ebff;}#sk-container-id-4 div.sk-serial::before {content: \"\";position: absolute;border-left: 1px solid gray;box-sizing: border-box;top: 0;bottom: 0;left: 50%;z-index: 0;}#sk-container-id-4 div.sk-serial {display: flex;flex-direction: column;align-items: center;background-color: white;padding-right: 0.2em;padding-left: 0.2em;position: relative;}#sk-container-id-4 div.sk-item {position: relative;z-index: 1;}#sk-container-id-4 div.sk-parallel {display: flex;align-items: stretch;justify-content: center;background-color: white;position: relative;}#sk-container-id-4 div.sk-item::before, #sk-container-id-4 div.sk-parallel-item::before {content: \"\";position: absolute;border-left: 1px solid gray;box-sizing: border-box;top: 0;bottom: 0;left: 50%;z-index: -1;}#sk-container-id-4 div.sk-parallel-item {display: flex;flex-direction: column;z-index: 1;position: relative;background-color: white;}#sk-container-id-4 div.sk-parallel-item:first-child::after {align-self: flex-end;width: 50%;}#sk-container-id-4 div.sk-parallel-item:last-child::after {align-self: flex-start;width: 50%;}#sk-container-id-4 div.sk-parallel-item:only-child::after {width: 0;}#sk-container-id-4 div.sk-dashed-wrapped {border: 1px dashed gray;margin: 0 0.4em 0.5em 0.4em;box-sizing: border-box;padding-bottom: 0.4em;background-color: white;}#sk-container-id-4 div.sk-label label {font-family: monospace;font-weight: bold;display: inline-block;line-height: 1.2em;}#sk-container-id-4 div.sk-label-container {text-align: center;}#sk-container-id-4 div.sk-container {/* jupyter's `normalize.less` sets `[hidden] { display: none; }` but bootstrap.min.css set `[hidden] { display: none !important; }` so we also need the `!important` here to be able to override the default hidden behavior on the sphinx rendered scikit-learn.org. See: https://github.com/scikit-learn/scikit-learn/issues/21755 */display: inline-block !important;position: relative;}#sk-container-id-4 div.sk-text-repr-fallback {display: none;}</style><div id=\"sk-container-id-4\" class=\"sk-top-container\"><div class=\"sk-text-repr-fallback\"><pre>Lasso(alpha=4.229242874389499)</pre><b>In a Jupyter environment, please rerun this cell to show the HTML representation or trust the notebook. <br />On GitHub, the HTML representation is unable to render, please try loading this page with nbviewer.org.</b></div><div class=\"sk-container\" hidden><div class=\"sk-item\"><div class=\"sk-estimator sk-toggleable\"><input class=\"sk-toggleable__control sk-hidden--visually\" id=\"sk-estimator-id-4\" type=\"checkbox\" checked><label for=\"sk-estimator-id-4\" class=\"sk-toggleable__label sk-toggleable__label-arrow\">Lasso</label><div class=\"sk-toggleable__content\"><pre>Lasso(alpha=4.229242874389499)</pre></div></div></div></div></div>"
      ],
      "text/plain": [
       "Lasso(alpha=4.229242874389499)"
      ]
     },
     "execution_count": 47,
     "metadata": {},
     "output_type": "execute_result"
    }
   ],
   "source": [
    "# Training a Lasso regression model with the best alpha\n",
    "lm4_r_best = Lasso(alpha = param_range2[26])\n",
    "lm4_r_best.fit(x_train_s, y_train)"
   ]
  },
  {
   "cell_type": "markdown",
   "id": "7ae8f68d-0f27-4aea-b678-bba47aba36fc",
   "metadata": {},
   "source": [
    "### Evaluation"
   ]
  },
  {
   "cell_type": "code",
   "execution_count": 48,
   "id": "e6ae0824-422a-4102-9e34-67693404f004",
   "metadata": {},
   "outputs": [],
   "source": [
    "# Calculating the R-squared (coefficient of determination) scores for the training and test datasets.\n",
    "lm4_train_r2=r2_score(y_train,lm4_r_best.predict(x_train_s))\n",
    "lm4_test_r2=r2_score(y_test,lm4_r_best.predict(x_test_s))\n",
    "\n",
    "# Calculating the Mean Squared Error (MSE) for the training and test datasets.\n",
    "lm4_train_mse= mean_squared_error(y_train, lm4_r_best.predict(x_train_s))\n",
    "lm4_test_mse = mean_squared_error(y_test, lm4_r_best.predict(x_test_s))"
   ]
  },
  {
   "cell_type": "code",
   "execution_count": 49,
   "id": "431ae16f-e405-4b16-8a7e-74ea34db4617",
   "metadata": {},
   "outputs": [
    {
     "name": "stdout",
     "output_type": "stream",
     "text": [
      "Lasso Regression with range of alpha values\n",
      "Training Mean Squared Error = 63730999.938411035\n",
      "Test Mean Squared Error = 58996302.64399261\n",
      "Training R2_score = 0.526301474710718\n",
      "Test R2_score = 0.5415162066736308\n"
     ]
    }
   ],
   "source": [
    "# Print the results\n",
    "print('Lasso Regression with range of alpha values')\n",
    "print('Training Mean Squared Error =', lm4_train_mse)\n",
    "print('Test Mean Squared Error =', lm4_test_mse)\n",
    "print('Training R2_score =', lm4_train_r2)\n",
    "print('Test R2_score =', lm4_test_r2)"
   ]
  },
  {
   "cell_type": "markdown",
   "id": "5b78b4ae-a07b-462b-b850-c7f84ac575ae",
   "metadata": {},
   "source": [
    "# Desicion Tree Regressor"
   ]
  },
  {
   "cell_type": "code",
   "execution_count": 50,
   "id": "be720d8c-36ef-47bf-886d-8dc5f40a4a16",
   "metadata": {},
   "outputs": [
    {
     "data": {
      "text/html": [
       "<style>#sk-container-id-5 {color: black;background-color: white;}#sk-container-id-5 pre{padding: 0;}#sk-container-id-5 div.sk-toggleable {background-color: white;}#sk-container-id-5 label.sk-toggleable__label {cursor: pointer;display: block;width: 100%;margin-bottom: 0;padding: 0.3em;box-sizing: border-box;text-align: center;}#sk-container-id-5 label.sk-toggleable__label-arrow:before {content: \"▸\";float: left;margin-right: 0.25em;color: #696969;}#sk-container-id-5 label.sk-toggleable__label-arrow:hover:before {color: black;}#sk-container-id-5 div.sk-estimator:hover label.sk-toggleable__label-arrow:before {color: black;}#sk-container-id-5 div.sk-toggleable__content {max-height: 0;max-width: 0;overflow: hidden;text-align: left;background-color: #f0f8ff;}#sk-container-id-5 div.sk-toggleable__content pre {margin: 0.2em;color: black;border-radius: 0.25em;background-color: #f0f8ff;}#sk-container-id-5 input.sk-toggleable__control:checked~div.sk-toggleable__content {max-height: 200px;max-width: 100%;overflow: auto;}#sk-container-id-5 input.sk-toggleable__control:checked~label.sk-toggleable__label-arrow:before {content: \"▾\";}#sk-container-id-5 div.sk-estimator input.sk-toggleable__control:checked~label.sk-toggleable__label {background-color: #d4ebff;}#sk-container-id-5 div.sk-label input.sk-toggleable__control:checked~label.sk-toggleable__label {background-color: #d4ebff;}#sk-container-id-5 input.sk-hidden--visually {border: 0;clip: rect(1px 1px 1px 1px);clip: rect(1px, 1px, 1px, 1px);height: 1px;margin: -1px;overflow: hidden;padding: 0;position: absolute;width: 1px;}#sk-container-id-5 div.sk-estimator {font-family: monospace;background-color: #f0f8ff;border: 1px dotted black;border-radius: 0.25em;box-sizing: border-box;margin-bottom: 0.5em;}#sk-container-id-5 div.sk-estimator:hover {background-color: #d4ebff;}#sk-container-id-5 div.sk-parallel-item::after {content: \"\";width: 100%;border-bottom: 1px solid gray;flex-grow: 1;}#sk-container-id-5 div.sk-label:hover label.sk-toggleable__label {background-color: #d4ebff;}#sk-container-id-5 div.sk-serial::before {content: \"\";position: absolute;border-left: 1px solid gray;box-sizing: border-box;top: 0;bottom: 0;left: 50%;z-index: 0;}#sk-container-id-5 div.sk-serial {display: flex;flex-direction: column;align-items: center;background-color: white;padding-right: 0.2em;padding-left: 0.2em;position: relative;}#sk-container-id-5 div.sk-item {position: relative;z-index: 1;}#sk-container-id-5 div.sk-parallel {display: flex;align-items: stretch;justify-content: center;background-color: white;position: relative;}#sk-container-id-5 div.sk-item::before, #sk-container-id-5 div.sk-parallel-item::before {content: \"\";position: absolute;border-left: 1px solid gray;box-sizing: border-box;top: 0;bottom: 0;left: 50%;z-index: -1;}#sk-container-id-5 div.sk-parallel-item {display: flex;flex-direction: column;z-index: 1;position: relative;background-color: white;}#sk-container-id-5 div.sk-parallel-item:first-child::after {align-self: flex-end;width: 50%;}#sk-container-id-5 div.sk-parallel-item:last-child::after {align-self: flex-start;width: 50%;}#sk-container-id-5 div.sk-parallel-item:only-child::after {width: 0;}#sk-container-id-5 div.sk-dashed-wrapped {border: 1px dashed gray;margin: 0 0.4em 0.5em 0.4em;box-sizing: border-box;padding-bottom: 0.4em;background-color: white;}#sk-container-id-5 div.sk-label label {font-family: monospace;font-weight: bold;display: inline-block;line-height: 1.2em;}#sk-container-id-5 div.sk-label-container {text-align: center;}#sk-container-id-5 div.sk-container {/* jupyter's `normalize.less` sets `[hidden] { display: none; }` but bootstrap.min.css set `[hidden] { display: none !important; }` so we also need the `!important` here to be able to override the default hidden behavior on the sphinx rendered scikit-learn.org. See: https://github.com/scikit-learn/scikit-learn/issues/21755 */display: inline-block !important;position: relative;}#sk-container-id-5 div.sk-text-repr-fallback {display: none;}</style><div id=\"sk-container-id-5\" class=\"sk-top-container\"><div class=\"sk-text-repr-fallback\"><pre>DecisionTreeRegressor(max_depth=3)</pre><b>In a Jupyter environment, please rerun this cell to show the HTML representation or trust the notebook. <br />On GitHub, the HTML representation is unable to render, please try loading this page with nbviewer.org.</b></div><div class=\"sk-container\" hidden><div class=\"sk-item\"><div class=\"sk-estimator sk-toggleable\"><input class=\"sk-toggleable__control sk-hidden--visually\" id=\"sk-estimator-id-5\" type=\"checkbox\" checked><label for=\"sk-estimator-id-5\" class=\"sk-toggleable__label sk-toggleable__label-arrow\">DecisionTreeRegressor</label><div class=\"sk-toggleable__content\"><pre>DecisionTreeRegressor(max_depth=3)</pre></div></div></div></div></div>"
      ],
      "text/plain": [
       "DecisionTreeRegressor(max_depth=3)"
      ]
     },
     "execution_count": 50,
     "metadata": {},
     "output_type": "execute_result"
    }
   ],
   "source": [
    "# importing necessary module\n",
    "from sklearn import tree\n",
    "\n",
    "# Creating a regressor object with DecisionTreeRegressor having maximum depth as 3 \n",
    "regtree=tree.DecisionTreeRegressor(max_depth=3)\n",
    "\n",
    "# Fitting training data\n",
    "regtree.fit(x_train,y_train)"
   ]
  },
  {
   "cell_type": "markdown",
   "id": "b8a83732-f1ca-4044-b04e-c047a2d7a02c",
   "metadata": {},
   "source": [
    "### Evaluation"
   ]
  },
  {
   "cell_type": "code",
   "execution_count": 51,
   "id": "1cff7882-94c2-49a8-b2bf-76ce17e8c341",
   "metadata": {},
   "outputs": [],
   "source": [
    "# Calculating the R-squared (coefficient of determination) scores for the training and test datasets.\n",
    "regtree_train_r2=r2_score(y_train,regtree.predict(x_train))\n",
    "regtree_test_r2=r2_score(y_test,regtree.predict(x_test))\n",
    "\n",
    "# Calculating the Mean Squared Error (MSE) for the training and test datasets.\n",
    "regtree_train_mse= mean_squared_error(y_train, regtree.predict(x_train))\n",
    "regtree_test_mse = mean_squared_error(y_test, regtree.predict(x_test))"
   ]
  },
  {
   "cell_type": "code",
   "execution_count": 52,
   "id": "9bba2139-d7c3-4f82-8a56-1dbac2ef59ba",
   "metadata": {},
   "outputs": [
    {
     "name": "stdout",
     "output_type": "stream",
     "text": [
      "Desicion Tree Regressor\n",
      "Training Mean Squared Error = 54656945.4171491\n",
      "Test Mean Squared Error = 51812113.392785795\n",
      "Training R2_score = 0.593746929030754\n",
      "Test R2_score = 0.5973474061259786\n"
     ]
    }
   ],
   "source": [
    "# Print the results\n",
    "print('Desicion Tree Regressor')\n",
    "print('Training Mean Squared Error =', regtree_train_mse)\n",
    "print('Test Mean Squared Error =', regtree_test_mse)\n",
    "print('Training R2_score =', regtree_train_r2)\n",
    "print('Test R2_score =', regtree_test_r2)"
   ]
  },
  {
   "cell_type": "markdown",
   "id": "6544953e-e333-4d87-b4a4-4e47763f1d9b",
   "metadata": {},
   "source": [
    "# Decision Tree Regression with GridSearchCV"
   ]
  },
  {
   "cell_type": "code",
   "execution_count": 53,
   "id": "70afaca1-d2b5-4739-ae88-b506c87b7b93",
   "metadata": {},
   "outputs": [
    {
     "data": {
      "text/html": [
       "<style>#sk-container-id-6 {color: black;background-color: white;}#sk-container-id-6 pre{padding: 0;}#sk-container-id-6 div.sk-toggleable {background-color: white;}#sk-container-id-6 label.sk-toggleable__label {cursor: pointer;display: block;width: 100%;margin-bottom: 0;padding: 0.3em;box-sizing: border-box;text-align: center;}#sk-container-id-6 label.sk-toggleable__label-arrow:before {content: \"▸\";float: left;margin-right: 0.25em;color: #696969;}#sk-container-id-6 label.sk-toggleable__label-arrow:hover:before {color: black;}#sk-container-id-6 div.sk-estimator:hover label.sk-toggleable__label-arrow:before {color: black;}#sk-container-id-6 div.sk-toggleable__content {max-height: 0;max-width: 0;overflow: hidden;text-align: left;background-color: #f0f8ff;}#sk-container-id-6 div.sk-toggleable__content pre {margin: 0.2em;color: black;border-radius: 0.25em;background-color: #f0f8ff;}#sk-container-id-6 input.sk-toggleable__control:checked~div.sk-toggleable__content {max-height: 200px;max-width: 100%;overflow: auto;}#sk-container-id-6 input.sk-toggleable__control:checked~label.sk-toggleable__label-arrow:before {content: \"▾\";}#sk-container-id-6 div.sk-estimator input.sk-toggleable__control:checked~label.sk-toggleable__label {background-color: #d4ebff;}#sk-container-id-6 div.sk-label input.sk-toggleable__control:checked~label.sk-toggleable__label {background-color: #d4ebff;}#sk-container-id-6 input.sk-hidden--visually {border: 0;clip: rect(1px 1px 1px 1px);clip: rect(1px, 1px, 1px, 1px);height: 1px;margin: -1px;overflow: hidden;padding: 0;position: absolute;width: 1px;}#sk-container-id-6 div.sk-estimator {font-family: monospace;background-color: #f0f8ff;border: 1px dotted black;border-radius: 0.25em;box-sizing: border-box;margin-bottom: 0.5em;}#sk-container-id-6 div.sk-estimator:hover {background-color: #d4ebff;}#sk-container-id-6 div.sk-parallel-item::after {content: \"\";width: 100%;border-bottom: 1px solid gray;flex-grow: 1;}#sk-container-id-6 div.sk-label:hover label.sk-toggleable__label {background-color: #d4ebff;}#sk-container-id-6 div.sk-serial::before {content: \"\";position: absolute;border-left: 1px solid gray;box-sizing: border-box;top: 0;bottom: 0;left: 50%;z-index: 0;}#sk-container-id-6 div.sk-serial {display: flex;flex-direction: column;align-items: center;background-color: white;padding-right: 0.2em;padding-left: 0.2em;position: relative;}#sk-container-id-6 div.sk-item {position: relative;z-index: 1;}#sk-container-id-6 div.sk-parallel {display: flex;align-items: stretch;justify-content: center;background-color: white;position: relative;}#sk-container-id-6 div.sk-item::before, #sk-container-id-6 div.sk-parallel-item::before {content: \"\";position: absolute;border-left: 1px solid gray;box-sizing: border-box;top: 0;bottom: 0;left: 50%;z-index: -1;}#sk-container-id-6 div.sk-parallel-item {display: flex;flex-direction: column;z-index: 1;position: relative;background-color: white;}#sk-container-id-6 div.sk-parallel-item:first-child::after {align-self: flex-end;width: 50%;}#sk-container-id-6 div.sk-parallel-item:last-child::after {align-self: flex-start;width: 50%;}#sk-container-id-6 div.sk-parallel-item:only-child::after {width: 0;}#sk-container-id-6 div.sk-dashed-wrapped {border: 1px dashed gray;margin: 0 0.4em 0.5em 0.4em;box-sizing: border-box;padding-bottom: 0.4em;background-color: white;}#sk-container-id-6 div.sk-label label {font-family: monospace;font-weight: bold;display: inline-block;line-height: 1.2em;}#sk-container-id-6 div.sk-label-container {text-align: center;}#sk-container-id-6 div.sk-container {/* jupyter's `normalize.less` sets `[hidden] { display: none; }` but bootstrap.min.css set `[hidden] { display: none !important; }` so we also need the `!important` here to be able to override the default hidden behavior on the sphinx rendered scikit-learn.org. See: https://github.com/scikit-learn/scikit-learn/issues/21755 */display: inline-block !important;position: relative;}#sk-container-id-6 div.sk-text-repr-fallback {display: none;}</style><div id=\"sk-container-id-6\" class=\"sk-top-container\"><div class=\"sk-text-repr-fallback\"><pre>GridSearchCV(cv=5, estimator=DecisionTreeRegressor(), n_jobs=-1,\n",
       "             param_grid={&#x27;max_depth&#x27;: [2, 4, 5, 7],\n",
       "                         &#x27;min_samples_leaf&#x27;: [1, 2, 4, 6, 8],\n",
       "                         &#x27;min_samples_split&#x27;: [2, 4, 5, 6, 10]},\n",
       "             scoring=&#x27;neg_mean_squared_error&#x27;)</pre><b>In a Jupyter environment, please rerun this cell to show the HTML representation or trust the notebook. <br />On GitHub, the HTML representation is unable to render, please try loading this page with nbviewer.org.</b></div><div class=\"sk-container\" hidden><div class=\"sk-item sk-dashed-wrapped\"><div class=\"sk-label-container\"><div class=\"sk-label sk-toggleable\"><input class=\"sk-toggleable__control sk-hidden--visually\" id=\"sk-estimator-id-6\" type=\"checkbox\" ><label for=\"sk-estimator-id-6\" class=\"sk-toggleable__label sk-toggleable__label-arrow\">GridSearchCV</label><div class=\"sk-toggleable__content\"><pre>GridSearchCV(cv=5, estimator=DecisionTreeRegressor(), n_jobs=-1,\n",
       "             param_grid={&#x27;max_depth&#x27;: [2, 4, 5, 7],\n",
       "                         &#x27;min_samples_leaf&#x27;: [1, 2, 4, 6, 8],\n",
       "                         &#x27;min_samples_split&#x27;: [2, 4, 5, 6, 10]},\n",
       "             scoring=&#x27;neg_mean_squared_error&#x27;)</pre></div></div></div><div class=\"sk-parallel\"><div class=\"sk-parallel-item\"><div class=\"sk-item\"><div class=\"sk-label-container\"><div class=\"sk-label sk-toggleable\"><input class=\"sk-toggleable__control sk-hidden--visually\" id=\"sk-estimator-id-7\" type=\"checkbox\" ><label for=\"sk-estimator-id-7\" class=\"sk-toggleable__label sk-toggleable__label-arrow\">estimator: DecisionTreeRegressor</label><div class=\"sk-toggleable__content\"><pre>DecisionTreeRegressor()</pre></div></div></div><div class=\"sk-serial\"><div class=\"sk-item\"><div class=\"sk-estimator sk-toggleable\"><input class=\"sk-toggleable__control sk-hidden--visually\" id=\"sk-estimator-id-8\" type=\"checkbox\" ><label for=\"sk-estimator-id-8\" class=\"sk-toggleable__label sk-toggleable__label-arrow\">DecisionTreeRegressor</label><div class=\"sk-toggleable__content\"><pre>DecisionTreeRegressor()</pre></div></div></div></div></div></div></div></div></div></div>"
      ],
      "text/plain": [
       "GridSearchCV(cv=5, estimator=DecisionTreeRegressor(), n_jobs=-1,\n",
       "             param_grid={'max_depth': [2, 4, 5, 7],\n",
       "                         'min_samples_leaf': [1, 2, 4, 6, 8],\n",
       "                         'min_samples_split': [2, 4, 5, 6, 10]},\n",
       "             scoring='neg_mean_squared_error')"
      ]
     },
     "execution_count": 53,
     "metadata": {},
     "output_type": "execute_result"
    }
   ],
   "source": [
    "#importing necessary module\n",
    "from sklearn.model_selection import GridSearchCV\n",
    "\n",
    "# Defining the hyperparameters and their  values\n",
    "param_grid = {\n",
    "    'max_depth': [2, 4, 5, 7],  # List of  maximum depths\n",
    "    'min_samples_split': [2,4, 5,6, 10],  # List of values for minimum samples required to split a node\n",
    "    'min_samples_leaf': [1, 2, 4,6,8]  # List of values for minimum samples required at a leaf node\n",
    "}\n",
    "# Creating a Regressor object\n",
    "regtree_gs = tree.DecisionTreeRegressor()\n",
    "\n",
    "# Creating the GridSearchCV object\n",
    "grid_search1 = GridSearchCV(regtree_gs, param_grid, cv=5, scoring='neg_mean_squared_error', n_jobs=-1)\n",
    "\n",
    "# Fitting the GridSearchCV to the training data\n",
    "grid_search1.fit(x_train, y_train)"
   ]
  },
  {
   "cell_type": "code",
   "execution_count": 54,
   "id": "c26bdace-69cb-44c9-bd26-ee93d5b55e79",
   "metadata": {},
   "outputs": [
    {
     "name": "stdout",
     "output_type": "stream",
     "text": [
      "Best Hyperparameters:  {'max_depth': 4, 'min_samples_leaf': 2, 'min_samples_split': 2}\n"
     ]
    }
   ],
   "source": [
    "#getting the best hyperparameter from given hyperparametes dictionary\n",
    "print(\"Best Hyperparameters: \", grid_search1.best_params_)"
   ]
  },
  {
   "cell_type": "code",
   "execution_count": 55,
   "id": "0244f096-4907-49cb-bbd0-6207a1f4fe13",
   "metadata": {},
   "outputs": [
    {
     "data": {
      "text/html": [
       "<style>#sk-container-id-7 {color: black;background-color: white;}#sk-container-id-7 pre{padding: 0;}#sk-container-id-7 div.sk-toggleable {background-color: white;}#sk-container-id-7 label.sk-toggleable__label {cursor: pointer;display: block;width: 100%;margin-bottom: 0;padding: 0.3em;box-sizing: border-box;text-align: center;}#sk-container-id-7 label.sk-toggleable__label-arrow:before {content: \"▸\";float: left;margin-right: 0.25em;color: #696969;}#sk-container-id-7 label.sk-toggleable__label-arrow:hover:before {color: black;}#sk-container-id-7 div.sk-estimator:hover label.sk-toggleable__label-arrow:before {color: black;}#sk-container-id-7 div.sk-toggleable__content {max-height: 0;max-width: 0;overflow: hidden;text-align: left;background-color: #f0f8ff;}#sk-container-id-7 div.sk-toggleable__content pre {margin: 0.2em;color: black;border-radius: 0.25em;background-color: #f0f8ff;}#sk-container-id-7 input.sk-toggleable__control:checked~div.sk-toggleable__content {max-height: 200px;max-width: 100%;overflow: auto;}#sk-container-id-7 input.sk-toggleable__control:checked~label.sk-toggleable__label-arrow:before {content: \"▾\";}#sk-container-id-7 div.sk-estimator input.sk-toggleable__control:checked~label.sk-toggleable__label {background-color: #d4ebff;}#sk-container-id-7 div.sk-label input.sk-toggleable__control:checked~label.sk-toggleable__label {background-color: #d4ebff;}#sk-container-id-7 input.sk-hidden--visually {border: 0;clip: rect(1px 1px 1px 1px);clip: rect(1px, 1px, 1px, 1px);height: 1px;margin: -1px;overflow: hidden;padding: 0;position: absolute;width: 1px;}#sk-container-id-7 div.sk-estimator {font-family: monospace;background-color: #f0f8ff;border: 1px dotted black;border-radius: 0.25em;box-sizing: border-box;margin-bottom: 0.5em;}#sk-container-id-7 div.sk-estimator:hover {background-color: #d4ebff;}#sk-container-id-7 div.sk-parallel-item::after {content: \"\";width: 100%;border-bottom: 1px solid gray;flex-grow: 1;}#sk-container-id-7 div.sk-label:hover label.sk-toggleable__label {background-color: #d4ebff;}#sk-container-id-7 div.sk-serial::before {content: \"\";position: absolute;border-left: 1px solid gray;box-sizing: border-box;top: 0;bottom: 0;left: 50%;z-index: 0;}#sk-container-id-7 div.sk-serial {display: flex;flex-direction: column;align-items: center;background-color: white;padding-right: 0.2em;padding-left: 0.2em;position: relative;}#sk-container-id-7 div.sk-item {position: relative;z-index: 1;}#sk-container-id-7 div.sk-parallel {display: flex;align-items: stretch;justify-content: center;background-color: white;position: relative;}#sk-container-id-7 div.sk-item::before, #sk-container-id-7 div.sk-parallel-item::before {content: \"\";position: absolute;border-left: 1px solid gray;box-sizing: border-box;top: 0;bottom: 0;left: 50%;z-index: -1;}#sk-container-id-7 div.sk-parallel-item {display: flex;flex-direction: column;z-index: 1;position: relative;background-color: white;}#sk-container-id-7 div.sk-parallel-item:first-child::after {align-self: flex-end;width: 50%;}#sk-container-id-7 div.sk-parallel-item:last-child::after {align-self: flex-start;width: 50%;}#sk-container-id-7 div.sk-parallel-item:only-child::after {width: 0;}#sk-container-id-7 div.sk-dashed-wrapped {border: 1px dashed gray;margin: 0 0.4em 0.5em 0.4em;box-sizing: border-box;padding-bottom: 0.4em;background-color: white;}#sk-container-id-7 div.sk-label label {font-family: monospace;font-weight: bold;display: inline-block;line-height: 1.2em;}#sk-container-id-7 div.sk-label-container {text-align: center;}#sk-container-id-7 div.sk-container {/* jupyter's `normalize.less` sets `[hidden] { display: none; }` but bootstrap.min.css set `[hidden] { display: none !important; }` so we also need the `!important` here to be able to override the default hidden behavior on the sphinx rendered scikit-learn.org. See: https://github.com/scikit-learn/scikit-learn/issues/21755 */display: inline-block !important;position: relative;}#sk-container-id-7 div.sk-text-repr-fallback {display: none;}</style><div id=\"sk-container-id-7\" class=\"sk-top-container\"><div class=\"sk-text-repr-fallback\"><pre>DecisionTreeRegressor(max_depth=4, min_samples_leaf=2, min_samples_split=4)</pre><b>In a Jupyter environment, please rerun this cell to show the HTML representation or trust the notebook. <br />On GitHub, the HTML representation is unable to render, please try loading this page with nbviewer.org.</b></div><div class=\"sk-container\" hidden><div class=\"sk-item\"><div class=\"sk-estimator sk-toggleable\"><input class=\"sk-toggleable__control sk-hidden--visually\" id=\"sk-estimator-id-9\" type=\"checkbox\" checked><label for=\"sk-estimator-id-9\" class=\"sk-toggleable__label sk-toggleable__label-arrow\">DecisionTreeRegressor</label><div class=\"sk-toggleable__content\"><pre>DecisionTreeRegressor(max_depth=4, min_samples_leaf=2, min_samples_split=4)</pre></div></div></div></div></div>"
      ],
      "text/plain": [
       "DecisionTreeRegressor(max_depth=4, min_samples_leaf=2, min_samples_split=4)"
      ]
     },
     "execution_count": 55,
     "metadata": {},
     "output_type": "execute_result"
    }
   ],
   "source": [
    "# Creating a regressor object with DecisionTreeRegressor having best hyperparameters given above\n",
    "regtree2=tree.DecisionTreeRegressor(max_depth=4,min_samples_leaf=2,min_samples_split=4)\n",
    "\n",
    "# Fitting training data\n",
    "regtree2.fit(x_train,y_train)"
   ]
  },
  {
   "cell_type": "markdown",
   "id": "ed1c47ab-b5a3-4df0-8609-b2f60b05e995",
   "metadata": {},
   "source": [
    "### Evalution"
   ]
  },
  {
   "cell_type": "code",
   "execution_count": 56,
   "id": "6cf036ba-6aee-4ea5-b652-65b9b9120c35",
   "metadata": {},
   "outputs": [],
   "source": [
    "# Calculating the R-squared (coefficient of determination) scores for the training and test datasets.\n",
    "regtree2_train_r2=r2_score(y_train,regtree2.predict(x_train))\n",
    "regtree2_test_r2=r2_score(y_test,regtree2.predict(x_test))\n",
    "\n",
    "# Calculating the Mean Squared Error (MSE) for the training and test datasets.\n",
    "regtree2_train_mse= mean_squared_error(y_train, regtree2.predict(x_train))\n",
    "regtree2_test_mse = mean_squared_error(y_test, regtree2.predict(x_test))"
   ]
  },
  {
   "cell_type": "code",
   "execution_count": 57,
   "id": "a92ba337-1aff-4a09-9aff-5a1e3dd3916b",
   "metadata": {},
   "outputs": [
    {
     "name": "stdout",
     "output_type": "stream",
     "text": [
      "Desicion Tree Regressor with gridsearchcv and best params\n",
      "Training Mean Squared Error = 50080759.93798329\n",
      "Test Mean Squared Error = 52329445.71586824\n",
      "Training R2_score = 0.6277607106288138\n",
      "Test R2_score = 0.5933270103508659\n"
     ]
    }
   ],
   "source": [
    "# Print the results\n",
    "print('Desicion Tree Regressor with gridsearchcv and best params')\n",
    "print('Training Mean Squared Error =', regtree2_train_mse)\n",
    "print('Test Mean Squared Error =', regtree2_test_mse)\n",
    "print('Training R2_score =', regtree2_train_r2)\n",
    "print('Test R2_score =', regtree2_test_r2)"
   ]
  },
  {
   "cell_type": "markdown",
   "id": "b9a7e233-6aaf-48a7-9c62-0f8563ae8415",
   "metadata": {},
   "source": [
    "# Bagging Regressor with GridSearchCV"
   ]
  },
  {
   "cell_type": "code",
   "execution_count": 58,
   "id": "6eda6e23-73d9-43a5-b8a0-4bc6230a389f",
   "metadata": {},
   "outputs": [
    {
     "data": {
      "text/html": [
       "<style>#sk-container-id-8 {color: black;background-color: white;}#sk-container-id-8 pre{padding: 0;}#sk-container-id-8 div.sk-toggleable {background-color: white;}#sk-container-id-8 label.sk-toggleable__label {cursor: pointer;display: block;width: 100%;margin-bottom: 0;padding: 0.3em;box-sizing: border-box;text-align: center;}#sk-container-id-8 label.sk-toggleable__label-arrow:before {content: \"▸\";float: left;margin-right: 0.25em;color: #696969;}#sk-container-id-8 label.sk-toggleable__label-arrow:hover:before {color: black;}#sk-container-id-8 div.sk-estimator:hover label.sk-toggleable__label-arrow:before {color: black;}#sk-container-id-8 div.sk-toggleable__content {max-height: 0;max-width: 0;overflow: hidden;text-align: left;background-color: #f0f8ff;}#sk-container-id-8 div.sk-toggleable__content pre {margin: 0.2em;color: black;border-radius: 0.25em;background-color: #f0f8ff;}#sk-container-id-8 input.sk-toggleable__control:checked~div.sk-toggleable__content {max-height: 200px;max-width: 100%;overflow: auto;}#sk-container-id-8 input.sk-toggleable__control:checked~label.sk-toggleable__label-arrow:before {content: \"▾\";}#sk-container-id-8 div.sk-estimator input.sk-toggleable__control:checked~label.sk-toggleable__label {background-color: #d4ebff;}#sk-container-id-8 div.sk-label input.sk-toggleable__control:checked~label.sk-toggleable__label {background-color: #d4ebff;}#sk-container-id-8 input.sk-hidden--visually {border: 0;clip: rect(1px 1px 1px 1px);clip: rect(1px, 1px, 1px, 1px);height: 1px;margin: -1px;overflow: hidden;padding: 0;position: absolute;width: 1px;}#sk-container-id-8 div.sk-estimator {font-family: monospace;background-color: #f0f8ff;border: 1px dotted black;border-radius: 0.25em;box-sizing: border-box;margin-bottom: 0.5em;}#sk-container-id-8 div.sk-estimator:hover {background-color: #d4ebff;}#sk-container-id-8 div.sk-parallel-item::after {content: \"\";width: 100%;border-bottom: 1px solid gray;flex-grow: 1;}#sk-container-id-8 div.sk-label:hover label.sk-toggleable__label {background-color: #d4ebff;}#sk-container-id-8 div.sk-serial::before {content: \"\";position: absolute;border-left: 1px solid gray;box-sizing: border-box;top: 0;bottom: 0;left: 50%;z-index: 0;}#sk-container-id-8 div.sk-serial {display: flex;flex-direction: column;align-items: center;background-color: white;padding-right: 0.2em;padding-left: 0.2em;position: relative;}#sk-container-id-8 div.sk-item {position: relative;z-index: 1;}#sk-container-id-8 div.sk-parallel {display: flex;align-items: stretch;justify-content: center;background-color: white;position: relative;}#sk-container-id-8 div.sk-item::before, #sk-container-id-8 div.sk-parallel-item::before {content: \"\";position: absolute;border-left: 1px solid gray;box-sizing: border-box;top: 0;bottom: 0;left: 50%;z-index: -1;}#sk-container-id-8 div.sk-parallel-item {display: flex;flex-direction: column;z-index: 1;position: relative;background-color: white;}#sk-container-id-8 div.sk-parallel-item:first-child::after {align-self: flex-end;width: 50%;}#sk-container-id-8 div.sk-parallel-item:last-child::after {align-self: flex-start;width: 50%;}#sk-container-id-8 div.sk-parallel-item:only-child::after {width: 0;}#sk-container-id-8 div.sk-dashed-wrapped {border: 1px dashed gray;margin: 0 0.4em 0.5em 0.4em;box-sizing: border-box;padding-bottom: 0.4em;background-color: white;}#sk-container-id-8 div.sk-label label {font-family: monospace;font-weight: bold;display: inline-block;line-height: 1.2em;}#sk-container-id-8 div.sk-label-container {text-align: center;}#sk-container-id-8 div.sk-container {/* jupyter's `normalize.less` sets `[hidden] { display: none; }` but bootstrap.min.css set `[hidden] { display: none !important; }` so we also need the `!important` here to be able to override the default hidden behavior on the sphinx rendered scikit-learn.org. See: https://github.com/scikit-learn/scikit-learn/issues/21755 */display: inline-block !important;position: relative;}#sk-container-id-8 div.sk-text-repr-fallback {display: none;}</style><div id=\"sk-container-id-8\" class=\"sk-top-container\"><div class=\"sk-text-repr-fallback\"><pre>GridSearchCV(cv=5,\n",
       "             estimator=BaggingRegressor(estimator=DecisionTreeRegressor(),\n",
       "                                        random_state=0),\n",
       "             n_jobs=-1, param_grid={&#x27;n_estimators&#x27;: [50, 100, 150, 200]},\n",
       "             scoring=&#x27;r2&#x27;)</pre><b>In a Jupyter environment, please rerun this cell to show the HTML representation or trust the notebook. <br />On GitHub, the HTML representation is unable to render, please try loading this page with nbviewer.org.</b></div><div class=\"sk-container\" hidden><div class=\"sk-item sk-dashed-wrapped\"><div class=\"sk-label-container\"><div class=\"sk-label sk-toggleable\"><input class=\"sk-toggleable__control sk-hidden--visually\" id=\"sk-estimator-id-10\" type=\"checkbox\" ><label for=\"sk-estimator-id-10\" class=\"sk-toggleable__label sk-toggleable__label-arrow\">GridSearchCV</label><div class=\"sk-toggleable__content\"><pre>GridSearchCV(cv=5,\n",
       "             estimator=BaggingRegressor(estimator=DecisionTreeRegressor(),\n",
       "                                        random_state=0),\n",
       "             n_jobs=-1, param_grid={&#x27;n_estimators&#x27;: [50, 100, 150, 200]},\n",
       "             scoring=&#x27;r2&#x27;)</pre></div></div></div><div class=\"sk-parallel\"><div class=\"sk-parallel-item\"><div class=\"sk-item\"><div class=\"sk-label-container\"><div class=\"sk-label sk-toggleable\"><input class=\"sk-toggleable__control sk-hidden--visually\" id=\"sk-estimator-id-11\" type=\"checkbox\" ><label for=\"sk-estimator-id-11\" class=\"sk-toggleable__label sk-toggleable__label-arrow\">estimator: BaggingRegressor</label><div class=\"sk-toggleable__content\"><pre>BaggingRegressor(estimator=DecisionTreeRegressor(), random_state=0)</pre></div></div></div><div class=\"sk-serial\"><div class=\"sk-item sk-dashed-wrapped\"><div class=\"sk-parallel\"><div class=\"sk-parallel-item\"><div class=\"sk-item\"><div class=\"sk-label-container\"><div class=\"sk-label sk-toggleable\"><input class=\"sk-toggleable__control sk-hidden--visually\" id=\"sk-estimator-id-12\" type=\"checkbox\" ><label for=\"sk-estimator-id-12\" class=\"sk-toggleable__label sk-toggleable__label-arrow\">estimator: DecisionTreeRegressor</label><div class=\"sk-toggleable__content\"><pre>DecisionTreeRegressor()</pre></div></div></div><div class=\"sk-serial\"><div class=\"sk-item\"><div class=\"sk-estimator sk-toggleable\"><input class=\"sk-toggleable__control sk-hidden--visually\" id=\"sk-estimator-id-13\" type=\"checkbox\" ><label for=\"sk-estimator-id-13\" class=\"sk-toggleable__label sk-toggleable__label-arrow\">DecisionTreeRegressor</label><div class=\"sk-toggleable__content\"><pre>DecisionTreeRegressor()</pre></div></div></div></div></div></div></div></div></div></div></div></div></div></div></div>"
      ],
      "text/plain": [
       "GridSearchCV(cv=5,\n",
       "             estimator=BaggingRegressor(estimator=DecisionTreeRegressor(),\n",
       "                                        random_state=0),\n",
       "             n_jobs=-1, param_grid={'n_estimators': [50, 100, 150, 200]},\n",
       "             scoring='r2')"
      ]
     },
     "execution_count": 58,
     "metadata": {},
     "output_type": "execute_result"
    }
   ],
   "source": [
    "# importing necessary module\n",
    "from sklearn.ensemble import BaggingRegressor\n",
    "\n",
    "# Create a random regression model\n",
    "ran_model = tree.DecisionTreeRegressor()\n",
    "\n",
    "# Create a BaggingRegressor with the random model\n",
    "bagging_reg = BaggingRegressor(ran_model, random_state=0)\n",
    "\n",
    "# Define the hyperparameters and their possible values\n",
    "param_grid = {\n",
    "    'n_estimators': [50, 100, 150, 200]  # List of possible numbers of random models\n",
    "}\n",
    "\n",
    "# Create the GridSearchCV object\n",
    "grid_search2 = GridSearchCV(bagging_reg, param_grid, cv=5, scoring='r2', n_jobs=-1)\n",
    "\n",
    "# Fit the GridSearchCV to the training data\n",
    "grid_search2.fit(x_train, y_train)"
   ]
  },
  {
   "cell_type": "code",
   "execution_count": 59,
   "id": "9faa3547-c1c1-4452-a003-cad2db482c97",
   "metadata": {},
   "outputs": [
    {
     "name": "stdout",
     "output_type": "stream",
     "text": [
      "Best Hyperparameters:  {'n_estimators': 100}\n"
     ]
    }
   ],
   "source": [
    "#getting the best hyperparameter from given hyperparametes dictionary\n",
    "print(\"Best Hyperparameters: \", grid_search2.best_params_)"
   ]
  },
  {
   "cell_type": "code",
   "execution_count": 60,
   "id": "dea9d0d4-21ba-4a9c-ac83-6c818dcf41ee",
   "metadata": {},
   "outputs": [
    {
     "data": {
      "text/html": [
       "<style>#sk-container-id-9 {color: black;background-color: white;}#sk-container-id-9 pre{padding: 0;}#sk-container-id-9 div.sk-toggleable {background-color: white;}#sk-container-id-9 label.sk-toggleable__label {cursor: pointer;display: block;width: 100%;margin-bottom: 0;padding: 0.3em;box-sizing: border-box;text-align: center;}#sk-container-id-9 label.sk-toggleable__label-arrow:before {content: \"▸\";float: left;margin-right: 0.25em;color: #696969;}#sk-container-id-9 label.sk-toggleable__label-arrow:hover:before {color: black;}#sk-container-id-9 div.sk-estimator:hover label.sk-toggleable__label-arrow:before {color: black;}#sk-container-id-9 div.sk-toggleable__content {max-height: 0;max-width: 0;overflow: hidden;text-align: left;background-color: #f0f8ff;}#sk-container-id-9 div.sk-toggleable__content pre {margin: 0.2em;color: black;border-radius: 0.25em;background-color: #f0f8ff;}#sk-container-id-9 input.sk-toggleable__control:checked~div.sk-toggleable__content {max-height: 200px;max-width: 100%;overflow: auto;}#sk-container-id-9 input.sk-toggleable__control:checked~label.sk-toggleable__label-arrow:before {content: \"▾\";}#sk-container-id-9 div.sk-estimator input.sk-toggleable__control:checked~label.sk-toggleable__label {background-color: #d4ebff;}#sk-container-id-9 div.sk-label input.sk-toggleable__control:checked~label.sk-toggleable__label {background-color: #d4ebff;}#sk-container-id-9 input.sk-hidden--visually {border: 0;clip: rect(1px 1px 1px 1px);clip: rect(1px, 1px, 1px, 1px);height: 1px;margin: -1px;overflow: hidden;padding: 0;position: absolute;width: 1px;}#sk-container-id-9 div.sk-estimator {font-family: monospace;background-color: #f0f8ff;border: 1px dotted black;border-radius: 0.25em;box-sizing: border-box;margin-bottom: 0.5em;}#sk-container-id-9 div.sk-estimator:hover {background-color: #d4ebff;}#sk-container-id-9 div.sk-parallel-item::after {content: \"\";width: 100%;border-bottom: 1px solid gray;flex-grow: 1;}#sk-container-id-9 div.sk-label:hover label.sk-toggleable__label {background-color: #d4ebff;}#sk-container-id-9 div.sk-serial::before {content: \"\";position: absolute;border-left: 1px solid gray;box-sizing: border-box;top: 0;bottom: 0;left: 50%;z-index: 0;}#sk-container-id-9 div.sk-serial {display: flex;flex-direction: column;align-items: center;background-color: white;padding-right: 0.2em;padding-left: 0.2em;position: relative;}#sk-container-id-9 div.sk-item {position: relative;z-index: 1;}#sk-container-id-9 div.sk-parallel {display: flex;align-items: stretch;justify-content: center;background-color: white;position: relative;}#sk-container-id-9 div.sk-item::before, #sk-container-id-9 div.sk-parallel-item::before {content: \"\";position: absolute;border-left: 1px solid gray;box-sizing: border-box;top: 0;bottom: 0;left: 50%;z-index: -1;}#sk-container-id-9 div.sk-parallel-item {display: flex;flex-direction: column;z-index: 1;position: relative;background-color: white;}#sk-container-id-9 div.sk-parallel-item:first-child::after {align-self: flex-end;width: 50%;}#sk-container-id-9 div.sk-parallel-item:last-child::after {align-self: flex-start;width: 50%;}#sk-container-id-9 div.sk-parallel-item:only-child::after {width: 0;}#sk-container-id-9 div.sk-dashed-wrapped {border: 1px dashed gray;margin: 0 0.4em 0.5em 0.4em;box-sizing: border-box;padding-bottom: 0.4em;background-color: white;}#sk-container-id-9 div.sk-label label {font-family: monospace;font-weight: bold;display: inline-block;line-height: 1.2em;}#sk-container-id-9 div.sk-label-container {text-align: center;}#sk-container-id-9 div.sk-container {/* jupyter's `normalize.less` sets `[hidden] { display: none; }` but bootstrap.min.css set `[hidden] { display: none !important; }` so we also need the `!important` here to be able to override the default hidden behavior on the sphinx rendered scikit-learn.org. See: https://github.com/scikit-learn/scikit-learn/issues/21755 */display: inline-block !important;position: relative;}#sk-container-id-9 div.sk-text-repr-fallback {display: none;}</style><div id=\"sk-container-id-9\" class=\"sk-top-container\"><div class=\"sk-text-repr-fallback\"><pre>BaggingRegressor(estimator=DecisionTreeRegressor(), n_estimators=100,\n",
       "                 random_state=0)</pre><b>In a Jupyter environment, please rerun this cell to show the HTML representation or trust the notebook. <br />On GitHub, the HTML representation is unable to render, please try loading this page with nbviewer.org.</b></div><div class=\"sk-container\" hidden><div class=\"sk-item sk-dashed-wrapped\"><div class=\"sk-label-container\"><div class=\"sk-label sk-toggleable\"><input class=\"sk-toggleable__control sk-hidden--visually\" id=\"sk-estimator-id-14\" type=\"checkbox\" ><label for=\"sk-estimator-id-14\" class=\"sk-toggleable__label sk-toggleable__label-arrow\">BaggingRegressor</label><div class=\"sk-toggleable__content\"><pre>BaggingRegressor(estimator=DecisionTreeRegressor(), n_estimators=100,\n",
       "                 random_state=0)</pre></div></div></div><div class=\"sk-parallel\"><div class=\"sk-parallel-item\"><div class=\"sk-item\"><div class=\"sk-label-container\"><div class=\"sk-label sk-toggleable\"><input class=\"sk-toggleable__control sk-hidden--visually\" id=\"sk-estimator-id-15\" type=\"checkbox\" ><label for=\"sk-estimator-id-15\" class=\"sk-toggleable__label sk-toggleable__label-arrow\">estimator: DecisionTreeRegressor</label><div class=\"sk-toggleable__content\"><pre>DecisionTreeRegressor()</pre></div></div></div><div class=\"sk-serial\"><div class=\"sk-item\"><div class=\"sk-estimator sk-toggleable\"><input class=\"sk-toggleable__control sk-hidden--visually\" id=\"sk-estimator-id-16\" type=\"checkbox\" ><label for=\"sk-estimator-id-16\" class=\"sk-toggleable__label sk-toggleable__label-arrow\">DecisionTreeRegressor</label><div class=\"sk-toggleable__content\"><pre>DecisionTreeRegressor()</pre></div></div></div></div></div></div></div></div></div></div>"
      ],
      "text/plain": [
       "BaggingRegressor(estimator=DecisionTreeRegressor(), n_estimators=100,\n",
       "                 random_state=0)"
      ]
     },
     "execution_count": 60,
     "metadata": {},
     "output_type": "execute_result"
    }
   ],
   "source": [
    "#creating model with best params\n",
    "bagging_reg2 = BaggingRegressor(ran_model,n_estimators=100, random_state=0)\n",
    "\n",
    "bagging_reg2.fit(x_train,y_train)"
   ]
  },
  {
   "cell_type": "markdown",
   "id": "cf3fb3ed-946e-4961-aac0-3ca9680d6fe3",
   "metadata": {},
   "source": [
    "### Evaluation"
   ]
  },
  {
   "cell_type": "code",
   "execution_count": 61,
   "id": "e9515961-f2a4-470f-af3c-27a2ba0d0c73",
   "metadata": {},
   "outputs": [],
   "source": [
    "# Calculating the R-squared (coefficient of determination) scores for the training and test datasets.\n",
    "bagging_reg2_train_r2=r2_score(y_train,bagging_reg2.predict(x_train))\n",
    "bagging_reg2_test_r2=r2_score(y_test,bagging_reg2.predict(x_test))\n",
    "\n",
    "# Calculating the Mean Squared Error (MSE) for the training and test datasets.\n",
    "bagging_reg2_train_mse= mean_squared_error(y_train, bagging_reg2.predict(x_train))\n",
    "bagging_reg2_test_mse = mean_squared_error(y_test, bagging_reg2.predict(x_test))"
   ]
  },
  {
   "cell_type": "code",
   "execution_count": 62,
   "id": "c2dcc73a-e7c1-46f6-b69c-c11a9ddfaed8",
   "metadata": {},
   "outputs": [
    {
     "name": "stdout",
     "output_type": "stream",
     "text": [
      "Desicion Tree Regressor with Bagging Ensemble technique , gridsearchcv and best params\n",
      "Training Mean Squared Error = 7461446.530649338\n",
      "Test Mean Squared Error = 43816045.50266767\n",
      "Training R2_score = 0.944540706696755\n",
      "Test R2_score = 0.6594880382276047\n"
     ]
    }
   ],
   "source": [
    "# Print the results\n",
    "print('Desicion Tree Regressor with Bagging Ensemble technique , gridsearchcv and best params')\n",
    "print('Training Mean Squared Error =',bagging_reg2_train_mse)\n",
    "print('Test Mean Squared Error =', bagging_reg2_test_mse)\n",
    "print('Training R2_score =', bagging_reg2_train_r2)\n",
    "print('Test R2_score =', bagging_reg2_test_r2)"
   ]
  },
  {
   "cell_type": "markdown",
   "id": "779bd0c4-66fb-4e34-9c90-a22281042fc3",
   "metadata": {},
   "source": [
    "# Random Forest Regressor with GridSearchCv"
   ]
  },
  {
   "cell_type": "code",
   "execution_count": 63,
   "id": "3e83d120-da1a-4a59-ad32-fad15b657d27",
   "metadata": {},
   "outputs": [
    {
     "data": {
      "text/html": [
       "<style>#sk-container-id-10 {color: black;background-color: white;}#sk-container-id-10 pre{padding: 0;}#sk-container-id-10 div.sk-toggleable {background-color: white;}#sk-container-id-10 label.sk-toggleable__label {cursor: pointer;display: block;width: 100%;margin-bottom: 0;padding: 0.3em;box-sizing: border-box;text-align: center;}#sk-container-id-10 label.sk-toggleable__label-arrow:before {content: \"▸\";float: left;margin-right: 0.25em;color: #696969;}#sk-container-id-10 label.sk-toggleable__label-arrow:hover:before {color: black;}#sk-container-id-10 div.sk-estimator:hover label.sk-toggleable__label-arrow:before {color: black;}#sk-container-id-10 div.sk-toggleable__content {max-height: 0;max-width: 0;overflow: hidden;text-align: left;background-color: #f0f8ff;}#sk-container-id-10 div.sk-toggleable__content pre {margin: 0.2em;color: black;border-radius: 0.25em;background-color: #f0f8ff;}#sk-container-id-10 input.sk-toggleable__control:checked~div.sk-toggleable__content {max-height: 200px;max-width: 100%;overflow: auto;}#sk-container-id-10 input.sk-toggleable__control:checked~label.sk-toggleable__label-arrow:before {content: \"▾\";}#sk-container-id-10 div.sk-estimator input.sk-toggleable__control:checked~label.sk-toggleable__label {background-color: #d4ebff;}#sk-container-id-10 div.sk-label input.sk-toggleable__control:checked~label.sk-toggleable__label {background-color: #d4ebff;}#sk-container-id-10 input.sk-hidden--visually {border: 0;clip: rect(1px 1px 1px 1px);clip: rect(1px, 1px, 1px, 1px);height: 1px;margin: -1px;overflow: hidden;padding: 0;position: absolute;width: 1px;}#sk-container-id-10 div.sk-estimator {font-family: monospace;background-color: #f0f8ff;border: 1px dotted black;border-radius: 0.25em;box-sizing: border-box;margin-bottom: 0.5em;}#sk-container-id-10 div.sk-estimator:hover {background-color: #d4ebff;}#sk-container-id-10 div.sk-parallel-item::after {content: \"\";width: 100%;border-bottom: 1px solid gray;flex-grow: 1;}#sk-container-id-10 div.sk-label:hover label.sk-toggleable__label {background-color: #d4ebff;}#sk-container-id-10 div.sk-serial::before {content: \"\";position: absolute;border-left: 1px solid gray;box-sizing: border-box;top: 0;bottom: 0;left: 50%;z-index: 0;}#sk-container-id-10 div.sk-serial {display: flex;flex-direction: column;align-items: center;background-color: white;padding-right: 0.2em;padding-left: 0.2em;position: relative;}#sk-container-id-10 div.sk-item {position: relative;z-index: 1;}#sk-container-id-10 div.sk-parallel {display: flex;align-items: stretch;justify-content: center;background-color: white;position: relative;}#sk-container-id-10 div.sk-item::before, #sk-container-id-10 div.sk-parallel-item::before {content: \"\";position: absolute;border-left: 1px solid gray;box-sizing: border-box;top: 0;bottom: 0;left: 50%;z-index: -1;}#sk-container-id-10 div.sk-parallel-item {display: flex;flex-direction: column;z-index: 1;position: relative;background-color: white;}#sk-container-id-10 div.sk-parallel-item:first-child::after {align-self: flex-end;width: 50%;}#sk-container-id-10 div.sk-parallel-item:last-child::after {align-self: flex-start;width: 50%;}#sk-container-id-10 div.sk-parallel-item:only-child::after {width: 0;}#sk-container-id-10 div.sk-dashed-wrapped {border: 1px dashed gray;margin: 0 0.4em 0.5em 0.4em;box-sizing: border-box;padding-bottom: 0.4em;background-color: white;}#sk-container-id-10 div.sk-label label {font-family: monospace;font-weight: bold;display: inline-block;line-height: 1.2em;}#sk-container-id-10 div.sk-label-container {text-align: center;}#sk-container-id-10 div.sk-container {/* jupyter's `normalize.less` sets `[hidden] { display: none; }` but bootstrap.min.css set `[hidden] { display: none !important; }` so we also need the `!important` here to be able to override the default hidden behavior on the sphinx rendered scikit-learn.org. See: https://github.com/scikit-learn/scikit-learn/issues/21755 */display: inline-block !important;position: relative;}#sk-container-id-10 div.sk-text-repr-fallback {display: none;}</style><div id=\"sk-container-id-10\" class=\"sk-top-container\"><div class=\"sk-text-repr-fallback\"><pre>GridSearchCV(cv=5, estimator=RandomForestRegressor(), n_jobs=-1,\n",
       "             param_grid={&#x27;max_depth&#x27;: [10, 30], &#x27;min_samples_leaf&#x27;: [3, 6],\n",
       "                         &#x27;min_samples_split&#x27;: [3, 6],\n",
       "                         &#x27;n_estimators&#x27;: [100, 200]},\n",
       "             scoring=&#x27;neg_mean_squared_error&#x27;)</pre><b>In a Jupyter environment, please rerun this cell to show the HTML representation or trust the notebook. <br />On GitHub, the HTML representation is unable to render, please try loading this page with nbviewer.org.</b></div><div class=\"sk-container\" hidden><div class=\"sk-item sk-dashed-wrapped\"><div class=\"sk-label-container\"><div class=\"sk-label sk-toggleable\"><input class=\"sk-toggleable__control sk-hidden--visually\" id=\"sk-estimator-id-17\" type=\"checkbox\" ><label for=\"sk-estimator-id-17\" class=\"sk-toggleable__label sk-toggleable__label-arrow\">GridSearchCV</label><div class=\"sk-toggleable__content\"><pre>GridSearchCV(cv=5, estimator=RandomForestRegressor(), n_jobs=-1,\n",
       "             param_grid={&#x27;max_depth&#x27;: [10, 30], &#x27;min_samples_leaf&#x27;: [3, 6],\n",
       "                         &#x27;min_samples_split&#x27;: [3, 6],\n",
       "                         &#x27;n_estimators&#x27;: [100, 200]},\n",
       "             scoring=&#x27;neg_mean_squared_error&#x27;)</pre></div></div></div><div class=\"sk-parallel\"><div class=\"sk-parallel-item\"><div class=\"sk-item\"><div class=\"sk-label-container\"><div class=\"sk-label sk-toggleable\"><input class=\"sk-toggleable__control sk-hidden--visually\" id=\"sk-estimator-id-18\" type=\"checkbox\" ><label for=\"sk-estimator-id-18\" class=\"sk-toggleable__label sk-toggleable__label-arrow\">estimator: RandomForestRegressor</label><div class=\"sk-toggleable__content\"><pre>RandomForestRegressor()</pre></div></div></div><div class=\"sk-serial\"><div class=\"sk-item\"><div class=\"sk-estimator sk-toggleable\"><input class=\"sk-toggleable__control sk-hidden--visually\" id=\"sk-estimator-id-19\" type=\"checkbox\" ><label for=\"sk-estimator-id-19\" class=\"sk-toggleable__label sk-toggleable__label-arrow\">RandomForestRegressor</label><div class=\"sk-toggleable__content\"><pre>RandomForestRegressor()</pre></div></div></div></div></div></div></div></div></div></div>"
      ],
      "text/plain": [
       "GridSearchCV(cv=5, estimator=RandomForestRegressor(), n_jobs=-1,\n",
       "             param_grid={'max_depth': [10, 30], 'min_samples_leaf': [3, 6],\n",
       "                         'min_samples_split': [3, 6],\n",
       "                         'n_estimators': [100, 200]},\n",
       "             scoring='neg_mean_squared_error')"
      ]
     },
     "execution_count": 63,
     "metadata": {},
     "output_type": "execute_result"
    }
   ],
   "source": [
    "# importing necessary module\n",
    "from sklearn.ensemble import RandomForestRegressor\n",
    "\n",
    "# Define the hyperparameters and their possible values\n",
    "param_grid2 = {\n",
    "    'n_estimators': [100,  200],  # Number of trees in the forest\n",
    "    'max_depth': [10, 30],  # Maximum depth of the trees\n",
    "    'min_samples_split': [3,6],  # Minimum samples required to split a node\n",
    "    'min_samples_leaf': [ 3,6]  # Minimum samples required at a leaf node\n",
    "}\n",
    "\n",
    "# Create a RandomForestRegressor\n",
    "rfr_gs = RandomForestRegressor()\n",
    "\n",
    "# Create the GridSearchCV object\n",
    "grid_search3 = GridSearchCV(rfr_gs, param_grid2, cv=5, scoring='neg_mean_squared_error', n_jobs=-1)\n",
    "\n",
    "# Fit the GridSearchCV to the training data\n",
    "grid_search3.fit(x_train, y_train)"
   ]
  },
  {
   "cell_type": "code",
   "execution_count": 64,
   "id": "77021eda-335e-4ee8-a2ce-b0916b0538a9",
   "metadata": {},
   "outputs": [
    {
     "name": "stdout",
     "output_type": "stream",
     "text": [
      "Best Hyperparameters:  {'max_depth': 30, 'min_samples_leaf': 3, 'min_samples_split': 3, 'n_estimators': 200}\n"
     ]
    }
   ],
   "source": [
    "#getting the best hyperparameter from given hyperparametes dictionary\n",
    "print(\"Best Hyperparameters: \", grid_search3.best_params_)"
   ]
  },
  {
   "cell_type": "code",
   "execution_count": 65,
   "id": "68bf4523-8097-44b6-8d92-66f190795813",
   "metadata": {},
   "outputs": [
    {
     "data": {
      "text/html": [
       "<style>#sk-container-id-11 {color: black;background-color: white;}#sk-container-id-11 pre{padding: 0;}#sk-container-id-11 div.sk-toggleable {background-color: white;}#sk-container-id-11 label.sk-toggleable__label {cursor: pointer;display: block;width: 100%;margin-bottom: 0;padding: 0.3em;box-sizing: border-box;text-align: center;}#sk-container-id-11 label.sk-toggleable__label-arrow:before {content: \"▸\";float: left;margin-right: 0.25em;color: #696969;}#sk-container-id-11 label.sk-toggleable__label-arrow:hover:before {color: black;}#sk-container-id-11 div.sk-estimator:hover label.sk-toggleable__label-arrow:before {color: black;}#sk-container-id-11 div.sk-toggleable__content {max-height: 0;max-width: 0;overflow: hidden;text-align: left;background-color: #f0f8ff;}#sk-container-id-11 div.sk-toggleable__content pre {margin: 0.2em;color: black;border-radius: 0.25em;background-color: #f0f8ff;}#sk-container-id-11 input.sk-toggleable__control:checked~div.sk-toggleable__content {max-height: 200px;max-width: 100%;overflow: auto;}#sk-container-id-11 input.sk-toggleable__control:checked~label.sk-toggleable__label-arrow:before {content: \"▾\";}#sk-container-id-11 div.sk-estimator input.sk-toggleable__control:checked~label.sk-toggleable__label {background-color: #d4ebff;}#sk-container-id-11 div.sk-label input.sk-toggleable__control:checked~label.sk-toggleable__label {background-color: #d4ebff;}#sk-container-id-11 input.sk-hidden--visually {border: 0;clip: rect(1px 1px 1px 1px);clip: rect(1px, 1px, 1px, 1px);height: 1px;margin: -1px;overflow: hidden;padding: 0;position: absolute;width: 1px;}#sk-container-id-11 div.sk-estimator {font-family: monospace;background-color: #f0f8ff;border: 1px dotted black;border-radius: 0.25em;box-sizing: border-box;margin-bottom: 0.5em;}#sk-container-id-11 div.sk-estimator:hover {background-color: #d4ebff;}#sk-container-id-11 div.sk-parallel-item::after {content: \"\";width: 100%;border-bottom: 1px solid gray;flex-grow: 1;}#sk-container-id-11 div.sk-label:hover label.sk-toggleable__label {background-color: #d4ebff;}#sk-container-id-11 div.sk-serial::before {content: \"\";position: absolute;border-left: 1px solid gray;box-sizing: border-box;top: 0;bottom: 0;left: 50%;z-index: 0;}#sk-container-id-11 div.sk-serial {display: flex;flex-direction: column;align-items: center;background-color: white;padding-right: 0.2em;padding-left: 0.2em;position: relative;}#sk-container-id-11 div.sk-item {position: relative;z-index: 1;}#sk-container-id-11 div.sk-parallel {display: flex;align-items: stretch;justify-content: center;background-color: white;position: relative;}#sk-container-id-11 div.sk-item::before, #sk-container-id-11 div.sk-parallel-item::before {content: \"\";position: absolute;border-left: 1px solid gray;box-sizing: border-box;top: 0;bottom: 0;left: 50%;z-index: -1;}#sk-container-id-11 div.sk-parallel-item {display: flex;flex-direction: column;z-index: 1;position: relative;background-color: white;}#sk-container-id-11 div.sk-parallel-item:first-child::after {align-self: flex-end;width: 50%;}#sk-container-id-11 div.sk-parallel-item:last-child::after {align-self: flex-start;width: 50%;}#sk-container-id-11 div.sk-parallel-item:only-child::after {width: 0;}#sk-container-id-11 div.sk-dashed-wrapped {border: 1px dashed gray;margin: 0 0.4em 0.5em 0.4em;box-sizing: border-box;padding-bottom: 0.4em;background-color: white;}#sk-container-id-11 div.sk-label label {font-family: monospace;font-weight: bold;display: inline-block;line-height: 1.2em;}#sk-container-id-11 div.sk-label-container {text-align: center;}#sk-container-id-11 div.sk-container {/* jupyter's `normalize.less` sets `[hidden] { display: none; }` but bootstrap.min.css set `[hidden] { display: none !important; }` so we also need the `!important` here to be able to override the default hidden behavior on the sphinx rendered scikit-learn.org. See: https://github.com/scikit-learn/scikit-learn/issues/21755 */display: inline-block !important;position: relative;}#sk-container-id-11 div.sk-text-repr-fallback {display: none;}</style><div id=\"sk-container-id-11\" class=\"sk-top-container\"><div class=\"sk-text-repr-fallback\"><pre>RandomForestRegressor(max_depth=30, min_samples_leaf=3, min_samples_split=3)</pre><b>In a Jupyter environment, please rerun this cell to show the HTML representation or trust the notebook. <br />On GitHub, the HTML representation is unable to render, please try loading this page with nbviewer.org.</b></div><div class=\"sk-container\" hidden><div class=\"sk-item\"><div class=\"sk-estimator sk-toggleable\"><input class=\"sk-toggleable__control sk-hidden--visually\" id=\"sk-estimator-id-20\" type=\"checkbox\" checked><label for=\"sk-estimator-id-20\" class=\"sk-toggleable__label sk-toggleable__label-arrow\">RandomForestRegressor</label><div class=\"sk-toggleable__content\"><pre>RandomForestRegressor(max_depth=30, min_samples_leaf=3, min_samples_split=3)</pre></div></div></div></div></div>"
      ],
      "text/plain": [
       "RandomForestRegressor(max_depth=30, min_samples_leaf=3, min_samples_split=3)"
      ]
     },
     "execution_count": 65,
     "metadata": {},
     "output_type": "execute_result"
    }
   ],
   "source": [
    "#creating model with best params\n",
    "rfr_gs1 = RandomForestRegressor(max_depth=30,min_samples_leaf=3,min_samples_split=3,n_estimators=100)\n",
    "\n",
    "#fitting the model\n",
    "rfr_gs1.fit(x_train,y_train)\n"
   ]
  },
  {
   "cell_type": "markdown",
   "id": "a760921f-cd30-46c3-aebc-4b54aef08d7d",
   "metadata": {},
   "source": [
    "### Evaluation"
   ]
  },
  {
   "cell_type": "code",
   "execution_count": 66,
   "id": "faf2f014-1eff-4b22-aa29-41257cbf5832",
   "metadata": {},
   "outputs": [],
   "source": [
    "# Calculating the R-squared (coefficient of determination) scores for the training and test datasets.\n",
    "rfr_gs1_train_r2=r2_score(y_train,rfr_gs1.predict(x_train))\n",
    "rfr_gs1_test_r2=r2_score(y_test,rfr_gs1.predict(x_test))\n",
    "\n",
    "# Calculating the Mean Squared Error (MSE) for the training and test dataset\n",
    "rfr_gs1_train_mse= mean_squared_error(y_train, rfr_gs1.predict(x_train))\n",
    "rfr_gs1_test_mse = mean_squared_error(y_test, rfr_gs1.predict(x_test))"
   ]
  },
  {
   "cell_type": "code",
   "execution_count": 67,
   "id": "060b706c-b1e2-484d-aaad-6ae162e93e1e",
   "metadata": {},
   "outputs": [
    {
     "name": "stdout",
     "output_type": "stream",
     "text": [
      "Decision tree regressor with random forest ensemble technique, gridsearchcv and best params\n",
      "Training Mean Squared Error = 19530690.385571443\n",
      "Test Mean Squared Error = 44775015.17419828\n",
      "Training R2_score = 0.8548326678936866\n",
      "Test R2_score = 0.6520355025095368\n"
     ]
    }
   ],
   "source": [
    "# Print the results\n",
    "print('Decision tree regressor with random forest ensemble technique, gridsearchcv and best params')\n",
    "print('Training Mean Squared Error =',rfr_gs1_train_mse)\n",
    "print('Test Mean Squared Error =', rfr_gs1_test_mse)\n",
    "print('Training R2_score =', rfr_gs1_train_r2)\n",
    "print('Test R2_score =', rfr_gs1_test_r2)"
   ]
  },
  {
   "cell_type": "markdown",
   "id": "251d785b-90d9-4e52-a00d-fe3cd5c29530",
   "metadata": {},
   "source": [
    "# Gradient Boosting Regressor"
   ]
  },
  {
   "cell_type": "code",
   "execution_count": 68,
   "id": "15acbde8-9274-499b-b810-826e8e282202",
   "metadata": {},
   "outputs": [
    {
     "data": {
      "text/html": [
       "<style>#sk-container-id-12 {color: black;background-color: white;}#sk-container-id-12 pre{padding: 0;}#sk-container-id-12 div.sk-toggleable {background-color: white;}#sk-container-id-12 label.sk-toggleable__label {cursor: pointer;display: block;width: 100%;margin-bottom: 0;padding: 0.3em;box-sizing: border-box;text-align: center;}#sk-container-id-12 label.sk-toggleable__label-arrow:before {content: \"▸\";float: left;margin-right: 0.25em;color: #696969;}#sk-container-id-12 label.sk-toggleable__label-arrow:hover:before {color: black;}#sk-container-id-12 div.sk-estimator:hover label.sk-toggleable__label-arrow:before {color: black;}#sk-container-id-12 div.sk-toggleable__content {max-height: 0;max-width: 0;overflow: hidden;text-align: left;background-color: #f0f8ff;}#sk-container-id-12 div.sk-toggleable__content pre {margin: 0.2em;color: black;border-radius: 0.25em;background-color: #f0f8ff;}#sk-container-id-12 input.sk-toggleable__control:checked~div.sk-toggleable__content {max-height: 200px;max-width: 100%;overflow: auto;}#sk-container-id-12 input.sk-toggleable__control:checked~label.sk-toggleable__label-arrow:before {content: \"▾\";}#sk-container-id-12 div.sk-estimator input.sk-toggleable__control:checked~label.sk-toggleable__label {background-color: #d4ebff;}#sk-container-id-12 div.sk-label input.sk-toggleable__control:checked~label.sk-toggleable__label {background-color: #d4ebff;}#sk-container-id-12 input.sk-hidden--visually {border: 0;clip: rect(1px 1px 1px 1px);clip: rect(1px, 1px, 1px, 1px);height: 1px;margin: -1px;overflow: hidden;padding: 0;position: absolute;width: 1px;}#sk-container-id-12 div.sk-estimator {font-family: monospace;background-color: #f0f8ff;border: 1px dotted black;border-radius: 0.25em;box-sizing: border-box;margin-bottom: 0.5em;}#sk-container-id-12 div.sk-estimator:hover {background-color: #d4ebff;}#sk-container-id-12 div.sk-parallel-item::after {content: \"\";width: 100%;border-bottom: 1px solid gray;flex-grow: 1;}#sk-container-id-12 div.sk-label:hover label.sk-toggleable__label {background-color: #d4ebff;}#sk-container-id-12 div.sk-serial::before {content: \"\";position: absolute;border-left: 1px solid gray;box-sizing: border-box;top: 0;bottom: 0;left: 50%;z-index: 0;}#sk-container-id-12 div.sk-serial {display: flex;flex-direction: column;align-items: center;background-color: white;padding-right: 0.2em;padding-left: 0.2em;position: relative;}#sk-container-id-12 div.sk-item {position: relative;z-index: 1;}#sk-container-id-12 div.sk-parallel {display: flex;align-items: stretch;justify-content: center;background-color: white;position: relative;}#sk-container-id-12 div.sk-item::before, #sk-container-id-12 div.sk-parallel-item::before {content: \"\";position: absolute;border-left: 1px solid gray;box-sizing: border-box;top: 0;bottom: 0;left: 50%;z-index: -1;}#sk-container-id-12 div.sk-parallel-item {display: flex;flex-direction: column;z-index: 1;position: relative;background-color: white;}#sk-container-id-12 div.sk-parallel-item:first-child::after {align-self: flex-end;width: 50%;}#sk-container-id-12 div.sk-parallel-item:last-child::after {align-self: flex-start;width: 50%;}#sk-container-id-12 div.sk-parallel-item:only-child::after {width: 0;}#sk-container-id-12 div.sk-dashed-wrapped {border: 1px dashed gray;margin: 0 0.4em 0.5em 0.4em;box-sizing: border-box;padding-bottom: 0.4em;background-color: white;}#sk-container-id-12 div.sk-label label {font-family: monospace;font-weight: bold;display: inline-block;line-height: 1.2em;}#sk-container-id-12 div.sk-label-container {text-align: center;}#sk-container-id-12 div.sk-container {/* jupyter's `normalize.less` sets `[hidden] { display: none; }` but bootstrap.min.css set `[hidden] { display: none !important; }` so we also need the `!important` here to be able to override the default hidden behavior on the sphinx rendered scikit-learn.org. See: https://github.com/scikit-learn/scikit-learn/issues/21755 */display: inline-block !important;position: relative;}#sk-container-id-12 div.sk-text-repr-fallback {display: none;}</style><div id=\"sk-container-id-12\" class=\"sk-top-container\"><div class=\"sk-text-repr-fallback\"><pre>GradientBoostingRegressor(learning_rate=0.02, max_depth=1, n_estimators=1000)</pre><b>In a Jupyter environment, please rerun this cell to show the HTML representation or trust the notebook. <br />On GitHub, the HTML representation is unable to render, please try loading this page with nbviewer.org.</b></div><div class=\"sk-container\" hidden><div class=\"sk-item\"><div class=\"sk-estimator sk-toggleable\"><input class=\"sk-toggleable__control sk-hidden--visually\" id=\"sk-estimator-id-21\" type=\"checkbox\" checked><label for=\"sk-estimator-id-21\" class=\"sk-toggleable__label sk-toggleable__label-arrow\">GradientBoostingRegressor</label><div class=\"sk-toggleable__content\"><pre>GradientBoostingRegressor(learning_rate=0.02, max_depth=1, n_estimators=1000)</pre></div></div></div></div></div>"
      ],
      "text/plain": [
       "GradientBoostingRegressor(learning_rate=0.02, max_depth=1, n_estimators=1000)"
      ]
     },
     "execution_count": 68,
     "metadata": {},
     "output_type": "execute_result"
    }
   ],
   "source": [
    "# importing necessary module\n",
    "from sklearn.ensemble import GradientBoostingRegressor\n",
    "\n",
    "#creating regressor object\n",
    "gbr=GradientBoostingRegressor(learning_rate=0.02,n_estimators=1000, max_depth=1)\n",
    "\n",
    "#fitting the model\n",
    "gbr.fit(x_train,y_train)"
   ]
  },
  {
   "cell_type": "markdown",
   "id": "752270ae-d5af-41cc-a56e-dd28683a38a4",
   "metadata": {},
   "source": [
    "### Evaluation"
   ]
  },
  {
   "cell_type": "code",
   "execution_count": 69,
   "id": "9928ec7b-9c89-46e7-8841-c656b7d7decf",
   "metadata": {},
   "outputs": [],
   "source": [
    "# Calculating the R-squared (coefficient of determination) scores for the training and test datasets.\n",
    "gbr_train_r2=r2_score(y_train,gbr.predict(x_train))\n",
    "gbr_test_r2=r2_score(y_test,gbr.predict(x_test))\n",
    "\n",
    "# Calculating the Mean Squared Error (MSE) for the training and test dataset\n",
    "gbr_train_mse= mean_squared_error(y_train, gbr.predict(x_train))\n",
    "gbr_test_mse = mean_squared_error(y_test, gbr.predict(x_test))"
   ]
  },
  {
   "cell_type": "code",
   "execution_count": 70,
   "id": "38b3a3dc-fc58-41f0-bb2c-953a7333b460",
   "metadata": {},
   "outputs": [
    {
     "name": "stdout",
     "output_type": "stream",
     "text": [
      "Gradient Boosting Regressor\n",
      "Training Mean Squared Error = 60694369.45734041\n",
      "Test Mean Squared Error = 60304454.816784866\n",
      "Training R2_score = 0.5488720821407245\n",
      "Test R2_score = 0.5313500344975681\n"
     ]
    }
   ],
   "source": [
    "# Print the results\n",
    "print('Gradient Boosting Regressor')\n",
    "print('Training Mean Squared Error =',gbr_train_mse)\n",
    "print('Test Mean Squared Error =', gbr_test_mse)\n",
    "print('Training R2_score =', gbr_train_r2)\n",
    "print('Test R2_score =', gbr_test_r2)"
   ]
  },
  {
   "cell_type": "markdown",
   "id": "ad6c1b55-e552-42ac-8bf3-8b1cb11ba6bc",
   "metadata": {},
   "source": [
    "# Ada Boosting Regressor"
   ]
  },
  {
   "cell_type": "code",
   "execution_count": 71,
   "id": "5b0d77cf-8738-404c-a0c7-6368c53d4b85",
   "metadata": {},
   "outputs": [
    {
     "data": {
      "text/html": [
       "<style>#sk-container-id-13 {color: black;background-color: white;}#sk-container-id-13 pre{padding: 0;}#sk-container-id-13 div.sk-toggleable {background-color: white;}#sk-container-id-13 label.sk-toggleable__label {cursor: pointer;display: block;width: 100%;margin-bottom: 0;padding: 0.3em;box-sizing: border-box;text-align: center;}#sk-container-id-13 label.sk-toggleable__label-arrow:before {content: \"▸\";float: left;margin-right: 0.25em;color: #696969;}#sk-container-id-13 label.sk-toggleable__label-arrow:hover:before {color: black;}#sk-container-id-13 div.sk-estimator:hover label.sk-toggleable__label-arrow:before {color: black;}#sk-container-id-13 div.sk-toggleable__content {max-height: 0;max-width: 0;overflow: hidden;text-align: left;background-color: #f0f8ff;}#sk-container-id-13 div.sk-toggleable__content pre {margin: 0.2em;color: black;border-radius: 0.25em;background-color: #f0f8ff;}#sk-container-id-13 input.sk-toggleable__control:checked~div.sk-toggleable__content {max-height: 200px;max-width: 100%;overflow: auto;}#sk-container-id-13 input.sk-toggleable__control:checked~label.sk-toggleable__label-arrow:before {content: \"▾\";}#sk-container-id-13 div.sk-estimator input.sk-toggleable__control:checked~label.sk-toggleable__label {background-color: #d4ebff;}#sk-container-id-13 div.sk-label input.sk-toggleable__control:checked~label.sk-toggleable__label {background-color: #d4ebff;}#sk-container-id-13 input.sk-hidden--visually {border: 0;clip: rect(1px 1px 1px 1px);clip: rect(1px, 1px, 1px, 1px);height: 1px;margin: -1px;overflow: hidden;padding: 0;position: absolute;width: 1px;}#sk-container-id-13 div.sk-estimator {font-family: monospace;background-color: #f0f8ff;border: 1px dotted black;border-radius: 0.25em;box-sizing: border-box;margin-bottom: 0.5em;}#sk-container-id-13 div.sk-estimator:hover {background-color: #d4ebff;}#sk-container-id-13 div.sk-parallel-item::after {content: \"\";width: 100%;border-bottom: 1px solid gray;flex-grow: 1;}#sk-container-id-13 div.sk-label:hover label.sk-toggleable__label {background-color: #d4ebff;}#sk-container-id-13 div.sk-serial::before {content: \"\";position: absolute;border-left: 1px solid gray;box-sizing: border-box;top: 0;bottom: 0;left: 50%;z-index: 0;}#sk-container-id-13 div.sk-serial {display: flex;flex-direction: column;align-items: center;background-color: white;padding-right: 0.2em;padding-left: 0.2em;position: relative;}#sk-container-id-13 div.sk-item {position: relative;z-index: 1;}#sk-container-id-13 div.sk-parallel {display: flex;align-items: stretch;justify-content: center;background-color: white;position: relative;}#sk-container-id-13 div.sk-item::before, #sk-container-id-13 div.sk-parallel-item::before {content: \"\";position: absolute;border-left: 1px solid gray;box-sizing: border-box;top: 0;bottom: 0;left: 50%;z-index: -1;}#sk-container-id-13 div.sk-parallel-item {display: flex;flex-direction: column;z-index: 1;position: relative;background-color: white;}#sk-container-id-13 div.sk-parallel-item:first-child::after {align-self: flex-end;width: 50%;}#sk-container-id-13 div.sk-parallel-item:last-child::after {align-self: flex-start;width: 50%;}#sk-container-id-13 div.sk-parallel-item:only-child::after {width: 0;}#sk-container-id-13 div.sk-dashed-wrapped {border: 1px dashed gray;margin: 0 0.4em 0.5em 0.4em;box-sizing: border-box;padding-bottom: 0.4em;background-color: white;}#sk-container-id-13 div.sk-label label {font-family: monospace;font-weight: bold;display: inline-block;line-height: 1.2em;}#sk-container-id-13 div.sk-label-container {text-align: center;}#sk-container-id-13 div.sk-container {/* jupyter's `normalize.less` sets `[hidden] { display: none; }` but bootstrap.min.css set `[hidden] { display: none !important; }` so we also need the `!important` here to be able to override the default hidden behavior on the sphinx rendered scikit-learn.org. See: https://github.com/scikit-learn/scikit-learn/issues/21755 */display: inline-block !important;position: relative;}#sk-container-id-13 div.sk-text-repr-fallback {display: none;}</style><div id=\"sk-container-id-13\" class=\"sk-top-container\"><div class=\"sk-text-repr-fallback\"><pre>AdaBoostRegressor(learning_rate=0.02, n_estimators=5000)</pre><b>In a Jupyter environment, please rerun this cell to show the HTML representation or trust the notebook. <br />On GitHub, the HTML representation is unable to render, please try loading this page with nbviewer.org.</b></div><div class=\"sk-container\" hidden><div class=\"sk-item\"><div class=\"sk-estimator sk-toggleable\"><input class=\"sk-toggleable__control sk-hidden--visually\" id=\"sk-estimator-id-22\" type=\"checkbox\" checked><label for=\"sk-estimator-id-22\" class=\"sk-toggleable__label sk-toggleable__label-arrow\">AdaBoostRegressor</label><div class=\"sk-toggleable__content\"><pre>AdaBoostRegressor(learning_rate=0.02, n_estimators=5000)</pre></div></div></div></div></div>"
      ],
      "text/plain": [
       "AdaBoostRegressor(learning_rate=0.02, n_estimators=5000)"
      ]
     },
     "execution_count": 71,
     "metadata": {},
     "output_type": "execute_result"
    }
   ],
   "source": [
    "# importing necessary module\n",
    "from sklearn.ensemble import AdaBoostRegressor\n",
    "\n",
    "# creating regressor object\n",
    "ada=AdaBoostRegressor(learning_rate=0.02,n_estimators=5000)\n",
    "\n",
    "#fitting the model\n",
    "ada.fit(x_train,y_train)"
   ]
  },
  {
   "cell_type": "markdown",
   "id": "eb29355a-4412-4616-9bf4-46b7d5a68586",
   "metadata": {},
   "source": [
    "### Evaluation"
   ]
  },
  {
   "cell_type": "code",
   "execution_count": 72,
   "id": "7bbb4b79-d297-4a82-b015-4eee432142a3",
   "metadata": {},
   "outputs": [],
   "source": [
    "# Calculating the R-squared (coefficient of determination) scores for the training and test datasets.\n",
    "ada_train_r2=r2_score(y_train,ada.predict(x_train))\n",
    "ada_test_r2=r2_score(y_test,ada.predict(x_test))\n",
    "\n",
    "# Calculating the Mean Squared Error (MSE) for the training and test dataset\n",
    "ada_train_mse= mean_squared_error(y_train, ada.predict(x_train))\n",
    "ada_test_mse = mean_squared_error(y_test, ada.predict(x_test))"
   ]
  },
  {
   "cell_type": "code",
   "execution_count": 73,
   "id": "c0f0c94c-1ed6-43e8-9d5e-9a6f3c6606c3",
   "metadata": {},
   "outputs": [
    {
     "name": "stdout",
     "output_type": "stream",
     "text": [
      "Ada Boosting Regressor\n",
      "Training Mean Squared Error = 54260789.25975655\n",
      "Test Mean Squared Error = 51571161.197161876\n",
      "Training R2_score = 0.5966914707407927\n",
      "Test R2_score = 0.5992199417207362\n"
     ]
    }
   ],
   "source": [
    "# Print the results\n",
    "print('Ada Boosting Regressor')\n",
    "print('Training Mean Squared Error =',ada_train_mse)\n",
    "print('Test Mean Squared Error =', ada_test_mse)\n",
    "print('Training R2_score =', ada_train_r2)\n",
    "print('Test R2_score =', ada_test_r2)"
   ]
  },
  {
   "cell_type": "markdown",
   "id": "dfe612ec-7fd4-4184-912c-6665629526a6",
   "metadata": {},
   "source": [
    "# XG Boost Regressor"
   ]
  },
  {
   "cell_type": "code",
   "execution_count": 74,
   "id": "e20fe550-5093-47a9-8e95-5279cff4dffc",
   "metadata": {},
   "outputs": [
    {
     "data": {
      "text/html": [
       "<style>#sk-container-id-14 {color: black;background-color: white;}#sk-container-id-14 pre{padding: 0;}#sk-container-id-14 div.sk-toggleable {background-color: white;}#sk-container-id-14 label.sk-toggleable__label {cursor: pointer;display: block;width: 100%;margin-bottom: 0;padding: 0.3em;box-sizing: border-box;text-align: center;}#sk-container-id-14 label.sk-toggleable__label-arrow:before {content: \"▸\";float: left;margin-right: 0.25em;color: #696969;}#sk-container-id-14 label.sk-toggleable__label-arrow:hover:before {color: black;}#sk-container-id-14 div.sk-estimator:hover label.sk-toggleable__label-arrow:before {color: black;}#sk-container-id-14 div.sk-toggleable__content {max-height: 0;max-width: 0;overflow: hidden;text-align: left;background-color: #f0f8ff;}#sk-container-id-14 div.sk-toggleable__content pre {margin: 0.2em;color: black;border-radius: 0.25em;background-color: #f0f8ff;}#sk-container-id-14 input.sk-toggleable__control:checked~div.sk-toggleable__content {max-height: 200px;max-width: 100%;overflow: auto;}#sk-container-id-14 input.sk-toggleable__control:checked~label.sk-toggleable__label-arrow:before {content: \"▾\";}#sk-container-id-14 div.sk-estimator input.sk-toggleable__control:checked~label.sk-toggleable__label {background-color: #d4ebff;}#sk-container-id-14 div.sk-label input.sk-toggleable__control:checked~label.sk-toggleable__label {background-color: #d4ebff;}#sk-container-id-14 input.sk-hidden--visually {border: 0;clip: rect(1px 1px 1px 1px);clip: rect(1px, 1px, 1px, 1px);height: 1px;margin: -1px;overflow: hidden;padding: 0;position: absolute;width: 1px;}#sk-container-id-14 div.sk-estimator {font-family: monospace;background-color: #f0f8ff;border: 1px dotted black;border-radius: 0.25em;box-sizing: border-box;margin-bottom: 0.5em;}#sk-container-id-14 div.sk-estimator:hover {background-color: #d4ebff;}#sk-container-id-14 div.sk-parallel-item::after {content: \"\";width: 100%;border-bottom: 1px solid gray;flex-grow: 1;}#sk-container-id-14 div.sk-label:hover label.sk-toggleable__label {background-color: #d4ebff;}#sk-container-id-14 div.sk-serial::before {content: \"\";position: absolute;border-left: 1px solid gray;box-sizing: border-box;top: 0;bottom: 0;left: 50%;z-index: 0;}#sk-container-id-14 div.sk-serial {display: flex;flex-direction: column;align-items: center;background-color: white;padding-right: 0.2em;padding-left: 0.2em;position: relative;}#sk-container-id-14 div.sk-item {position: relative;z-index: 1;}#sk-container-id-14 div.sk-parallel {display: flex;align-items: stretch;justify-content: center;background-color: white;position: relative;}#sk-container-id-14 div.sk-item::before, #sk-container-id-14 div.sk-parallel-item::before {content: \"\";position: absolute;border-left: 1px solid gray;box-sizing: border-box;top: 0;bottom: 0;left: 50%;z-index: -1;}#sk-container-id-14 div.sk-parallel-item {display: flex;flex-direction: column;z-index: 1;position: relative;background-color: white;}#sk-container-id-14 div.sk-parallel-item:first-child::after {align-self: flex-end;width: 50%;}#sk-container-id-14 div.sk-parallel-item:last-child::after {align-self: flex-start;width: 50%;}#sk-container-id-14 div.sk-parallel-item:only-child::after {width: 0;}#sk-container-id-14 div.sk-dashed-wrapped {border: 1px dashed gray;margin: 0 0.4em 0.5em 0.4em;box-sizing: border-box;padding-bottom: 0.4em;background-color: white;}#sk-container-id-14 div.sk-label label {font-family: monospace;font-weight: bold;display: inline-block;line-height: 1.2em;}#sk-container-id-14 div.sk-label-container {text-align: center;}#sk-container-id-14 div.sk-container {/* jupyter's `normalize.less` sets `[hidden] { display: none; }` but bootstrap.min.css set `[hidden] { display: none !important; }` so we also need the `!important` here to be able to override the default hidden behavior on the sphinx rendered scikit-learn.org. See: https://github.com/scikit-learn/scikit-learn/issues/21755 */display: inline-block !important;position: relative;}#sk-container-id-14 div.sk-text-repr-fallback {display: none;}</style><div id=\"sk-container-id-14\" class=\"sk-top-container\"><div class=\"sk-text-repr-fallback\"><pre>XGBRegressor(base_score=None, booster=None, callbacks=None,\n",
       "             colsample_bylevel=None, colsample_bynode=None,\n",
       "             colsample_bytree=None, device=None, early_stopping_rounds=None,\n",
       "             enable_categorical=False, eval_metric=None, feature_types=None,\n",
       "             gamma=None, grow_policy=None, importance_type=None,\n",
       "             interaction_constraints=None, learning_rate=0.1, max_bin=None,\n",
       "             max_cat_threshold=None, max_cat_to_onehot=None,\n",
       "             max_delta_step=None, max_depth=None, max_leaves=None,\n",
       "             min_child_weight=None, missing=nan, monotone_constraints=None,\n",
       "             multi_strategy=None, n_estimators=250, n_jobs=None,\n",
       "             num_parallel_tree=None, random_state=42, ...)</pre><b>In a Jupyter environment, please rerun this cell to show the HTML representation or trust the notebook. <br />On GitHub, the HTML representation is unable to render, please try loading this page with nbviewer.org.</b></div><div class=\"sk-container\" hidden><div class=\"sk-item\"><div class=\"sk-estimator sk-toggleable\"><input class=\"sk-toggleable__control sk-hidden--visually\" id=\"sk-estimator-id-23\" type=\"checkbox\" checked><label for=\"sk-estimator-id-23\" class=\"sk-toggleable__label sk-toggleable__label-arrow\">XGBRegressor</label><div class=\"sk-toggleable__content\"><pre>XGBRegressor(base_score=None, booster=None, callbacks=None,\n",
       "             colsample_bylevel=None, colsample_bynode=None,\n",
       "             colsample_bytree=None, device=None, early_stopping_rounds=None,\n",
       "             enable_categorical=False, eval_metric=None, feature_types=None,\n",
       "             gamma=None, grow_policy=None, importance_type=None,\n",
       "             interaction_constraints=None, learning_rate=0.1, max_bin=None,\n",
       "             max_cat_threshold=None, max_cat_to_onehot=None,\n",
       "             max_delta_step=None, max_depth=None, max_leaves=None,\n",
       "             min_child_weight=None, missing=nan, monotone_constraints=None,\n",
       "             multi_strategy=None, n_estimators=250, n_jobs=None,\n",
       "             num_parallel_tree=None, random_state=42, ...)</pre></div></div></div></div></div>"
      ],
      "text/plain": [
       "XGBRegressor(base_score=None, booster=None, callbacks=None,\n",
       "             colsample_bylevel=None, colsample_bynode=None,\n",
       "             colsample_bytree=None, device=None, early_stopping_rounds=None,\n",
       "             enable_categorical=False, eval_metric=None, feature_types=None,\n",
       "             gamma=None, grow_policy=None, importance_type=None,\n",
       "             interaction_constraints=None, learning_rate=0.1, max_bin=None,\n",
       "             max_cat_threshold=None, max_cat_to_onehot=None,\n",
       "             max_delta_step=None, max_depth=None, max_leaves=None,\n",
       "             min_child_weight=None, missing=nan, monotone_constraints=None,\n",
       "             multi_strategy=None, n_estimators=250, n_jobs=None,\n",
       "             num_parallel_tree=None, random_state=42, ...)"
      ]
     },
     "execution_count": 74,
     "metadata": {},
     "output_type": "execute_result"
    }
   ],
   "source": [
    "# importing necessary module\n",
    "import xgboost as xgb\n",
    "from xgboost import XGBRegressor\n",
    "\n",
    "# creating a regressor object\n",
    "xgb=XGBRegressor(n_estimators=250,learning_rate=0.1,random_state=42)\n",
    "\n",
    "xgb.fit(x_train,y_train)"
   ]
  },
  {
   "cell_type": "markdown",
   "id": "fcbbfab0-1446-4158-b6a7-7a730d4fc17a",
   "metadata": {},
   "source": [
    "### Evaluation"
   ]
  },
  {
   "cell_type": "code",
   "execution_count": 75,
   "id": "a0e7c554-df8c-447f-a902-7ed530e263ba",
   "metadata": {},
   "outputs": [],
   "source": [
    "# Calculating the R-squared (coefficient of determination) scores for the training and test datasets.\n",
    "xgb_train_r2=r2_score(y_train,xgb.predict(x_train))\n",
    "xgb_test_r2=r2_score(y_test,xgb.predict(x_test))\n",
    "\n",
    "# Calculating the Mean Squared Error (MSE) for the training and test dataset\n",
    "xgb_train_mse= mean_squared_error(y_train, xgb.predict(x_train))\n",
    "xgb_test_mse = mean_squared_error(y_test, xgb.predict(x_test))"
   ]
  },
  {
   "cell_type": "code",
   "execution_count": 76,
   "id": "1f064334-c48e-46bc-b8a6-5e46820386a3",
   "metadata": {},
   "outputs": [
    {
     "name": "stdout",
     "output_type": "stream",
     "text": [
      "XG Boosting Regressor\n",
      "Training Mean Squared Error = 2471570.137151682\n",
      "Test Mean Squared Error = 47657375.17670642\n",
      "Training R2_score = 0.9816293620020209\n",
      "Test R2_score = 0.6296355335545891\n"
     ]
    }
   ],
   "source": [
    "# Print the results\n",
    "print('XG Boosting Regressor')\n",
    "print('Training Mean Squared Error =',xgb_train_mse)\n",
    "print('Test Mean Squared Error =', xgb_test_mse)\n",
    "print('Training R2_score =', xgb_train_r2)\n",
    "print('Test R2_score =', xgb_test_r2)"
   ]
  },
  {
   "cell_type": "markdown",
   "id": "f53ada9f-e2f8-4318-a49f-d921fb261bf6",
   "metadata": {},
   "source": [
    "# QUESTIONS"
   ]
  },
  {
   "cell_type": "markdown",
   "id": "05232d22-7c31-4325-89c1-a7340801e142",
   "metadata": {},
   "source": [
    "## 1. Your views about the problem statement?\n",
    "--> The problem statement is related to TechWorks Consulting company . The company wants to predict the salary of newly hired employees based on their educational background, experience, position they are applying for, graduation marks, Previous job change , college in which they studied, city they belongs to ,Previous CTC. It is very important for company to predict the employees salary correctly and according to current market scale. Building a model using Machine learning is a great way to predicting salary as it not only ensures reliability but also accuracy."
   ]
  },
  {
   "cell_type": "markdown",
   "id": "a08e9e16-14a3-4b6b-9cb3-50bffb816ff5",
   "metadata": {},
   "source": [
    "## 2. What will be your approach to solving this task?\n",
    "--> My approach to solve this task is as follows:\n",
    "\n",
    "**1.DATA COLLECTION**\n",
    "- Download the ML case study, cities, college csv file from project.\n",
    "- Use pandas to upload the three dataset into pandas dataframe .\n",
    "- Convert the college and city data into list using tolist() function.\n",
    "- Using if else statement replace the college name with 1,2 and 3 in main dataset.\n",
    "- 1 for colleges that belong to Tier1,2 for Tier 2 college and 3 for Tier3 college\n",
    "- Using if else statemrnt replace the city name with 0 and 1 in main dataset.\n",
    "- 0 for metro cities and  1 for non metro cities.\n",
    "- The main dataset is ready now for data Exploration.\n",
    "\n",
    "**2.DATA EXPLORATION**\n",
    "- Use df.haed() to get first 5 rows as output.\n",
    "- Perform Exploratory Data Analysis(EDA) using df.desribe().\n",
    "- For missing value use df.info() to get number of columns and there data type.\n",
    "- For outliers use for loop to visualise box plot for each numeric feature in dataset.\n",
    "- Plot Distplot for columns that have outliers to check for skewness.\n",
    "\n",
    "**2.DATA PREPROCESSING**\n",
    "- Outliers are treated using capping (99th percentile and 95th percentile method).\n",
    "- No missing values were present\n",
    "- Convert categorical variables into numeric by creating dummy variables for categorical variable.\n",
    "- Use df.corr() to have correlation matrix to see relation between variables.\n",
    "\n",
    "**3.MODEL SELETCION**\n",
    "- Appropriate regression model is chosen for predicting salary.\n",
    "- Consider regression model like Linear Regression,Ridge Regression,Lasso Regression,Decision Tree Regression, Random Forest Regressor, XG Boost Regressor, Bagging Regressor, Gradient Boosting Regressor,Ada Boosting Regressor.\n",
    "- Try different model to evaluate and get the best project\n",
    "\n",
    "**4.MODEL TRAINING AND MODEL EVALUATION**\n",
    "- Dependent and independent variables is defined\n",
    "- Data is split into test train dataset.\n",
    "- Data is Standardised.\n",
    "- Model is evaluated using r2 score and mse\n",
    "- Select the model with best performance\n",
    "\n",
    "**5.MODEL OPTIMIZATION**\n",
    "- Optimize the model with cross-validation and hyperparameters.\n",
    "   - For Ridge and Lasso Regression, use the validation curve to tune the hyperparameters.\n",
    "   - For Decision Tree Regression, Random Forest, Bagging Regressor use GridSearchCV with range of parameters\n",
    "\n",
    "**6.Conclusion**\n",
    "- After performing  all model and get the result, choose the best model according to R2 score and Mean Squared Error (MSE).\n",
    "- Model which have High R2 score and Less MSE is the best one."
   ]
  },
  {
   "cell_type": "markdown",
   "id": "f80fc5cc-74d8-4dc9-8128-7a23a35f4471",
   "metadata": {},
   "source": [
    "## 3. What were the available ML model options you had to perform this task?\n",
    "--> For predicting salary, many ML model were available and each model have its own characteristics\n",
    "\n",
    "**1 . Linear Regression**\n",
    "- Basic model for predicting continuous variable when there is linear relationship between variables.\n",
    "\n",
    "**2 . Ridge Regression with single value of alpha**\n",
    "- Reduce overfitting and greater value of alpha regularise the model.\n",
    "\n",
    "**3 . Ridge Regression with GridSearchCV**\n",
    "- Prevent multicollinearity , model is cross validated and best parameters are used to train the model making its perforance best.\n",
    "\n",
    "**4 . Lasso regression**\n",
    "- Enhance model accuracy by regularising and by shrinking the coefficients of less important predictors to zero.\n",
    "\n",
    "**5 . Decision Tree Regressor**\n",
    "- Simple and interpretable model , handles non linear relationships very well\n",
    "  \n",
    "**6 . Bagging Regressor**\n",
    "- Ensemble technique for Bootstrapped aggregation.\n",
    "  \n",
    "**7 . Random Forest Regressor**\n",
    "- Use subset of predictor variable to get different splits in each model that improves model performance\n",
    "  \n",
    "**8 . Gradient Boosting regressor**\n",
    "- Adjust residuals multiple times then create tree, highly pedictive\n",
    "  \n",
    "**9 . Ada Boosting Regressor**\n",
    "- It adjusts weights according to prediction errors making it suitable and reliable for prediction\n",
    "  \n",
    "**10 . XG Boosting Regressor**\n",
    "- Uses a more regularised model to control over fitting giving it better performance.\n",
    "\n",
    "To determine the best model, I'll test each and evaluate their performance using  R-squared and Mean Squared Error. The model with the best predictive accuracy will be selected for further optimization."
   ]
  },
  {
   "cell_type": "markdown",
   "id": "a5800c4e-e3b8-43c6-b758-b7dbde21ec87",
   "metadata": {},
   "source": [
    "## 4. Which model’s performance is best and what could be the possible reason for that?\n",
    "--> After evaluating several regression models to predict the target variable the results are:\n",
    "\n",
    "**Linear Regression**\n",
    "\n",
    "- Training Mean Squared Error = 63730879.1359550\n",
    "- Training R2_score = 0.52630237260884154\n",
    "- Test Mean Squared Error = 59001659.906447\n",
    "- Test R2_score = 0.541474573250826 \n",
    "\n",
    "**Ridge Regression with single value of alpha**\n",
    "\n",
    "- Training Mean Squared Error = 63730889.42577503\n",
    "- Training R2_score = 0.5263022961268695\n",
    "- Test Mean Squared Error = 59004882.52410507\n",
    "- Test R2_score = 0.5414495290039472\n",
    "\n",
    "**Ridge Regression with range of alpha values**\n",
    "\n",
    "- Training Mean Squared Error = 63731339.46133641\n",
    "- Training R2_score = 0.5262989511113831\n",
    "- Test Mean Squared Error = 59023558.40331011\n",
    "- Test R2_score = 0.5413043912994151\n",
    "\n",
    "**Lasso Regression with range of alpha values**\n",
    "\n",
    "- Training Mean Squared Error = 63730999.938411035\n",
    "- Training R2_score = 0.526301474710718\n",
    "- Test Mean Squared Error = 58996302.64399261\n",
    "- Test R2_score = 0.5415162066736308\n",
    "\n",
    "**Desicion Tree Regressor**\n",
    "\n",
    "- Training Mean Squared Error = 50080759.93798329\n",
    "- Training R2_score = 0.6277607106288138\n",
    "- Test Mean Squared Error = 52329445.71586821\n",
    "- Test R2_score = 0.593327010350866\n",
    "\n",
    "**Desicion Tree Regressor with gridsearchcv and best params**\n",
    "\n",
    "- Training Mean Squared Error = 50080759.93798329\n",
    "- Training R2_score = 0.6277607106288138\n",
    "- Test Mean Squared Error = 52329445.71586821\n",
    "- Test R2_score = 0.593327010350866\n",
    "\n",
    "**Desicion Tree Regressor with Bagging Ensemble technique , gridsearchcv and best params**\n",
    "\n",
    "- Training Mean Squared Error = 7461446.530649338\n",
    "- Training R2_score = 0.944540706696755\n",
    "- Test Mean Squared Error = 43816045.50266767\n",
    "- Test R2_score = 0.6594880382276047\n",
    "\n",
    "**Decision tree regressor with random forest ensemble technique, gridsearchcv and best params**\n",
    "\n",
    "- Training Mean Squared Error = 19586475.44017278\n",
    "- Training R2_score = 0.8544180298349182\n",
    "- Test Mean Squared Error = 44681125.395981334\n",
    "- Test R2_score = 0.6527651574157305\n",
    "\n",
    "**Gradient Boosting Regressor**\n",
    "\n",
    "- Training Mean Squared Error = 60694369.45734041\n",
    "- Training R2_score = 0.5488720821407245\n",
    "- Test Mean Squared Error = 60304454.81678487\n",
    "- Test R2_score = 0.5313500344975681\n",
    "\n",
    "**Ada Boosting Regressor**\n",
    "\n",
    "- Training Mean Squared Error = 54180945.87022944\n",
    "- Training R2_score = 0.5972849291191272\n",
    "- Test Mean Squared Error = 51597939.181186706\n",
    "- Test R2_score = 0.5990118393288385\n",
    "\n",
    "**XG Boosting Regressor**\n",
    "\n",
    "- Training Mean Squared Error = 2471570.137151682\n",
    "- Training R2_score = 0.9816293620020209\n",
    "- Test Mean Squared Error = 47657375.17670642\n",
    "- Test R2_score = 0.629635533554589\n",
    "\n",
    "**RESULT**\n",
    "\n",
    "- Model with high test r2 score and least test mse will be the best model, so Desicion Tree Regressor with Bagging Ensemble technique , gridsearchcv and best params is the best model for salary prediction and Decision tree regressor with random forest ensemble technique, gridsearchcv and best params can also be considered as best model since there is only slight difference between r2 score and mse of this model with bagging regressor.\n",
    "\n",
    "Reason for Bagging regressor as best model\n",
    "\n",
    "- **R2 score**- The r2 score of this model is highest (0.6594880382276047) on test dataset among all the models, indicating that the model explains the variance in the data very well.\n",
    "- **Mean squared error**- The mse of this model is least (43816045.50266767) among all models on test dataset, indicating that average squared difference between the predicted and actual values is less compared to other models.\n",
    "- **Model optimization**- Model has been finely optimized with best hyperparameters(n_estimators=100) that fit the model very well making the model best for prediction.\n",
    "\n",
    "Reason for Random Forest Regressor as best model\n",
    "\n",
    "- **R2 score**- The r2 score of this model is slightly less (0.6527651574157305) as compared to Bagging regressor model, indicating that this model is also suitable for prediction.\n",
    "- **Mean squared error**- The mse of this model is (44681125.395981334) on test dataset, indicating that average squared difference between the predicted and actual values is less compared to other models but not with bagging regressor.\n",
    "- **Model optimization**- Model has been finely optimized with best hyperparameters(max_depth=30, min_samples_leaf=3, min_samples_split=3) that fit the model very well making the model best for prediction.\n",
    "\n",
    "Both the model performed very well and any one model can be used for prediction as there is slight variation between the metrics which could be due to random variation in data . So both the model are best."
   ]
  },
  {
   "cell_type": "markdown",
   "id": "c1c25e3f-194a-41d8-96c1-bf6b939ba6ff",
   "metadata": {},
   "source": [
    "## 5. What steps can you take to improve this selected model’s performance even further?\n",
    "To further enhance the performance of the selected model, following steps can be used:-\n",
    "\n",
    "**Hyperparameter tuning using GridSearchCV for Tree Regression:** \n",
    "Since the model seleted are decision tree regression so,\n",
    "- To further improve the performance of the Decision Tree Regression model, GridSearchCV can be used. This technique systematically searches through a range of hyperparameters to find the best combination that optimizes model performance.\n",
    "- Best hyperparameters that were used are:\n",
    "-    for bagging regressor: n_estimators=100\n",
    "-    for random forest regressor: max_depth=30, min_samples_leaf=3, min_samples_split=3\n",
    "- By using GridsearchCV Both the model were optimiised and using this they can be further improved.\n",
    "\n",
    "**Feature Engineering**\n",
    "- Creating new features or transforming existing ones can improve model performance\n"
   ]
  },
  {
   "cell_type": "code",
   "execution_count": null,
   "id": "543454dd-25a9-46c6-8508-a00bf5b9a600",
   "metadata": {},
   "outputs": [],
   "source": []
  },
  {
   "cell_type": "code",
   "execution_count": 78,
   "id": "a88ea047-5115-4a08-88df-64ddb1061ca6",
   "metadata": {},
   "outputs": [
    {
     "name": "stdout",
     "output_type": "stream",
     "text": [
      "lm1=linear regression model\n",
      "lm2=ridge regression with single alpha value model\n",
      "lm3=ridge regression with multiple alpha value model\n",
      "lm4=lasso regression model\n",
      "regtree=desicion tree regressor\n",
      "regtree2=decision tree regressor with gridsearch cv and best params\n",
      "bagging_reg2=Desicion Tree Regressor with Bagging Ensemble technique , gridsearchcv and best params\n",
      "rfr_gs1= Decision tree regressor with random forest ensemble technique, gridsearchcv and best params\n",
      "gbr=Gradient Boosting Regressor\n",
      "ada= ADA boosting Regressor\n",
      "xgb=Xgboosting regressor\n"
     ]
    }
   ],
   "source": [
    "print('lm1=linear regression model')\n",
    "print('lm2=ridge regression with single alpha value model')\n",
    "print('lm3=ridge regression with multiple alpha value model')\n",
    "print('lm4=lasso regression model')\n",
    "print('regtree=desicion tree regressor')\n",
    "print('regtree2=decision tree regressor with gridsearch cv and best params')\n",
    "print('bagging_reg2=Desicion Tree Regressor with Bagging Ensemble technique , gridsearchcv and best params')\n",
    "print('rfr_gs1= Decision tree regressor with random forest ensemble technique, gridsearchcv and best params')\n",
    "print('gbr=Gradient Boosting Regressor')\n",
    "print('ada= ADA boosting Regressor')\n",
    "print('xgb=Xgboosting regressor')"
   ]
  },
  {
   "cell_type": "code",
   "execution_count": null,
   "id": "b3743c4e-c6f7-4ac2-ba0e-ea24795d6228",
   "metadata": {},
   "outputs": [],
   "source": []
  }
 ],
 "metadata": {
  "kernelspec": {
   "display_name": "Python 3 (ipykernel)",
   "language": "python",
   "name": "python3"
  },
  "language_info": {
   "codemirror_mode": {
    "name": "ipython",
    "version": 3
   },
   "file_extension": ".py",
   "mimetype": "text/x-python",
   "name": "python",
   "nbconvert_exporter": "python",
   "pygments_lexer": "ipython3",
   "version": "3.11.7"
  }
 },
 "nbformat": 4,
 "nbformat_minor": 5
}
